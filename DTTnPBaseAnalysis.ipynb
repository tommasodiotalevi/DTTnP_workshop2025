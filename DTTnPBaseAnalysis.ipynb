{
 "cells": [
  {
   "cell_type": "markdown",
   "metadata": {},
   "source": [
    "# DT Tag-and-Probe (TnP) analysis"
   ]
  },
  {
   "cell_type": "markdown",
   "metadata": {},
   "source": [
    "This notebook features a simplified version of the Tag-and-Probe analysis of the CMS Drift Tubes (DT) for detector performance studies."
   ]
  },
  {
   "cell_type": "code",
   "execution_count": 1,
   "metadata": {
    "editable": true,
    "slideshow": {
     "slide_type": ""
    },
    "tags": []
   },
   "outputs": [],
   "source": [
    "distributed = False ## Default True - Enable DASK parallelisation\n",
    "MT = False ## Multi-threading - Disabled by default if distributed is True\n",
    "\n",
    "if distributed:\n",
    "    sched_port = 20334 ## Change this from the DASK cluster information panel"
   ]
  },
  {
   "cell_type": "markdown",
   "metadata": {
    "editable": true,
    "slideshow": {
     "slide_type": ""
    },
    "tags": []
   },
   "source": [
    "### Dask cluster configuration\n",
    "\n",
    "The following part configures the Dask cluster, that we launched previously in the JupyterLab interface."
   ]
  },
  {
   "cell_type": "code",
   "execution_count": 2,
   "metadata": {
    "scrolled": true
   },
   "outputs": [],
   "source": [
    "if distributed:  \n",
    "    from dask.distributed import Client\n",
    "    \n",
    "    client = Client(\"localhost:\" + str(sched_port))\n",
    "\n",
    "    client"
   ]
  },
  {
   "cell_type": "code",
   "execution_count": 3,
   "metadata": {},
   "outputs": [],
   "source": [
    "#client.restart() #Execute this only to restart the workers (to relaunch the notebook, for example#"
   ]
  },
  {
   "cell_type": "markdown",
   "metadata": {},
   "source": [
    "Upload the CMS X509 proxy (created using VOMS) in the Dask workers"
   ]
  },
  {
   "cell_type": "code",
   "execution_count": 4,
   "metadata": {},
   "outputs": [],
   "source": [
    "if distributed:\n",
    "    from distributed.diagnostics.plugin import UploadFile\n",
    "    \n",
    "    client.register_plugin(UploadFile(\"./proxy\"))"
   ]
  },
  {
   "cell_type": "markdown",
   "metadata": {},
   "source": [
    "Set the proxy environmental variables in the Dask workers"
   ]
  },
  {
   "cell_type": "code",
   "execution_count": 5,
   "metadata": {},
   "outputs": [],
   "source": [
    "def set_proxy(dask_worker):\n",
    "    import os\n",
    "    import shutil\n",
    "    working_dir = dask_worker.local_directory\n",
    "    proxy_name = 'proxy'\n",
    "    os.environ['X509_USER_PROXY'] = working_dir + '/' + proxy_name\n",
    "    os.environ['X509_CERT_DIR']=\"/cvmfs/grid.cern.ch/etc/grid-security/certificates/\"\n",
    "    return os.environ.get(\"X509_USER_PROXY\"), os.environ.get(\"X509_CERT_DIR\") "
   ]
  },
  {
   "cell_type": "code",
   "execution_count": 6,
   "metadata": {},
   "outputs": [],
   "source": [
    "if distributed:\n",
    "    client.run(set_proxy)"
   ]
  },
  {
   "cell_type": "markdown",
   "metadata": {},
   "source": [
    "### Import modules and local X509 proxy configuration\n",
    "\n",
    "Import necessary libraries, setup the plotting tools, and configure the local X509 environment"
   ]
  },
  {
   "cell_type": "code",
   "execution_count": 7,
   "metadata": {},
   "outputs": [],
   "source": [
    "import ROOT\n",
    "import os\n",
    "import json\n",
    "\n",
    "from python import TnPTools\n",
    "import configparser\n",
    "\n",
    "#Enable multi-threading - Not possible if using RDF::Filter (nEvents != -1)\n",
    "if distributed != True and MT == True:\n",
    "    print(\"Going Multi-threaded\")\n",
    "    ROOT.ROOT.EnableImplicitMT()\n",
    "\n",
    "num_stations = 4\n",
    "num_wheels = 5\n",
    "num_sectors = 14\n",
    "\n",
    "# Loading PROXY locally\n",
    "os.environ['X509_USER_PROXY'] = \"proxy\"\n",
    "os.environ['X509_CERT_DIR'] = \"/cvmfs/grid.cern.ch/etc/grid-security/certificates/\""
   ]
  },
  {
   "cell_type": "markdown",
   "metadata": {},
   "source": [
    "## Drift Tubes TnP analysis\n",
    "\n",
    "The following cells perform the DT Tag-and-Probe analysis ([CMS-DP-2023-049](https://cds.cern.ch/record/2868786?ln=en))"
   ]
  },
  {
   "cell_type": "markdown",
   "metadata": {},
   "source": [
    "First, we load the .INI file containing all the analysis variables initialization "
   ]
  },
  {
   "cell_type": "code",
   "execution_count": 8,
   "metadata": {},
   "outputs": [
    {
     "data": {
      "text/plain": [
       "['./config/config_RDF.ini']"
      ]
     },
     "execution_count": 8,
     "metadata": {},
     "output_type": "execute_result"
    }
   ],
   "source": [
    "config_file = './config/config_RDF.ini'\n",
    "config = configparser.ConfigParser()\n",
    "config.read(config_file)"
   ]
  },
  {
   "cell_type": "markdown",
   "metadata": {},
   "source": [
    "Then, we open the JSON histogram settings file (which location is defined in the INI file)"
   ]
  },
  {
   "cell_type": "code",
   "execution_count": 9,
   "metadata": {},
   "outputs": [],
   "source": [
    "with open(config['Histogram']['bookFileName']) as f:\n",
    "    histo_settings = json.loads(f.read())"
   ]
  },
  {
   "cell_type": "markdown",
   "metadata": {},
   "source": [
    "For every element in the inputFiles key in the config file, add the file to the `inputFiles` list"
   ]
  },
  {
   "cell_type": "code",
   "execution_count": 10,
   "metadata": {},
   "outputs": [],
   "source": [
    "inputFiles = []\n",
    "for i in config['Data']['inputFiles'].split(','):\n",
    "    if '.root' not in config['Data']['inputFiles']:\n",
    "        if config.has_option('Data','readRedirector'):\n",
    "            listdir = os.popen(\"xrdfs \" + config['Data']['readRedirector'] + \" ls \" + i).read()\n",
    "            inputFiles += sorted([\"root://{}/{}{}\".format(config['Data']['readRedirector'], i, f.split(\"/\")[-1]) for f in listdir.split(\"\\n\") if f.endswith('.root')])  \n",
    "        else:\n",
    "            inputFiles += sorted([os.path.join(i, f) for f in os.listdir(i) if f.endswith('.root')])\n",
    "    else:\n",
    "        if config.has_option('Data','readRedirector'):\n",
    "            if os.popen(\"xrdfs \" + config['Data']['readRedirector'] + \" ls \" + i).read() != \"\":\n",
    "                inputFiles.append(\"root://\" + config['Data']['readRedirector'] + \"/\" + i)\n",
    "        else:\n",
    "            if not os.path.exists(i):\n",
    "                print(\"\\033[91m File \" + i + \" not Found! \\033[0m\")\n",
    "                continue\n",
    "            inputFiles.append(i)\n",
    "tree_name = config['Data']['treeName']"
   ]
  },
  {
   "cell_type": "code",
   "execution_count": 11,
   "metadata": {},
   "outputs": [
    {
     "name": "stdout",
     "output_type": "stream",
     "text": [
      "['root://eosuser.cern.ch//eos/user/t/todiotal/DTTnP_example/nano_mu_0.root']\n"
     ]
    }
   ],
   "source": [
    "print(inputFiles)  # Only one example Muon NanoAOD file"
   ]
  },
  {
   "cell_type": "markdown",
   "metadata": {},
   "source": [
    "### Push and set auxiliary files\n",
    "\n",
    "The following cells upload the tools python module in the Dask workers (moving them in the worker's home folder)"
   ]
  },
  {
   "cell_type": "code",
   "execution_count": 12,
   "metadata": {},
   "outputs": [
    {
     "data": {
      "text/plain": [
       "'./python/TnPTools.py'"
      ]
     },
     "execution_count": 12,
     "metadata": {},
     "output_type": "execute_result"
    }
   ],
   "source": [
    "config['DataFrame']['TnPTools']"
   ]
  },
  {
   "cell_type": "code",
   "execution_count": 13,
   "metadata": {},
   "outputs": [],
   "source": [
    "if distributed:\n",
    "    client.register_plugin(UploadFile(config_file))\n",
    "    client.register_plugin(UploadFile(config['DataFrame']['TnPTools']))"
   ]
  },
  {
   "cell_type": "code",
   "execution_count": 14,
   "metadata": {},
   "outputs": [],
   "source": [
    "def set_auxiliary_files(dask_worker):\n",
    "    import os\n",
    "    import shutil\n",
    "    working_dir = dask_worker.local_directory\n",
    "    os.mkdir(working_dir + '/../../../config/')\n",
    "    os.mkdir(working_dir + '/../../../python/')\n",
    "    shutil.copyfile(working_dir + \"/\" + config_file.split(\"/\")[-1] , working_dir + '/../../../config/' + config_file.split(\"/\")[-1])\n",
    "    shutil.copyfile(working_dir + \"/\" + config['DataFrame']['TnPTools'].split(\"/\")[-1] , working_dir + '/../../../python/' + config['DataFrame']['TnPTools'].split(\"/\")[-1])\n",
    "    return os.listdir(\"/srv/config/\")"
   ]
  },
  {
   "cell_type": "code",
   "execution_count": 15,
   "metadata": {},
   "outputs": [],
   "source": [
    "if distributed:\n",
    "    client.run(set_auxiliary_files)"
   ]
  },
  {
   "cell_type": "markdown",
   "metadata": {},
   "source": [
    "### Declare custom functions in RDF\n",
    "\n",
    "Declare to the ROOT interpreter the header file which contains custom defined functions: this is done inside an inizialization function, which is necessary in the case of distributed execution (it is executed at the beginning of each task)."
   ]
  },
  {
   "cell_type": "code",
   "execution_count": 16,
   "metadata": {},
   "outputs": [
    {
     "name": "stdout",
     "output_type": "stream",
     "text": [
      "./interface/df_tools.h\n"
     ]
    }
   ],
   "source": [
    "text_file = open(config['DataFrame']['customFunctions'], \"r\")\n",
    "data = text_file.read()\n",
    "print(config['DataFrame']['customFunctions'])\n",
    "\n",
    "def my_initialization_function():\n",
    "    ROOT.gInterpreter.AddIncludePath(\"/usr/lib/boost_1_77_0\")\n",
    "    ROOT.gInterpreter.Declare('const string configFile = \"{}\";'.format(config_file))\n",
    "    ROOT.gInterpreter.Declare(f\"\"\"\n",
    "        R__LOAD_LIBRARY(libPhysics);\n",
    "        {data}\n",
    "    \"\"\")\n",
    "\n",
    "if distributed:\n",
    "    ROOT.RDF.Experimental.Distributed.initialize(my_initialization_function)\n",
    "else:\n",
    "    my_initialization_function()"
   ]
  },
  {
   "cell_type": "markdown",
   "metadata": {},
   "source": [
    "### DataFrame creation and execution on Dask workers\n",
    "\n",
    "After all the preliminary steps, we are now ready to **perform the analysis** using ROOT RDataFrame (in distributed mode).\\\n",
    "**The documentation for the usage of distributed RDF is available [here](https://root.cern/doc/v628/classROOT_1_1RDataFrame.html#distrdf).**"
   ]
  },
  {
   "cell_type": "markdown",
   "metadata": {},
   "source": [
    "First, we set the granularity of the execution: how many partitions (i.e. tasks) we want our computation to run in. There is no fixed rule, this configuration depens on the analysis and the input file size.\n",
    "In our example, we set the `npartitions` to 3 times the number of Dask workers we created in our Cluster (such information can be retrieved using the `dask.distributed` Client API)."
   ]
  },
  {
   "cell_type": "code",
   "execution_count": 17,
   "metadata": {},
   "outputs": [],
   "source": [
    "if distributed:\n",
    "    numWorkers= len(client.scheduler_info()['workers'])\n",
    "    npartitions = 3 * numWorkers\n",
    "    print(\"Number of workers is: {}\".format(numWorkers))\n",
    "    print(\"Number of total partitions is: {}\".format(npartitions))"
   ]
  },
  {
   "cell_type": "markdown",
   "metadata": {},
   "source": [
    "These are the branches we are going to use as input"
   ]
  },
  {
   "cell_type": "code",
   "execution_count": 18,
   "metadata": {},
   "outputs": [],
   "source": [
    "inputBranches = [\"run\", \"nmuon\", \"muon_pt\", \"muon_eta\", \"muon_phi\", \n",
    "                \"muon_charge\", \"muon_isRPC\", \"muon_isTracker\", \"muon_isTight\", \n",
    "                \"muon_trk_dz\", \"muon_pfIso04\", \"muon_trk_origAlgo\", \n",
    "                \"muon_trk_numberOfValidPixelHits\", \"muon_trk_numberOfValidTrackerLayers\",\n",
    "                \"muon_rpcMu_numberOfMatchedRPCLayers\", \"muon_trkMu_stationMask\", \n",
    "                \"muon_firesIsoTrig\", \"muon_firesTrig\", \"ndtSegment\", \n",
    "                \"muon_matches_station\", \"muon_matches_wheel\",\n",
    "                \"muon_matches_sector\", \"muon_matches_x\", \"muon_matches_y\", \"muon_matches_edgeX\",\n",
    "                \"muon_matches_edgeY\", \"muon_matches_begin\", \"muon_matches_end\", \"dtSegment_wheel\", \"dtSegment_sector\", \"dtSegment_station\",\n",
    "                \"dtSegment_seg4D_posLoc_x\", \"dtSegment_seg4D_posLoc_y\", \"dtSegment_seg2D_phi_t0\", \"dtSegment_seg4D_hasPhi\", \"dtSegment_seg4D_hasZed\",\n",
    "                \"dtSegment_seg2D_phi_nHits\", \"dtSegment_seg2D_z_nHits\"]"
   ]
  },
  {
   "cell_type": "markdown",
   "metadata": {},
   "source": [
    "Initialize the dataframe (classic or distributed)"
   ]
  },
  {
   "cell_type": "code",
   "execution_count": 19,
   "metadata": {},
   "outputs": [
    {
     "name": "stderr",
     "output_type": "stream",
     "text": [
      "Warning in <TClass::Init>: no dictionary for class edm::Hash<1> is available\n",
      "Warning in <TClass::Init>: no dictionary for class edm::ParameterSetBlob is available\n",
      "Warning in <TClass::Init>: no dictionary for class edm::ProcessHistory is available\n",
      "Warning in <TClass::Init>: no dictionary for class edm::ProcessConfiguration is available\n",
      "Warning in <TClass::Init>: no dictionary for class pair<edm::Hash<1>,edm::ParameterSetBlob> is available\n"
     ]
    }
   ],
   "source": [
    "if distributed:\n",
    "    df = ROOT.RDF.Experimental.Distributed.Dask.RDataFrame(tree_name, inputFiles, npartitions=npartitions, daskclient=client) #len(inputFileName_list)\n",
    "else:\n",
    "    df = ROOT.RDataFrame(tree_name, inputFiles, inputBranches)"
   ]
  },
  {
   "cell_type": "markdown",
   "metadata": {},
   "source": [
    "Defining the probe and pair variables (using the logic defined in the header file)"
   ]
  },
  {
   "cell_type": "code",
   "execution_count": 20,
   "metadata": {},
   "outputs": [],
   "source": [
    "df = df.Define(\"probeIntVars\", \"setProbeVars<Int_t>(nmuon, muon_charge, muon_isTight, muon_isRPC, muon_firesTrig, muon_firesIsoTrig, \\\n",
    "               muon_isTracker, muon_trk_numberOfValidPixelHits, muon_trk_numberOfValidTrackerLayers, muon_rpcMu_numberOfMatchedRPCLayers, \\\n",
    "               muon_trk_origAlgo, muon_pfIso04, muon_pt, muon_eta, muon_phi, muon_trk_dz)\")\\\n",
    "       .Define(\"probeFloatVars\", \"setProbeVars<Float_t>(nmuon, muon_charge, muon_isTight, muon_isRPC, muon_firesTrig, muon_firesIsoTrig, \\\n",
    "               muon_isTracker, muon_trk_numberOfValidPixelHits, muon_trk_numberOfValidTrackerLayers, muon_rpcMu_numberOfMatchedRPCLayers, \\\n",
    "               muon_trk_origAlgo, muon_pfIso04, muon_pt, muon_eta, muon_phi, muon_trk_dz)\")\\\n",
    "       .Define(\"probeNPixelHits\", \"probeIntVars[0]\")\\\n",
    "       .Define(\"probeNTrkLayers\", \"probeIntVars[1]\")\\\n",
    "       .Define(\"probeNRPCLayers\", \"probeIntVars[2]\")\\\n",
    "       .Define(\"probeOrigAlgo\", \"probeIntVars[3]\")\\\n",
    "       .Define(\"pair_tagID\", \"probeIntVars[4]\")\\\n",
    "       .Define(\"pair_probeID\", \"probeIntVars[5]\")\\\n",
    "       .Define(\"probeReliso\", \"probeFloatVars[0]\")\\\n",
    "       .Define(\"pairMass\", \"probeFloatVars[1]\")\\\n",
    "       .Define(\"probePt\", \"probeFloatVars[2]\")\\\n",
    "       .Define(\"pairDr\", \"probeFloatVars[3]\")\\\n",
    "       .Define(\"pairDz\", \"probeFloatVars[4]\")"
   ]
  },
  {
   "cell_type": "markdown",
   "metadata": {},
   "source": [
    "Defining the segment efficiency variables"
   ]
  },
  {
   "cell_type": "code",
   "execution_count": 21,
   "metadata": {},
   "outputs": [],
   "source": [
    "df = df.Define(\"segmentMapFloatEffVars\", \"segmentEfficiency<Float_t>(pair_probeID, muon_rpcMu_numberOfMatchedRPCLayers, run, muon_pt, muon_eta, muon_phi, muon_charge, muon_trkMu_stationMask, ndtSegment, muon_matches_station, muon_matches_wheel, muon_matches_sector, muon_matches_x, muon_matches_y, muon_matches_edgeX, muon_matches_edgeY, muon_matches_begin, muon_matches_end, dtSegment_wheel, dtSegment_sector, dtSegment_station, dtSegment_seg4D_posLoc_x, dtSegment_seg4D_posLoc_y, dtSegment_seg2D_phi_t0, dtSegment_seg4D_hasPhi, dtSegment_seg4D_hasZed, dtSegment_seg2D_phi_nHits, dtSegment_seg2D_z_nHits)\")\\\n",
    "       .Define(\"segmentMapIntEffVars\", \"segmentEfficiency<Int_t>(pair_probeID, muon_rpcMu_numberOfMatchedRPCLayers, run, muon_pt, muon_eta, muon_phi, muon_charge, muon_trkMu_stationMask, ndtSegment, muon_matches_station, muon_matches_wheel, muon_matches_sector, muon_matches_x, muon_matches_y, muon_matches_edgeX, muon_matches_edgeY, muon_matches_begin, muon_matches_end, dtSegment_wheel, dtSegment_sector, dtSegment_station, dtSegment_seg4D_posLoc_x, dtSegment_seg4D_posLoc_y, dtSegment_seg2D_phi_t0, dtSegment_seg4D_hasPhi, dtSegment_seg4D_hasZed, dtSegment_seg2D_phi_nHits, dtSegment_seg2D_z_nHits)\")\\\n",
    "       .Define(\"probeMuonEta\", \"segmentMapFloatEffVars[\\\"probeMuonEta\\\"]\")\\\n",
    "       .Define(\"nMatchInOtherCh\", \"segmentMapIntEffVars[\\\"nMatchInOtherCh\\\"]\")\\\n",
    "       .Define(\"effSecVsWhsecBinOnepassd\", \"segmentMapFloatEffVars[\\\"effSecVsWhAllOnesecpassd\\\"]\")\\\n",
    "       .Define(\"effSecVsWhsecBinOnetotal\", \"segmentMapFloatEffVars[\\\"effSecVsWhAllOnesectotal\\\"]\")\\\n",
    "       .Define(\"effSecVsWhwhBinOnepassd\", \"segmentMapFloatEffVars[\\\"effSecVsWhAllOnewhpassd\\\"]\")\\\n",
    "       .Define(\"effSecVsWhwhBinOnetotal\", \"segmentMapFloatEffVars[\\\"effSecVsWhAllOnewhtotal\\\"]\")\\\n",
    "       .Define(\"effSecVsWhsecBinTwopassd\", \"segmentMapFloatEffVars[\\\"effSecVsWhAllTwosecpassd\\\"]\")\\\n",
    "       .Define(\"effSecVsWhsecBinTwototal\", \"segmentMapFloatEffVars[\\\"effSecVsWhAllTwosectotal\\\"]\")\\\n",
    "       .Define(\"effSecVsWhwhBinTwopassd\", \"segmentMapFloatEffVars[\\\"effSecVsWhAllTwowhpassd\\\"]\")\\\n",
    "       .Define(\"effSecVsWhwhBinTwototal\", \"segmentMapFloatEffVars[\\\"effSecVsWhAllTwowhtotal\\\"]\")\n",
    "\n",
    "for i in range(num_stations):\n",
    "    df = df.Define(\"effAccVsEtaMB{}passd\".format(str(i+1)), \"segmentMapFloatEffVars[\\\"effAccVsEtaMB{}passd\\\"]\".format(str(i+1)))\\\n",
    "       .Define(\"effAccVsEtaMB{}total\".format(str(i+1)), \"segmentMapFloatEffVars[\\\"effAccVsEtaMB{}total\\\"]\".format(str(i+1)))\\\n",
    "       .Define(\"effAccPhiVsEtaPlusMB{}etapassd\".format(str(i+1)), \"segmentMapFloatEffVars[\\\"effAccPhiVsEtaPlusMB{}etapassd\\\"]\".format(str(i+1)))\\\n",
    "       .Define(\"effAccPhiVsEtaPlusMB{}etatotal\".format(str(i+1)), \"segmentMapFloatEffVars[\\\"effAccPhiVsEtaPlusMB{}etatotal\\\"]\".format(str(i+1)))\\\n",
    "       .Define(\"effAccPhiVsEtaPlusMB{}phipassd\".format(str(i+1)), \"segmentMapFloatEffVars[\\\"effAccPhiVsEtaPlusMB{}phipassd\\\"]\".format(str(i+1)))\\\n",
    "       .Define(\"effAccPhiVsEtaPlusMB{}phitotal\".format(str(i+1)), \"segmentMapFloatEffVars[\\\"effAccPhiVsEtaPlusMB{}phitotal\\\"]\".format(str(i+1)))\\\n",
    "       .Define(\"effAccPhiVsEtaMinusMB{}etapassd\".format(str(i+1)), \"segmentMapFloatEffVars[\\\"effAccPhiVsEtaMinusMB{}etapassd\\\"]\".format(str(i+1)))\\\n",
    "       .Define(\"effAccPhiVsEtaMinusMB{}etatotal\".format(str(i+1)), \"segmentMapFloatEffVars[\\\"effAccPhiVsEtaMinusMB{}etatotal\\\"]\".format(str(i+1)))\\\n",
    "       .Define(\"effAccPhiVsEtaMinusMB{}phipassd\".format(str(i+1)), \"segmentMapFloatEffVars[\\\"effAccPhiVsEtaMinusMB{}phipassd\\\"]\".format(str(i+1)))\\\n",
    "       .Define(\"effAccPhiVsEtaMinusMB{}phitotal\".format(str(i+1)), \"segmentMapFloatEffVars[\\\"effAccPhiVsEtaMinusMB{}phitotal\\\"]\".format(str(i+1)))\\\n",
    "       .Define(\"effAccVsPhiPlusMB{}passd\".format(str(i+1)), \"segmentMapFloatEffVars[\\\"effAccVsPhiPlusMB{}passd\\\"]\".format(str(i+1)))\\\n",
    "       .Define(\"effAccVsPhiPlusMB{}total\".format(str(i+1)), \"segmentMapFloatEffVars[\\\"effAccVsPhiPlusMB{}total\\\"]\".format(str(i+1)))\\\n",
    "       .Define(\"effAccVsPhiMinusMB{}passd\".format(str(i+1)), \"segmentMapFloatEffVars[\\\"effAccVsPhiMinusMB{}passd\\\"]\".format(str(i+1)))\\\n",
    "       .Define(\"effAccVsPhiMinusMB{}total\".format(str(i+1)), \"segmentMapFloatEffVars[\\\"effAccVsPhiMinusMB{}total\\\"]\".format(str(i+1)))\\\n",
    "       .Define(\"effAccVsPtMB{}passd\".format(str(i+1)), \"segmentMapFloatEffVars[\\\"effAccVsPtMB{}passd\\\"]\".format(str(i+1)))\\\n",
    "       .Define(\"effAccVsPtMB{}total\".format(str(i+1)), \"segmentMapFloatEffVars[\\\"effAccVsPtMB{}total\\\"]\".format(str(i+1)))\\\n",
    "       .Define(\"effVsPtMB{}passd\".format(str(i+1)), \"segmentMapFloatEffVars[\\\"effVsPtMB{}passd\\\"]\".format(str(i+1)))\\\n",
    "       .Define(\"effVsPtMB{}total\".format(str(i+1)), \"segmentMapFloatEffVars[\\\"effVsPtMB{}total\\\"]\".format(str(i+1)))\\\n",
    "       .Define(\"effSecVsWhMB{}secmupassd\".format(str(i+1)), \"segmentMapFloatEffVars[\\\"effSecVsWhMB{}secmupassd\\\"]\".format(str(i+1)))\\\n",
    "       .Define(\"effSecVsWhMB{}secmutotal\".format(str(i+1)), \"segmentMapFloatEffVars[\\\"effSecVsWhMB{}secmutotal\\\"]\".format(str(i+1)))\\\n",
    "       .Define(\"effSecVsWhMB{}whmupassd\".format(str(i+1)), \"segmentMapFloatEffVars[\\\"effSecVsWhMB{}whmupassd\\\"]\".format(str(i+1)))\\\n",
    "       .Define(\"effSecVsWhMB{}whmutotal\".format(str(i+1)), \"segmentMapFloatEffVars[\\\"effSecVsWhMB{}whmutotal\\\"]\".format(str(i+1)))\\\n",
    "       .Define(\"effVsNHitsPhiMB{}passd\".format(str(i+1)), \"segmentMapIntEffVars[\\\"effVsNHitsPhiMB{}passd\\\"]\".format(str(i+1)))\\\n",
    "       .Define(\"effVsNHitsPhiMB{}total\".format(str(i+1)), \"segmentMapIntEffVars[\\\"effVsNHitsPhiMB{}total\\\"]\".format(str(i+1)))\\\n",
    "       .Define(\"probePtMB{}\".format(str(i+1)), \"segmentMapFloatEffVars[\\\"probePtMB{}\\\"]\".format(str(i+1)))\\\n",
    "       .Define(\"probeEtaMB{}\".format(str(i+1)), \"segmentMapFloatEffVars[\\\"probeEtaMB{}\\\"]\".format(str(i+1)))\\\n",
    "       .Define(\"probePhiMB{}\".format(str(i+1)), \"segmentMapFloatEffVars[\\\"probePhiMB{}\\\"]\".format(str(i+1)))\\\n",
    "       .Define(\"probePt_hasPhiMB{}\".format(str(i+1)), \"segmentMapFloatEffVars[\\\"probePt_hasPhiMB{}\\\"]\".format(str(i+1)))\\\n",
    "       .Define(\"probeDrVsPtMB{}\".format(str(i+1)), \"segmentMapFloatEffVars[\\\"probeDrVsPtMB{}\\\"]\".format(str(i+1)))\\\n",
    "       .Define(\"probeDxVsPtMB{}\".format(str(i+1)), \"segmentMapFloatEffVars[\\\"probeDxVsPtMB{}\\\"]\".format(str(i+1)))\\\n",
    "       .Define(\"probeDyVsPtMB{}\".format(str(i+1)), \"segmentMapFloatEffVars[\\\"probeDyVsPtMB{}\\\"]\".format(str(i+1)))\\\n",
    "       .Define(\"t0MB{}secBin\".format(str(i+1)), \"segmentMapFloatEffVars[\\\"t0MB{}secBin\\\"]\".format(str(i+1)))\\\n",
    "       .Define(\"t0MB{}t0\".format(str(i+1)), \"segmentMapFloatEffVars[\\\"t0MB{}t0\\\"]\".format(str(i+1)))"
   ]
  },
  {
   "cell_type": "markdown",
   "metadata": {},
   "source": [
    "Book the histograms based on the informations provided in the JSON file."
   ]
  },
  {
   "cell_type": "code",
   "execution_count": 22,
   "metadata": {},
   "outputs": [
    {
     "name": "stdout",
     "output_type": "stream",
     "text": [
      "Booked histo: probeNPixelHits\n",
      "Booked histo: probeNTrkLayers\n",
      "Booked histo: probeNRPCLayers\n",
      "Booked histo: probeOrigAlgo\n",
      "Booked histo: probeReliso\n",
      "Booked histo: pairMass\n",
      "Booked histo: pairDz\n",
      "Booked histo: effAccVsEtaMB1\n",
      "Booked histo: probePtMB1\n",
      "Booked histo: probeEtaMB1\n",
      "Booked histo: probePhiMB1\n",
      "Booked histo: effAccVsPhiPlusMB1\n",
      "Booked histo: effAccVsPhiMinusMB1\n",
      "Booked histo: effAccVsPtMB1\n",
      "Booked histo: effVsPtMB1\n",
      "Booked histo: effVsNHitsPhiMB1\n",
      "Booked histo: effAccVsEtaMB2\n",
      "Booked histo: probePtMB2\n",
      "Booked histo: probeEtaMB2\n",
      "Booked histo: probePhiMB2\n",
      "Booked histo: effAccVsPhiPlusMB2\n",
      "Booked histo: effAccVsPhiMinusMB2\n",
      "Booked histo: effAccVsPtMB2\n",
      "Booked histo: effVsPtMB2\n",
      "Booked histo: effVsNHitsPhiMB2\n",
      "Booked histo: effAccVsEtaMB3\n",
      "Booked histo: probePtMB3\n",
      "Booked histo: probeEtaMB3\n",
      "Booked histo: probePhiMB3\n",
      "Booked histo: effAccVsPhiPlusMB3\n",
      "Booked histo: effAccVsPhiMinusMB3\n",
      "Booked histo: effAccVsPtMB3\n",
      "Booked histo: effVsPtMB3\n",
      "Booked histo: effVsNHitsPhiMB3\n",
      "Booked histo: effAccVsEtaMB4\n",
      "Booked histo: probePtMB4\n",
      "Booked histo: probeEtaMB4\n",
      "Booked histo: probePhiMB4\n",
      "Booked histo: effAccVsPhiPlusMB4\n",
      "Booked histo: effAccVsPhiMinusMB4\n",
      "Booked histo: effAccVsPtMB4\n",
      "Booked histo: effVsPtMB4\n",
      "Booked histo: effVsNHitsPhiMB4\n",
      "Booked histo: probePtVsPairDr\n",
      "Booked histo: nOtherMatchedChVsEta\n",
      "Booked histo: effSecVsWhAllOne\n",
      "Booked histo: effSecVsWhAllTwo\n",
      "Booked histo: effAccPhiVsEtaPlusMB1\n",
      "Booked histo: effAccPhiVsEtaMinusMB1\n",
      "Booked histo: probeDrVsPtMB1\n",
      "Booked histo: probeDxVsPtMB1\n",
      "Booked histo: probeDyVsPtMB1\n",
      "Booked histo: effSecVsWhMB1\n",
      "Booked histo: t0MB1\n",
      "Booked histo: effAccPhiVsEtaPlusMB2\n",
      "Booked histo: effAccPhiVsEtaMinusMB2\n",
      "Booked histo: probeDrVsPtMB2\n",
      "Booked histo: probeDxVsPtMB2\n",
      "Booked histo: probeDyVsPtMB2\n",
      "Booked histo: effSecVsWhMB2\n",
      "Booked histo: t0MB2\n",
      "Booked histo: effAccPhiVsEtaPlusMB3\n",
      "Booked histo: effAccPhiVsEtaMinusMB3\n",
      "Booked histo: probeDrVsPtMB3\n",
      "Booked histo: probeDxVsPtMB3\n",
      "Booked histo: probeDyVsPtMB3\n",
      "Booked histo: effSecVsWhMB3\n",
      "Booked histo: t0MB3\n",
      "Booked histo: effAccPhiVsEtaPlusMB4\n",
      "Booked histo: effAccPhiVsEtaMinusMB4\n",
      "Booked histo: probeDrVsPtMB4\n",
      "Booked histo: probeDxVsPtMB4\n",
      "Booked histo: probeDyVsPtMB4\n",
      "Booked histo: effSecVsWhMB4\n",
      "Booked histo: t0MB4\n",
      "Booked histo: t0ProfileMB1\n",
      "Booked histo: t0ProfileMB2\n",
      "Booked histo: t0ProfileMB3\n",
      "Booked histo: t0ProfileMB4\n"
     ]
    }
   ],
   "source": [
    "booked_1Dhistos = {\n",
    "    'probeNPixelHits': 'probeNPixelHits',\n",
    "    'probeNTrkLayers': 'probeNTrkLayers',\n",
    "    'probeNRPCLayers': 'probeNRPCLayers',\n",
    "    'probeOrigAlgo': 'probeOrigAlgo',\n",
    "    'probeReliso': 'probeReliso',\n",
    "    'pairMass': 'pairMass',\n",
    "    'pairDz': 'pairDz'}\n",
    "\n",
    "for i in range(num_stations):\n",
    "    booked_1Dhistos[\"effAccVsEtaMB{}\".format(str(i+1))] = \"effAccVsEtaMB{}\".format(str(i+1))\n",
    "    booked_1Dhistos[\"probePtMB{}\".format(str(i+1))] = \"probePtMB{}\".format(str(i+1))\n",
    "    booked_1Dhistos[\"probeEtaMB{}\".format(str(i+1))] = \"probeEtaMB{}\".format(str(i+1))\n",
    "    booked_1Dhistos[\"probePhiMB{}\".format(str(i+1))] = \"probePhiMB{}\".format(str(i+1))\n",
    "    booked_1Dhistos[\"effAccVsPhiPlusMB{}\".format(str(i+1))] = \"effAccVsPhiPlusMB{}\".format(str(i+1))\n",
    "    booked_1Dhistos[\"effAccVsPhiMinusMB{}\".format(str(i+1))] = \"effAccVsPhiMinusMB{}\".format(str(i+1))\n",
    "    booked_1Dhistos[\"effAccVsPtMB{}\".format(str(i+1))] = \"effAccVsPtMB{}\".format(str(i+1))\n",
    "    booked_1Dhistos[\"effVsPtMB{}\".format(str(i+1))] = \"effVsPtMB{}\".format(str(i+1))\n",
    "    booked_1Dhistos[\"effVsNHitsPhiMB{}\".format(str(i+1))] = \"effVsNHitsPhiMB{}\".format(str(i+1))\n",
    "\n",
    "booked_2Dhistos = {\n",
    "    'probePtVsPairDr': ['probePt', 'pairDr'],\n",
    "    'nOtherMatchedChVsEta': ['probeMuonEta', 'nMatchInOtherCh'],\n",
    "    'effSecVsWhAllOne': ['effSecVsWhsecBinOne', 'effSecVsWhwhBinOne'],\n",
    "    'effSecVsWhAllTwo': ['effSecVsWhwhBinTwo', 'effSecVsWhsecBinTwo']\n",
    "}\n",
    "\n",
    "for i in range(num_stations):\n",
    "    booked_2Dhistos[\"effAccPhiVsEtaPlusMB{}\".format(str(i+1))] = [\"effAccPhiVsEtaPlusMB{}phi\".format(str(i+1)), \"effAccPhiVsEtaPlusMB{}eta\".format(str(i+1))]\n",
    "    booked_2Dhistos[\"effAccPhiVsEtaMinusMB{}\".format(str(i+1))] = [\"effAccPhiVsEtaMinusMB{}phi\".format(str(i+1)), \"effAccPhiVsEtaMinusMB{}eta\".format(str(i+1))]\n",
    "    booked_2Dhistos[\"probeDrVsPtMB{}\".format(str(i+1))] = [\"probePt_hasPhiMB{}\".format(str(i+1)), \"probeDrVsPtMB{}\".format(str(i+1))]\n",
    "    booked_2Dhistos[\"probeDxVsPtMB{}\".format(str(i+1))] = [\"probePt_hasPhiMB{}\".format(str(i+1)), \"probeDxVsPtMB{}\".format(str(i+1))]\n",
    "    booked_2Dhistos[\"probeDyVsPtMB{}\".format(str(i+1))] = [\"probePt_hasPhiMB{}\".format(str(i+1)), \"probeDyVsPtMB{}\".format(str(i+1))]\n",
    "    booked_2Dhistos[\"effSecVsWhMB{}\".format(str(i+1))] = [\"effSecVsWhMB{}secmu\".format(str(i+1)), \"effSecVsWhMB{}whmu\".format(str(i+1))]\n",
    "    booked_2Dhistos[\"t0MB{}\".format(str(i+1))] = [\"t0MB{}secBin\".format(str(i+1)), \"t0MB{}t0\".format(str(i+1))]\n",
    "\n",
    "booked_profile = {}\n",
    "\n",
    "for i in range(num_stations):\n",
    "    booked_profile[\"t0ProfileMB{}\".format(str(i+1))] = [\"t0MB{}secBin\".format(str(i+1)), \"t0MB{}t0\".format(str(i+1))]\n",
    "\n",
    "histograms = {}\n",
    "\n",
    "TnPTools.book_1Dhistos(df, histograms, booked_1Dhistos, histo_settings)\n",
    "TnPTools.book_2Dhistos(df, histograms, booked_2Dhistos, histo_settings)\n",
    "TnPTools.book_profile(df, histograms, booked_profile, histo_settings)"
   ]
  },
  {
   "cell_type": "markdown",
   "metadata": {},
   "source": [
    "The above cells (in distributed mode) are *lazy*, meaning they don't trigger any computational graph. **The cell below**, on the other hand, **starts the execution**. You can see the resource usage in the `Workers` page of the Dask LabExtension!"
   ]
  },
  {
   "cell_type": "code",
   "execution_count": 23,
   "metadata": {},
   "outputs": [
    {
     "name": "stdout",
     "output_type": "stream",
     "text": [
      "Created Histo: probeNPixelHits\n",
      "Created Histo: probeNTrkLayers\n",
      "Created Histo: probeNRPCLayers\n",
      "Created Histo: probeOrigAlgo\n",
      "Created Histo: probeReliso\n",
      "Created Histo: pairMass\n",
      "Created Histo: pairDz\n",
      "Created Histo: effAccVsEtaMB1\n",
      "Created Histo: probePtMB1\n",
      "Created Histo: probeEtaMB1\n",
      "Created Histo: probePhiMB1\n",
      "Created Histo: effAccVsPhiPlusMB1\n",
      "Created Histo: effAccVsPhiMinusMB1\n",
      "Created Histo: effAccVsPtMB1\n",
      "Created Histo: effVsPtMB1\n",
      "Created Histo: effVsNHitsPhiMB1\n",
      "Created Histo: effAccVsEtaMB2\n",
      "Created Histo: probePtMB2\n",
      "Created Histo: probeEtaMB2\n",
      "Created Histo: probePhiMB2\n",
      "Created Histo: effAccVsPhiPlusMB2\n",
      "Created Histo: effAccVsPhiMinusMB2\n",
      "Created Histo: effAccVsPtMB2\n",
      "Created Histo: effVsPtMB2\n",
      "Created Histo: effVsNHitsPhiMB2\n",
      "Created Histo: effAccVsEtaMB3\n",
      "Created Histo: probePtMB3\n",
      "Created Histo: probeEtaMB3\n",
      "Created Histo: probePhiMB3\n",
      "Created Histo: effAccVsPhiPlusMB3\n",
      "Created Histo: effAccVsPhiMinusMB3\n",
      "Created Histo: effAccVsPtMB3\n",
      "Created Histo: effVsPtMB3\n",
      "Created Histo: effVsNHitsPhiMB3\n",
      "Created Histo: effAccVsEtaMB4\n",
      "Created Histo: probePtMB4\n",
      "Created Histo: probeEtaMB4\n",
      "Created Histo: probePhiMB4\n",
      "Created Histo: effAccVsPhiPlusMB4\n",
      "Created Histo: effAccVsPhiMinusMB4\n",
      "Created Histo: effAccVsPtMB4\n",
      "Created Histo: effVsPtMB4\n",
      "Created Histo: effVsNHitsPhiMB4\n",
      "Created Histo: probePtVsPairDr\n",
      "Created Histo: nOtherMatchedChVsEta\n",
      "Created Histo: effSecVsWhAllOne\n",
      "Created Histo: effSecVsWhAllTwo\n",
      "Created Histo: effAccPhiVsEtaPlusMB1\n",
      "Created Histo: effAccPhiVsEtaMinusMB1\n",
      "Created Histo: probeDrVsPtMB1\n",
      "Created Histo: probeDxVsPtMB1\n",
      "Created Histo: probeDyVsPtMB1\n",
      "Created Histo: effSecVsWhMB1\n",
      "Created Histo: t0MB1\n",
      "Created Histo: effAccPhiVsEtaPlusMB2\n",
      "Created Histo: effAccPhiVsEtaMinusMB2\n",
      "Created Histo: probeDrVsPtMB2\n",
      "Created Histo: probeDxVsPtMB2\n",
      "Created Histo: probeDyVsPtMB2\n",
      "Created Histo: effSecVsWhMB2\n",
      "Created Histo: t0MB2\n",
      "Created Histo: effAccPhiVsEtaPlusMB3\n",
      "Created Histo: effAccPhiVsEtaMinusMB3\n",
      "Created Histo: probeDrVsPtMB3\n",
      "Created Histo: probeDxVsPtMB3\n",
      "Created Histo: probeDyVsPtMB3\n",
      "Created Histo: effSecVsWhMB3\n",
      "Created Histo: t0MB3\n",
      "Created Histo: effAccPhiVsEtaPlusMB4\n",
      "Created Histo: effAccPhiVsEtaMinusMB4\n",
      "Created Histo: probeDrVsPtMB4\n",
      "Created Histo: probeDxVsPtMB4\n",
      "Created Histo: probeDyVsPtMB4\n",
      "Created Histo: effSecVsWhMB4\n",
      "Created Histo: t0MB4\n",
      "Created Histo: t0ProfileMB1\n",
      "Created Histo: t0ProfileMB2\n",
      "Created Histo: t0ProfileMB3\n",
      "Created Histo: t0ProfileMB4\n",
      "CPU times: user 1min 3s, sys: 1.24 s, total: 1min 4s\n",
      "Wall time: 4min 59s\n"
     ]
    }
   ],
   "source": [
    "%%time\n",
    "TnPTools.write_histos(histograms, config)"
   ]
  },
  {
   "cell_type": "markdown",
   "metadata": {},
   "source": [
    "The output is a ROOT file containing several histograms and plots. This last cell only saves a few of them as image, displaying them also in the notebook using the `%jsroot` magic "
   ]
  },
  {
   "cell_type": "code",
   "execution_count": 24,
   "metadata": {},
   "outputs": [
    {
     "name": "stderr",
     "output_type": "stream",
     "text": [
      "Info in <TCanvas::Print>: png file ./output/pairMass.png has been created\n"
     ]
    },
    {
     "data": {
      "text/html": [
       "\n",
       "\n",
       "<div id=\"root_plot_1736009227475\" style=\"width: 800px; height: 600px; position: relative\">\n",
       "</div>\n",
       "\n",
       "<script>\n",
       "\n",
       "function display_root_plot_1736009227475(Core) {\n",
       "   let obj = Core.parse({\"_typename\":\"TCanvasWebSnapshot\",\"fUniqueID\":0,\"fBits\":0,\"fObjectID\":\"\",\"fOption\":\"\",\"fKind\":3,\"fSnapshot\":{\"_typename\":\"TCanvas\",\"fUniqueID\":0,\"fBits\":3342344,\"fLineColor\":1,\"fLineStyle\":1,\"fLineWidth\":1,\"fFillColor\":0,\"fFillStyle\":1001,\"fLeftMargin\":0.1,\"fRightMargin\":0.1,\"fBottomMargin\":0.1,\"fTopMargin\":0.1,\"fXfile\":2,\"fYfile\":2,\"fAfile\":1,\"fXstat\":0.99,\"fYstat\":0.99,\"fAstat\":2,\"fFrameFillColor\":0,\"fFrameLineColor\":1,\"fFrameFillStyle\":1001,\"fFrameLineStyle\":1,\"fFrameLineWidth\":1,\"fFrameBorderSize\":1,\"fFrameBorderMode\":0,\"fX1\":37.4999990686774,\"fY1\":-5935.38794222086,\"fX2\":162.500000931323,\"fY2\":53418.4879422209,\"fXtoAbsPixelk\":-238.79999051094,\"fXtoPixelk\":-238.79999051094,\"fXtoPixel\":6.3679999051094,\"fYtoAbsPixelk\":514.799996590614,\"fYtoPixelk\":514.799996590614,\"fYtoPixel\":-0.00963711285028207,\"fUtoAbsPixelk\":0,\"fUtoPixelk\":0,\"fUtoPixel\":796,\"fVtoAbsPixelk\":572,\"fVtoPixelk\":572,\"fVtoPixel\":-572,\"fAbsPixeltoXk\":37.4999990686774,\"fPixeltoXk\":37.4999990686774,\"fPixeltoX\":0.157035178219404,\"fAbsPixeltoYk\":53418.4879422209,\"fPixeltoYk\":-5935.38794222086,\"fPixeltoY\":-103.765517280493,\"fXlowNDC\":0,\"fYlowNDC\":0,\"fXUpNDC\":1,\"fYUpNDC\":1,\"fWNDC\":1,\"fHNDC\":1,\"fAbsXlowNDC\":0,\"fAbsYlowNDC\":0,\"fAbsWNDC\":1,\"fAbsHNDC\":1,\"fUxmin\":50,\"fUymin\":0,\"fUxmax\":150,\"fUymax\":47483.1,\"fTheta\":30,\"fPhi\":30,\"fAspectRatio\":0,\"fNumber\":0,\"fTickx\":0,\"fTicky\":0,\"fLogx\":0,\"fLogy\":0,\"fLogz\":0,\"fPadPaint\":0,\"fCrosshair\":0,\"fCrosshairPos\":0,\"fBorderSize\":2,\"fBorderMode\":0,\"fModified\":false,\"fGridx\":false,\"fGridy\":false,\"fAbsCoord\":false,\"fEditable\":true,\"fFixedAspectRatio\":false,\"fPrimitives\":{\"_typename\":\"TList\",\"name\":\"TList\",\"arr\":[],\"opt\":[]},\"fExecs\":null,\"fName\":\"canvas1\",\"fTitle\":\"Canvas1\",\"fNumPaletteColor\":0,\"fNextPaletteColor\":0,\"fDISPLAY\":\"$DISPLAY\",\"fDoubleBuffer\":0,\"fRetained\":true,\"fXsizeUser\":0,\"fYsizeUser\":0,\"fXsizeReal\":20,\"fYsizeReal\":15,\"fWindowTopX\":0,\"fWindowTopY\":0,\"fWindowWidth\":0,\"fWindowHeight\":0,\"fCw\":796,\"fCh\":572,\"fCatt\":{\"_typename\":\"TAttCanvas\",\"fXBetween\":2,\"fYBetween\":2,\"fTitleFromTop\":1.2,\"fXdate\":0.2,\"fYdate\":0.3,\"fAdate\":1},\"kMoveOpaque\":true,\"kResizeOpaque\":true,\"fHighLightColor\":2,\"fBatch\":true,\"kShowEventStatus\":false,\"kAutoExec\":true,\"kMenuBar\":true},\"fActive\":false,\"fReadOnly\":true,\"fWithoutPrimitives\":false,\"fHasExecs\":false,\"fPrimitives\":[{\"_typename\":\"TWebSnapshot\",\"fUniqueID\":0,\"fBits\":0,\"fObjectID\":\"\",\"fOption\":\"\",\"fKind\":4,\"fSnapshot\":{\"_typename\":\"TWebPainting\",\"fUniqueID\":0,\"fBits\":0,\"fOper\":\"0:255,255,255;1:0,0,0;2:255,0,0;3:0,255,0;4:0,0,255;5:255,255,0;6:255,0,255;7:0,255,255;8:89,211,84;9:89,84,216;10:254,254,254;11:192,182,172;12:76,76,76;13:102,102,102;14:127,127,127;15:153,153,153;16:178,178,178;17:204,204,204;18:229,229,229;19:242,242,242;20:204,198,170;21:204,198,170;22:193,191,168;23:186,181,163;24:178,165,150;25:183,163,155;26:173,153,140;27:155,142,130;28:135,102,86;29:175,206,198;30:132,193,163;31:137,168,160;32:130,158,140;33:173,188,198;34:122,142,153;35:117,137,145;36:104,130,150;37:109,122,132;38:124,153,209;39:127,127,155;40:170,165,191;41:211,206,135;42:221,186,135;43:188,158,130;44:198,153,124;45:191,130,119;46:206,94,96;47:170,142,147;48:165,119,122;49:147,104,112;50:211,89,84;51:146,0,255;52:122,0,255;53:98,0,255;54:74,0,255;55:51,0,255;56:27,0,255;57:3,0,255;58:0,20,255;59:0,44,255;60:0,68,255;61:0,91,255;62:0,115,255;63:0,139,255;64:0,163,255;65:0,187,255;66:0,210,255;67:0,234,255;68:0,255,251;69:0,255,227;70:0,255,204;71:0,255,180;72:0,255,156;73:0,255,132;74:0,255,108;75:0,255,85;76:0,255,61;77:0,255,37;78:0,255,13;79:10,255,0;80:34,255,0;81:57,255,0;82:81,255,0;83:105,255,0;84:129,255,0;85:153,255,0;86:176,255,0;87:200,255,0;88:224,255,0;89:248,255,0;90:255,238,0;91:255,214,0;92:255,190,0;93:255,166,0;94:255,142,0;95:255,119,0;96:255,95,0;97:255,71,0;98:255,47,0;99:255,23,0;110:254,254,254;201:91,91,91;202:122,122,122;203:183,183,183;204:214,214,214;205:137,15,15;206:183,20,20;207:234,71,71;208:239,117,117;209:15,137,15;210:20,183,20;211:71,234,71;212:117,239,117;213:15,15,137;214:20,20,183;215:71,71,234;216:117,117,239;217:137,137,15;218:183,183,20;219:234,234,71;220:239,239,117;221:137,15,137;222:183,20,183;223:234,71,234;224:239,117,239;225:15,137,137;226:20,183,183;227:71,234,234;228:117,239,239;390:255,255,204;391:255,255,153;392:204,204,153;393:255,255,102;394:204,204,102;395:153,153,102;396:255,255,51;397:204,204,51;398:153,153,51;399:102,102,51;400:255,255,0;401:204,204,0;402:153,153,0;403:102,102,0;404:51,51,0;406:204,255,204;407:153,255,153;408:153,204,153;409:102,255,102;410:102,204,102;411:102,153,102;412:51,255,51;413:51,204,51;414:51,153,51;415:51,102,51;416:0,255,0;417:0,204,0;418:0,153,0;419:0,102,0;420:0,51,0;422:204,255,255;423:153,255,255;424:153,204,204;425:102,255,255;426:102,204,204;427:102,153,153;428:51,255,255;429:51,204,204;430:51,153,153;431:51,102,102;432:0,255,255;433:0,204,204;434:0,153,153;435:0,102,102;436:0,51,51;590:204,204,255;591:153,153,255;592:153,153,204;593:102,102,255;594:102,102,204;595:102,102,153;596:51,51,255;597:51,51,204;598:51,51,153;599:51,51,102;600:0,0,255;601:0,0,204;602:0,0,153;603:0,0,102;604:0,0,51;606:255,204,255;607:255,153,255;608:204,153,204;609:255,102,255;610:204,102,204;611:153,102,153;612:255,51,255;613:204,51,204;614:153,51,153;615:102,51,102;616:255,0,255;617:204,0,204;618:153,0,153;619:102,0,102;620:51,0,51;622:255,204,204;623:255,153,153;624:204,153,153;625:255,102,102;626:204,102,102;627:153,102,102;628:255,51,51;629:204,51,51;630:153,51,51;631:102,51,51;632:255,0,0;633:204,0,0;634:153,0,0;635:102,0,0;636:51,0,0;791:255,204,153;792:204,153,102;793:153,102,51;794:153,102,0;795:204,153,51;796:255,204,102;797:255,153,0;798:255,204,51;799:204,153,0;800:255,204,0;801:255,153,51;802:204,102,0;803:102,51,0;804:153,51,0;805:204,102,51;806:255,153,102;807:255,102,0;808:255,102,51;809:204,51,0;810:255,51,0;811:153,255,51;812:102,204,0;813:51,102,0;814:51,153,0;815:102,204,51;816:153,255,102;817:102,255,0;818:102,255,51;819:51,204,0;820:51,255,0;821:204,255,153;822:153,204,102;823:102,153,51;824:102,153,0;825:153,204,51;826:204,255,102;827:153,255,0;828:204,255,51;829:153,204,0;830:204,255,0;831:153,255,204;832:102,204,153;833:51,153,102;834:0,153,102;835:51,204,153;836:102,255,204;837:0,255,102;838:51,255,204;839:0,204,153;840:0,255,204;841:51,255,153;842:0,204,102;843:0,102,51;844:0,153,51;845:51,204,102;846:102,255,153;847:0,255,153;848:51,255,102;849:0,204,51;850:0,255,51;851:153,204,255;852:102,153,204;853:51,102,153;854:0,51,153;855:51,102,204;856:102,153,255;857:0,102,255;858:51,102,255;859:0,51,204;860:0,51,255;861:51,153,255;862:0,102,204;863:0,51,102;864:0,102,153;865:51,153,204;866:102,204,255;867:0,153,255;868:51,204,255;869:0,153,204;870:0,204,255;871:204,153,255;872:153,102,204;873:102,51,153;874:102,0,153;875:153,51,204;876:204,102,255;877:153,0,255;878:204,51,255;879:153,0,204;880:204,0,255;881:153,51,255;882:102,0,204;883:51,0,102;884:51,0,153;885:102,51,204;886:153,102,255;887:102,0,255;888:102,51,255;889:51,0,204;890:51,0,255;891:255,51,153;892:204,0,102;893:102,0,51;894:153,0,51;895:204,51,102;896:255,102,153;897:255,0,102;898:255,51,102;899:204,0,51;900:255,0,51;901:255,153,204;902:204,102,153;903:153,51,102;904:153,0,102;905:204,51,153;906:255,102,204;907:255,0,153;908:204,0,153;909:255,51,204;910:255,0,153;920:204,204,204;921:153,153,153;922:102,102,102;923:51,51,51;924:53,42,134;925:51,44,137;926:50,45,140;927:49,47,143;928:48,48,146;929:46,50,148;930:45,51,151;931:44,53,154;932:43,55,157;933:42,56,160;934:40,58,162;935:39,59,165;936:38,61,168;937:37,63,171;938:35,64,174;939:34,66,176;940:33,67,179;941:32,69,182;942:31,71,185;943:29,72,187;944:28,74,190;945:27,75,193;946:26,77,196;947:24,79,199;948:23,80,201;949:22,82,204;950:21,83,207;951:19,85,210;952:18,86,213;953:17,88,215;954:16,90,218;955:15,91,221;956:15,92,221;957:15,94,220;958:15,95,220;959:15,96,220;960:15,97,220;961:15,98,220;962:16,99,219;963:16,100,219;964:16,102,219;965:16,103,219;966:16,104,218;967:16,105,218;968:17,106,218;969:17,107,218;970:17,109,217;971:17,110,217;972:17,111,217;973:17,112,217;974:17,113,216;975:18,114,216;976:18,115,216;977:18,117,216;978:18,118,215;979:18,119,215;980:18,120,215;981:18,121,215;982:19,122,215;983:19,123,214;984:19,125,214;985:19,126,214;986:19,127,214;987:19,128,213;988:19,129,213;989:19,130,213;990:18,131,212;991:18,132,212;992:17,134,211;993:17,135,211;994:16,136,211;995:16,137,210;996:15,138,210;997:15,139,210;998:15,140,209;999:14,141,209;1000:14,142,208;1001:13,143,208;1002:13,145,208;1003:12,146,207;1004:12,147,207;1005:12,148,207;1006:11,149,206;1007:11,150,206;1008:10,151,205;1009:10,152,205;1010:9,153,205;1011:9,154,204;1012:8,155,204;1013:8,157,204;1014:8,158,203;1015:7,159,203;1016:7,160,202;1017:6,161,202;1018:6,162,202;1019:5,163,201;1020:7,164,200;1021:8,164,199;1022:9,165,198;1023:10,166,197;1024:12,166,195;1025:13,167,194;1026:14,167,193;1027:15,168,192;1028:17,169,191;1029:18,169,189;1030:19,170,188;1031:20,170,187;1032:22,171,186;1033:23,172,185;1034:24,172,184;1035:25,173,182;1036:27,173,181;1037:28,174,180;1038:29,175,179;1039:30,175,178;1040:32,176,176;1041:33,176,175;1042:34,177,174;1043:35,178,173;1044:37,178,172;1045:38,179,170;1046:39,180,169;1047:40,180,168;1048:42,181,167;1049:43,181,166;1050:44,182,165;1051:45,183,163;1052:48,183,162;1053:51,183,161;1054:54,183,159;1055:57,184,158;1056:59,184,156;1057:62,184,155;1058:65,184,154;1059:68,185,152;1060:71,185,151;1061:73,185,149;1062:76,185,148;1063:79,186,146;1064:82,186,145;1065:84,186,144;1066:87,186,142;1067:90,187,141;1068:93,187,139;1069:96,187,138;1070:98,187,137;1071:101,188,135;1072:104,188,134;1073:107,188,132;1074:110,188,131;1075:112,189,130;1076:115,189,128;1077:118,189,127;1078:121,189,125;1079:124,190,124;1080:126,190,123;1081:129,190,121;1082:132,190,120;1083:135,191,118;1084:137,190,117;1085:139,190,117;1086:142,190,116;1087:144,190,115;1088:146,190,114;1089:148,190,113;1090:151,190,112;1091:153,190,111;1092:155,189,110;1093:158,189,109;1094:160,189,108;1095:162,189,107;1096:165,189,106;1097:167,189,105;1098:169,189,104;1099:171,188,104;1100:174,188,103;1101:176,188,102;1102:178,188,101;1103:181,188,100;1104:183,188,99;1105:185,188,98;1106:188,188,97;1107:190,187,96;1108:192,187,95;1109:194,187,94;1110:197,187,93;1111:199,187,92;1112:201,187,92;1113:204,187,91;1114:206,186,90;1115:208,186,89;1116:210,187,88;1117:211,187,86;1118:212,188,85;1119:214,188,84;1120:215,188,83;1121:217,189,81;1122:218,189,80;1123:220,190,79;1124:221,190,78;1125:222,191,77;1126:224,191,75;1127:225,191,74;1128:227,192,73;1129:228,192,72;1130:229,193,70;1131:231,193,69;1132:232,194,68;1133:234,194,67;1134:235,194,66;1135:236,195,64;1136:238,195,63;1137:239,196,62;1138:241,196,61;1139:242,197,59;1140:244,197,58;1141:245,197,57;1142:246,198,56;1143:248,198,55;1144:249,199,53;1145:251,199,52;1146:252,200,51;1147:253,200,50;1148:253,202,49;1149:253,203,47;1150:253,205,46;1151:253,206,45;1152:253,208,44;1153:252,209,43;1154:252,211,42;1155:252,213,41;1156:252,214,39;1157:252,216,38;1158:252,217,37;1159:252,219,36;1160:251,220,35;1161:251,222,34;1162:251,224,33;1163:251,225,31;1164:251,227,30;1165:251,228,29;1166:250,230,28;1167:250,231,27;1168:250,233,26;1169:250,235,25;1170:250,236,23;1171:250,238,22;1172:250,239,21;1173:249,241,20;1174:249,242,19;1175:249,244,18;1176:249,246,17;1177:249,247,16;1178:249,249,14\",\"fBuf\":[924,925,926,927,928,929,930,931,932,933,934,935,936,937,938,939,940,941,942,943,944,945,946,947,948,949,950,951,952,953,954,955,956,957,958,959,960,961,962,963,964,965,966,967,968,969,970,971,972,973,974,975,976,977,978,979,980,981,982,983,984,985,986,987,988,989,990,991,992,993,994,995,996,997,998,999,1000,1001,1002,1003,1004,1005,1006,1007,1008,1009,1010,1011,1012,1013,1014,1015,1016,1017,1018,1019,1020,1021,1022,1023,1024,1025,1026,1027,1028,1029,1030,1031,1032,1033,1034,1035,1036,1037,1038,1039,1040,1041,1042,1043,1044,1045,1046,1047,1048,1049,1050,1051,1052,1053,1054,1055,1056,1057,1058,1059,1060,1061,1062,1063,1064,1065,1066,1067,1068,1069,1070,1071,1072,1073,1074,1075,1076,1077,1078,1079,1080,1081,1082,1083,1084,1085,1086,1087,1088,1089,1090,1091,1092,1093,1094,1095,1096,1097,1098,1099,1100,1101,1102,1103,1104,1105,1106,1107,1108,1109,1110,1111,1112,1113,1114,1115,1116,1117,1118,1119,1120,1121,1122,1123,1124,1125,1126,1127,1128,1129,1130,1131,1132,1133,1134,1135,1136,1137,1138,1139,1140,1141,1142,1143,1144,1145,1146,1147,1148,1149,1150,1151,1152,1153,1154,1155,1156,1157,1158,1159,1160,1161,1162,1163,1164,1165,1166,1167,1168,1169,1170,1171,1172,1173,1174,1175,1176,1177,1178]}},{\"_typename\":\"TWebSnapshot\",\"fUniqueID\":0,\"fBits\":0,\"fObjectID\":\"\",\"fOption\":\"\",\"fKind\":5,\"fSnapshot\":{\"_typename\":\"TStyle\",\"fUniqueID\":0,\"fBits\":0,\"fName\":\"Modern\",\"fTitle\":\"Modern Style\",\"fLineColor\":1,\"fLineStyle\":1,\"fLineWidth\":1,\"fFillColor\":19,\"fFillStyle\":1001,\"fMarkerColor\":1,\"fMarkerStyle\":1,\"fMarkerSize\":1,\"fTextAngle\":0,\"fTextSize\":0.05,\"fTextAlign\":11,\"fTextColor\":1,\"fTextFont\":62,\"fXaxis\":{\"_typename\":\"TAttAxis\",\"fNdivisions\":510,\"fAxisColor\":1,\"fLabelColor\":1,\"fLabelFont\":42,\"fLabelOffset\":0.005,\"fLabelSize\":0.035,\"fTickLength\":0.03,\"fTitleOffset\":1,\"fTitleSize\":0.035,\"fTitleColor\":1,\"fTitleFont\":42},\"fYaxis\":{\"_typename\":\"TAttAxis\",\"fNdivisions\":510,\"fAxisColor\":1,\"fLabelColor\":1,\"fLabelFont\":42,\"fLabelOffset\":0.005,\"fLabelSize\":0.035,\"fTickLength\":0.03,\"fTitleOffset\":0,\"fTitleSize\":0.035,\"fTitleColor\":1,\"fTitleFont\":42},\"fZaxis\":{\"_typename\":\"TAttAxis\",\"fNdivisions\":510,\"fAxisColor\":1,\"fLabelColor\":1,\"fLabelFont\":42,\"fLabelOffset\":0.005,\"fLabelSize\":0.035,\"fTickLength\":0.03,\"fTitleOffset\":1,\"fTitleSize\":0.035,\"fTitleColor\":1,\"fTitleFont\":42},\"fBarWidth\":1,\"fBarOffset\":0,\"fColorModelPS\":0,\"fDrawBorder\":0,\"fOptLogx\":0,\"fOptLogy\":0,\"fOptLogz\":0,\"fOptDate\":0,\"fOptStat\":1111,\"fOptTitle\":1,\"fOptFile\":0,\"fOptFit\":0,\"fShowEventStatus\":0,\"fShowEditor\":0,\"fShowToolBar\":0,\"fNumberContours\":20,\"fAttDate\":{\"_typename\":\"TAttText\",\"fTextAngle\":0,\"fTextSize\":0.025,\"fTextAlign\":11,\"fTextColor\":1,\"fTextFont\":62},\"fDateX\":0.01,\"fDateY\":0.01,\"fEndErrorSize\":2,\"fErrorX\":0.5,\"fFuncColor\":2,\"fFuncStyle\":1,\"fFuncWidth\":2,\"fGridColor\":0,\"fGridStyle\":3,\"fGridWidth\":1,\"fLegendBorderSize\":1,\"fLegendFillColor\":0,\"fLegendFont\":42,\"fLegendTextSize\":0,\"fHatchesLineWidth\":1,\"fHatchesSpacing\":1,\"fFrameFillColor\":0,\"fFrameLineColor\":1,\"fFrameFillStyle\":1001,\"fFrameLineStyle\":1,\"fFrameLineWidth\":1,\"fFrameBorderSize\":1,\"fFrameBorderMode\":0,\"fHistFillColor\":0,\"fHistLineColor\":602,\"fHistFillStyle\":1001,\"fHistLineStyle\":1,\"fHistLineWidth\":1,\"fHistMinimumZero\":false,\"fHistTopMargin\":0.05,\"fCanvasPreferGL\":false,\"fCanvasColor\":0,\"fCanvasBorderSize\":2,\"fCanvasBorderMode\":0,\"fCanvasDefH\":500,\"fCanvasDefW\":700,\"fCanvasDefX\":10,\"fCanvasDefY\":10,\"fPadColor\":0,\"fPadBorderSize\":2,\"fPadBorderMode\":0,\"fPadBottomMargin\":0.1,\"fPadTopMargin\":0.1,\"fPadLeftMargin\":0.1,\"fPadRightMargin\":0.1,\"fPadGridX\":false,\"fPadGridY\":false,\"fPadTickX\":0,\"fPadTickY\":0,\"fPaperSizeX\":20,\"fPaperSizeY\":26,\"fScreenFactor\":1,\"fStatColor\":0,\"fStatTextColor\":1,\"fStatBorderSize\":1,\"fStatFont\":42,\"fStatFontSize\":0,\"fStatStyle\":1001,\"fStatFormat\":\"6.4g\",\"fStatX\":0.98,\"fStatY\":0.935,\"fStatW\":0.2,\"fStatH\":0.16,\"fStripDecimals\":true,\"fTitleAlign\":23,\"fTitleColor\":0,\"fTitleTextColor\":1,\"fTitleBorderSize\":0,\"fTitleFont\":42,\"fTitleFontSize\":0.05,\"fTitleStyle\":0,\"fTitleX\":0.5,\"fTitleY\":0.995,\"fTitleW\":0,\"fTitleH\":0,\"fLegoInnerR\":0.5,\"fLineStyles\":[\"\",\"  \",\" 12 12\",\" 4 8\",\" 12 16 4 16\",\" 20 12 4 12\",\" 20 12 4 12 4 12 4 12\",\" 20 20\",\" 20 12 4 12 4 12\",\" 80 20\",\" 80 40 4 40\",\"  \",\"  \",\"  \",\"  \",\"  \",\"  \",\"  \",\"  \",\"  \",\"  \",\"  \",\"  \",\"  \",\"  \",\"  \",\"  \",\"  \",\"  \",\"  \"],\"fHeaderPS\":\"\",\"fTitlePS\":\"\",\"fFitFormat\":\"5.4g\",\"fPaintTextFormat\":\"g\",\"fLineScalePS\":3,\"fJoinLinePS\":0,\"fCapLinePS\":0,\"fTimeOffset\":788918400,\"fImageScaling\":1,\"fCandleWhiskerRange\":1,\"fCandleBoxRange\":0.5,\"fCandleScaled\":false,\"fViolinScaled\":true,\"fXAxisExpXOffset\":0,\"fXAxisExpYOffset\":0,\"fYAxisExpXOffset\":0,\"fYAxisExpYOffset\":0,\"fAxisMaxDigits\":5,\"fOrthoCamera\":false}},{\"_typename\":\"TWebSnapshot\",\"fUniqueID\":0,\"fBits\":0,\"fObjectID\":\"\",\"fOption\":\"\",\"fKind\":1,\"fSnapshot\":{\"_typename\":\"TFrame\",\"fUniqueID\":0,\"fBits\":8,\"fLineColor\":1,\"fLineStyle\":1,\"fLineWidth\":1,\"fFillColor\":0,\"fFillStyle\":1001,\"fX1\":50,\"fY1\":0,\"fX2\":150,\"fY2\":47483.1,\"fBorderSize\":1,\"fBorderMode\":0}},{\"_typename\":\"TWebSnapshot\",\"fUniqueID\":0,\"fBits\":0,\"fObjectID\":\"\",\"fOption\":\"\",\"fKind\":1,\"fSnapshot\":{\"_typename\":\"TH1D\",\"fUniqueID\":0,\"fBits\":8,\"fName\":\"pairMass\",\"fTitle\":\"tag and probe pair mass\",\"fLineColor\":602,\"fLineStyle\":1,\"fLineWidth\":1,\"fFillColor\":0,\"fFillStyle\":1001,\"fMarkerColor\":1,\"fMarkerStyle\":1,\"fMarkerSize\":1,\"fNcells\":102,\"fXaxis\":{\"_typename\":\"TAxis\",\"fUniqueID\":0,\"fBits\":0,\"fName\":\"xaxis\",\"fTitle\":\"mass [GeV]\",\"fNdivisions\":510,\"fAxisColor\":1,\"fLabelColor\":1,\"fLabelFont\":42,\"fLabelOffset\":0.005,\"fLabelSize\":0.035,\"fTickLength\":0.03,\"fTitleOffset\":1,\"fTitleSize\":0.035,\"fTitleColor\":1,\"fTitleFont\":42,\"fNbins\":100,\"fXmin\":50,\"fXmax\":150,\"fXbins\":[],\"fFirst\":0,\"fLast\":0,\"fBits2\":0,\"fTimeDisplay\":false,\"fTimeFormat\":\"\",\"fLabels\":null,\"fModLabs\":null},\"fYaxis\":{\"_typename\":\"TAxis\",\"fUniqueID\":0,\"fBits\":0,\"fName\":\"yaxis\",\"fTitle\":\"#entries\\/GeV\",\"fNdivisions\":510,\"fAxisColor\":1,\"fLabelColor\":1,\"fLabelFont\":42,\"fLabelOffset\":0.005,\"fLabelSize\":0.035,\"fTickLength\":0.03,\"fTitleOffset\":0,\"fTitleSize\":0.035,\"fTitleColor\":1,\"fTitleFont\":42,\"fNbins\":1,\"fXmin\":0,\"fXmax\":1,\"fXbins\":[],\"fFirst\":0,\"fLast\":0,\"fBits2\":0,\"fTimeDisplay\":false,\"fTimeFormat\":\"\",\"fLabels\":null,\"fModLabs\":null},\"fZaxis\":{\"_typename\":\"TAxis\",\"fUniqueID\":0,\"fBits\":0,\"fName\":\"zaxis\",\"fTitle\":\"\",\"fNdivisions\":510,\"fAxisColor\":1,\"fLabelColor\":1,\"fLabelFont\":42,\"fLabelOffset\":0.005,\"fLabelSize\":0.035,\"fTickLength\":0.03,\"fTitleOffset\":1,\"fTitleSize\":0.035,\"fTitleColor\":1,\"fTitleFont\":42,\"fNbins\":1,\"fXmin\":0,\"fXmax\":1,\"fXbins\":[],\"fFirst\":0,\"fLast\":0,\"fBits2\":0,\"fTimeDisplay\":false,\"fTimeFormat\":\"\",\"fLabels\":null,\"fModLabs\":null},\"fBarOffset\":0,\"fBarWidth\":1000,\"fEntries\":305380,\"fTsumw\":302317,\"fTsumw2\":302317,\"fTsumwx\":27437032.1587181,\"fTsumwx2\":2506429538.2179,\"fMaximum\":-1111,\"fMinimum\":-1111,\"fNormFactor\":0,\"fContour\":[],\"fSumw2\":[],\"fOption\":\"\",\"fFunctions\":{\"_typename\":\"TList\",\"name\":\"TList\",\"arr\":[{\"_typename\":\"TPaveStats\",\"fUniqueID\":0,\"fBits\":9,\"fLineColor\":1,\"fLineStyle\":1,\"fLineWidth\":1,\"fFillColor\":0,\"fFillStyle\":1001,\"fX1\":135.000002533197,\"fY1\":40063.8662219981,\"fX2\":160.000003278256,\"fY2\":49560.4861512428,\"fX1NDC\":0.780000016093254,\"fY1NDC\":0.775000005960464,\"fX2NDC\":0.980000019073486,\"fY2NDC\":0.935000002384186,\"fBorderSize\":1,\"fInit\":1,\"fShadowColor\":1,\"fCornerRadius\":0,\"fOption\":\"brNDC\",\"fName\":\"stats\",\"fTextAngle\":0,\"fTextSize\":0,\"fTextAlign\":12,\"fTextColor\":1,\"fTextFont\":42,\"fLabel\":\"\",\"fLongest\":18,\"fMargin\":0.05,\"fLines\":{\"_typename\":\"TList\",\"name\":\"TList\",\"arr\":[{\"_typename\":\"TLatex\",\"fUniqueID\":0,\"fBits\":0,\"fName\":\"\",\"fTitle\":\"pairMass\",\"fTextAngle\":0,\"fTextSize\":0.0368,\"fTextAlign\":0,\"fTextColor\":0,\"fTextFont\":0,\"fX\":0,\"fY\":0,\"fLineColor\":1,\"fLineStyle\":1,\"fLineWidth\":2,\"fLimitFactorSize\":3,\"fOriginSize\":0.0367999991774559},{\"_typename\":\"TLatex\",\"fUniqueID\":0,\"fBits\":0,\"fName\":\"\",\"fTitle\":\"Entries = 305380 \",\"fTextAngle\":0,\"fTextSize\":0,\"fTextAlign\":0,\"fTextColor\":0,\"fTextFont\":0,\"fX\":0,\"fY\":0,\"fLineColor\":1,\"fLineStyle\":1,\"fLineWidth\":2,\"fLimitFactorSize\":3,\"fOriginSize\":0.0253013782203197},{\"_typename\":\"TLatex\",\"fUniqueID\":0,\"fBits\":0,\"fName\":\"\",\"fTitle\":\"Mean  =  90.76\",\"fTextAngle\":0,\"fTextSize\":0,\"fTextAlign\":0,\"fTextColor\":0,\"fTextFont\":0,\"fX\":0,\"fY\":0,\"fLineColor\":1,\"fLineStyle\":1,\"fLineWidth\":2,\"fLimitFactorSize\":3,\"fOriginSize\":0.0253013782203197},{\"_typename\":\"TLatex\",\"fUniqueID\":0,\"fBits\":0,\"fName\":\"\",\"fTitle\":\"Std Dev   =  7.356\",\"fTextAngle\":0,\"fTextSize\":0,\"fTextAlign\":0,\"fTextColor\":0,\"fTextFont\":0,\"fX\":0,\"fY\":0,\"fLineColor\":1,\"fLineStyle\":1,\"fLineWidth\":2,\"fLimitFactorSize\":3,\"fOriginSize\":0.0253013782203197}],\"opt\":[\"\",\"\",\"\",\"\"]},\"fOptFit\":0,\"fOptStat\":1111,\"fFitFormat\":\"5.4g\",\"fStatFormat\":\"6.4g\",\"fParent\":{\"$ref\":15}}],\"opt\":[\"brNDC\"]},\"fBufferSize\":0,\"fBuffer\":[],\"fBinStatErrOpt\":0,\"fStatOverflows\":2,\"fArray\":[290,7,1,3,4,4,3,4,6,2,4,308,335,335,388,390,392,480,446,489,553,562,588,669,762,905,873,1093,1196,1481,1546,1929,2419,3033,3662,4924,6574,9413,14416,22501,34937,45222,44148,31805,19370,11247,6888,4569,3235,2399,1667,1503,1244,1128,887,750,691,557,529,446,420,418,333,358,257,272,240,220,245,246,218,208,175,128,168,141,167,150,121,128,105,120,105,109,128,110,104,99,104,86,60,74,71,70,64,66,81,65,55,50,56,2773]}},{\"_typename\":\"TWebSnapshot\",\"fUniqueID\":0,\"fBits\":0,\"fObjectID\":\"\",\"fOption\":\"blNDC\",\"fKind\":1,\"fSnapshot\":{\"_typename\":\"TPaveText\",\"fUniqueID\":0,\"fBits\":9,\"fLineColor\":1,\"fLineStyle\":1,\"fLineWidth\":1,\"fFillColor\":0,\"fFillStyle\":0,\"fX1\":72.4466076296234,\"fY1\":49510.6788444588,\"fX2\":127.553392370377,\"fY2\":53121.71884582,\"fX1NDC\":0.279572864321608,\"fY1NDC\":0.934160843929211,\"fX2NDC\":0.720427135678392,\"fY2NDC\":0.995000004768372,\"fBorderSize\":0,\"fInit\":1,\"fShadowColor\":1,\"fCornerRadius\":0,\"fOption\":\"blNDC\",\"fName\":\"title\",\"fTextAngle\":0,\"fTextSize\":0,\"fTextAlign\":22,\"fTextColor\":1,\"fTextFont\":42,\"fLabel\":\"\",\"fLongest\":23,\"fMargin\":0.05,\"fLines\":{\"_typename\":\"TList\",\"name\":\"TList\",\"arr\":[{\"_typename\":\"TLatex\",\"fUniqueID\":0,\"fBits\":0,\"fName\":\"\",\"fTitle\":\"tag and probe pair mass\",\"fTextAngle\":0,\"fTextSize\":0,\"fTextAlign\":0,\"fTextColor\":0,\"fTextFont\":0,\"fX\":0,\"fY\":0,\"fLineColor\":1,\"fLineStyle\":1,\"fLineWidth\":2,\"fLimitFactorSize\":3,\"fOriginSize\":0.0517132878303528}],\"opt\":[\"\"]}}}],\"fScripts\":\"\",\"fHighlightConnect\":false,\"fFixedSize\":false});\n",
       "   Core.settings.HandleKeys = false;\n",
       "   Core.draw(\"root_plot_1736009227475\", obj, \"\");\n",
       "}\n",
       "\n",
       "function script_load_root_plot_1736009227475(src, on_error) {\n",
       "    let script = document.createElement('script');\n",
       "    script.src = src;\n",
       "    script.onload = function() { display_root_plot_1736009227475(JSROOT); };\n",
       "    script.onerror = function() { script.remove(); on_error(); };\n",
       "    document.head.appendChild(script);\n",
       "}\n",
       "\n",
       "if (typeof requirejs !== 'undefined') {\n",
       "\n",
       "    // We are in jupyter notebooks, use require.js which should be configured already\n",
       "    requirejs.config({\n",
       "       paths: { 'JSRootCore' : [ 'build/jsroot', 'https://root.cern/js/7.4.3/build/jsroot', 'https://jsroot.gsi.de/7.4.3/build/jsroot' ] }\n",
       "    })(['JSRootCore'],  function(Core) {\n",
       "       display_root_plot_1736009227475(Core);\n",
       "    });\n",
       "\n",
       "} else if (typeof JSROOT !== 'undefined') {\n",
       "\n",
       "   // JSROOT already loaded, just use it\n",
       "   display_root_plot_1736009227475(JSROOT);\n",
       "\n",
       "} else {\n",
       "\n",
       "    // We are in jupyterlab without require.js, directly loading jsroot\n",
       "    // Jupyterlab might be installed in a different base_url so we need to know it.\n",
       "    try {\n",
       "        var base_url = JSON.parse(document.getElementById('jupyter-config-data').innerHTML).baseUrl;\n",
       "    } catch(_) {\n",
       "        var base_url = '/';\n",
       "    }\n",
       "\n",
       "    // Try loading a local version of requirejs and fallback to cdn if not possible.\n",
       "    script_load_root_plot_1736009227475(base_url + 'static/build/jsroot.js', function(){\n",
       "        console.error('Fail to load JSROOT locally, please check your jupyter_notebook_config.py file');\n",
       "        script_load_root_plot_1736009227475('https://root.cern/js/7.4.3/build/jsroot.js', function(){\n",
       "            document.getElementById(\"root_plot_1736009227475\").innerHTML = \"Failed to load JSROOT\";\n",
       "        });\n",
       "    });\n",
       "}\n",
       "\n",
       "</script>\n"
      ],
      "text/plain": [
       "<IPython.core.display.HTML object>"
      ]
     },
     "metadata": {},
     "output_type": "display_data"
    }
   ],
   "source": [
    "%jsroot on\n",
    "\n",
    "file = ROOT.TFile.Open(\"./output/results.root\")\n",
    "\n",
    "pairMass = file.Get(\"pairMass\")\n",
    "canvas = ROOT.TCanvas(\"canvas1\", \"Canvas1\", 800, 600)\n",
    "pairMass.Draw()\n",
    "canvas.Draw()\n",
    "canvas.SaveAs(\"./output/pairMass.png\")"
   ]
  },
  {
   "cell_type": "code",
   "execution_count": 25,
   "metadata": {},
   "outputs": [
    {
     "name": "stderr",
     "output_type": "stream",
     "text": [
      "Info in <TCanvas::Print>: png file ./output/effVsPt.png has been created\n"
     ]
    },
    {
     "data": {
      "text/html": [
       "\n",
       "\n",
       "<div id=\"root_plot_1736009227669\" style=\"width: 800px; height: 600px; position: relative\">\n",
       "</div>\n",
       "\n",
       "<script>\n",
       "\n",
       "function display_root_plot_1736009227669(Core) {\n",
       "   let obj = Core.parse({\"_typename\":\"TCanvasWebSnapshot\",\"fUniqueID\":0,\"fBits\":0,\"fObjectID\":\"\",\"fOption\":\"\",\"fKind\":3,\"fSnapshot\":{\"_typename\":\"TCanvas\",\"fUniqueID\":0,\"fBits\":3342344,\"fLineColor\":1,\"fLineStyle\":1,\"fLineWidth\":1,\"fFillColor\":0,\"fFillStyle\":1001,\"fLeftMargin\":0.1,\"fRightMargin\":0.1,\"fBottomMargin\":0.1,\"fTopMargin\":0.1,\"fXfile\":2,\"fYfile\":2,\"fAfile\":1,\"fXstat\":0.99,\"fYstat\":0.99,\"fAstat\":2,\"fFrameFillColor\":0,\"fFrameLineColor\":1,\"fFrameFillStyle\":1001,\"fFrameLineStyle\":1,\"fFrameLineWidth\":1,\"fFrameBorderSize\":1,\"fFrameBorderMode\":0,\"fX1\":0,\"fY1\":0,\"fX2\":1,\"fY2\":1,\"fXtoAbsPixelk\":0,\"fXtoPixelk\":0,\"fXtoPixel\":796,\"fYtoAbsPixelk\":572,\"fYtoPixelk\":572,\"fYtoPixel\":-572,\"fUtoAbsPixelk\":0,\"fUtoPixelk\":0,\"fUtoPixel\":796,\"fVtoAbsPixelk\":572,\"fVtoPixelk\":572,\"fVtoPixel\":-572,\"fAbsPixeltoXk\":0,\"fPixeltoXk\":0,\"fPixeltoX\":0.00125628140703518,\"fAbsPixeltoYk\":1,\"fPixeltoYk\":0,\"fPixeltoY\":-0.00174825174825175,\"fXlowNDC\":0,\"fYlowNDC\":0,\"fXUpNDC\":1,\"fYUpNDC\":1,\"fWNDC\":1,\"fHNDC\":1,\"fAbsXlowNDC\":0,\"fAbsYlowNDC\":0,\"fAbsWNDC\":1,\"fAbsHNDC\":1,\"fUxmin\":0,\"fUymin\":0,\"fUxmax\":1,\"fUymax\":1,\"fTheta\":30,\"fPhi\":30,\"fAspectRatio\":0,\"fNumber\":0,\"fTickx\":0,\"fTicky\":0,\"fLogx\":0,\"fLogy\":0,\"fLogz\":0,\"fPadPaint\":0,\"fCrosshair\":0,\"fCrosshairPos\":0,\"fBorderSize\":2,\"fBorderMode\":0,\"fModified\":false,\"fGridx\":false,\"fGridy\":false,\"fAbsCoord\":false,\"fEditable\":true,\"fFixedAspectRatio\":false,\"fPrimitives\":{\"_typename\":\"TList\",\"name\":\"TList\",\"arr\":[],\"opt\":[]},\"fExecs\":null,\"fName\":\"canvas3\",\"fTitle\":\"Canvas3\",\"fNumPaletteColor\":0,\"fNextPaletteColor\":0,\"fDISPLAY\":\"$DISPLAY\",\"fDoubleBuffer\":0,\"fRetained\":true,\"fXsizeUser\":0,\"fYsizeUser\":0,\"fXsizeReal\":20,\"fYsizeReal\":15,\"fWindowTopX\":0,\"fWindowTopY\":0,\"fWindowWidth\":0,\"fWindowHeight\":0,\"fCw\":796,\"fCh\":572,\"fCatt\":{\"_typename\":\"TAttCanvas\",\"fXBetween\":2,\"fYBetween\":2,\"fTitleFromTop\":1.2,\"fXdate\":0.2,\"fYdate\":0.3,\"fAdate\":1},\"kMoveOpaque\":true,\"kResizeOpaque\":true,\"fHighLightColor\":2,\"fBatch\":true,\"kShowEventStatus\":false,\"kAutoExec\":true,\"kMenuBar\":true},\"fActive\":false,\"fReadOnly\":true,\"fWithoutPrimitives\":false,\"fHasExecs\":false,\"fPrimitives\":[{\"_typename\":\"TWebSnapshot\",\"fUniqueID\":0,\"fBits\":0,\"fObjectID\":\"\",\"fOption\":\"\",\"fKind\":4,\"fSnapshot\":{\"_typename\":\"TWebPainting\",\"fUniqueID\":0,\"fBits\":0,\"fOper\":\"0:255,255,255;1:0,0,0;2:255,0,0;3:0,255,0;4:0,0,255;5:255,255,0;6:255,0,255;7:0,255,255;8:89,211,84;9:89,84,216;10:254,254,254;11:192,182,172;12:76,76,76;13:102,102,102;14:127,127,127;15:153,153,153;16:178,178,178;17:204,204,204;18:229,229,229;19:242,242,242;20:204,198,170;21:204,198,170;22:193,191,168;23:186,181,163;24:178,165,150;25:183,163,155;26:173,153,140;27:155,142,130;28:135,102,86;29:175,206,198;30:132,193,163;31:137,168,160;32:130,158,140;33:173,188,198;34:122,142,153;35:117,137,145;36:104,130,150;37:109,122,132;38:124,153,209;39:127,127,155;40:170,165,191;41:211,206,135;42:221,186,135;43:188,158,130;44:198,153,124;45:191,130,119;46:206,94,96;47:170,142,147;48:165,119,122;49:147,104,112;50:211,89,84;51:146,0,255;52:122,0,255;53:98,0,255;54:74,0,255;55:51,0,255;56:27,0,255;57:3,0,255;58:0,20,255;59:0,44,255;60:0,68,255;61:0,91,255;62:0,115,255;63:0,139,255;64:0,163,255;65:0,187,255;66:0,210,255;67:0,234,255;68:0,255,251;69:0,255,227;70:0,255,204;71:0,255,180;72:0,255,156;73:0,255,132;74:0,255,108;75:0,255,85;76:0,255,61;77:0,255,37;78:0,255,13;79:10,255,0;80:34,255,0;81:57,255,0;82:81,255,0;83:105,255,0;84:129,255,0;85:153,255,0;86:176,255,0;87:200,255,0;88:224,255,0;89:248,255,0;90:255,238,0;91:255,214,0;92:255,190,0;93:255,166,0;94:255,142,0;95:255,119,0;96:255,95,0;97:255,71,0;98:255,47,0;99:255,23,0;110:254,254,254;201:91,91,91;202:122,122,122;203:183,183,183;204:214,214,214;205:137,15,15;206:183,20,20;207:234,71,71;208:239,117,117;209:15,137,15;210:20,183,20;211:71,234,71;212:117,239,117;213:15,15,137;214:20,20,183;215:71,71,234;216:117,117,239;217:137,137,15;218:183,183,20;219:234,234,71;220:239,239,117;221:137,15,137;222:183,20,183;223:234,71,234;224:239,117,239;225:15,137,137;226:20,183,183;227:71,234,234;228:117,239,239;390:255,255,204;391:255,255,153;392:204,204,153;393:255,255,102;394:204,204,102;395:153,153,102;396:255,255,51;397:204,204,51;398:153,153,51;399:102,102,51;400:255,255,0;401:204,204,0;402:153,153,0;403:102,102,0;404:51,51,0;406:204,255,204;407:153,255,153;408:153,204,153;409:102,255,102;410:102,204,102;411:102,153,102;412:51,255,51;413:51,204,51;414:51,153,51;415:51,102,51;416:0,255,0;417:0,204,0;418:0,153,0;419:0,102,0;420:0,51,0;422:204,255,255;423:153,255,255;424:153,204,204;425:102,255,255;426:102,204,204;427:102,153,153;428:51,255,255;429:51,204,204;430:51,153,153;431:51,102,102;432:0,255,255;433:0,204,204;434:0,153,153;435:0,102,102;436:0,51,51;590:204,204,255;591:153,153,255;592:153,153,204;593:102,102,255;594:102,102,204;595:102,102,153;596:51,51,255;597:51,51,204;598:51,51,153;599:51,51,102;600:0,0,255;601:0,0,204;602:0,0,153;603:0,0,102;604:0,0,51;606:255,204,255;607:255,153,255;608:204,153,204;609:255,102,255;610:204,102,204;611:153,102,153;612:255,51,255;613:204,51,204;614:153,51,153;615:102,51,102;616:255,0,255;617:204,0,204;618:153,0,153;619:102,0,102;620:51,0,51;622:255,204,204;623:255,153,153;624:204,153,153;625:255,102,102;626:204,102,102;627:153,102,102;628:255,51,51;629:204,51,51;630:153,51,51;631:102,51,51;632:255,0,0;633:204,0,0;634:153,0,0;635:102,0,0;636:51,0,0;791:255,204,153;792:204,153,102;793:153,102,51;794:153,102,0;795:204,153,51;796:255,204,102;797:255,153,0;798:255,204,51;799:204,153,0;800:255,204,0;801:255,153,51;802:204,102,0;803:102,51,0;804:153,51,0;805:204,102,51;806:255,153,102;807:255,102,0;808:255,102,51;809:204,51,0;810:255,51,0;811:153,255,51;812:102,204,0;813:51,102,0;814:51,153,0;815:102,204,51;816:153,255,102;817:102,255,0;818:102,255,51;819:51,204,0;820:51,255,0;821:204,255,153;822:153,204,102;823:102,153,51;824:102,153,0;825:153,204,51;826:204,255,102;827:153,255,0;828:204,255,51;829:153,204,0;830:204,255,0;831:153,255,204;832:102,204,153;833:51,153,102;834:0,153,102;835:51,204,153;836:102,255,204;837:0,255,102;838:51,255,204;839:0,204,153;840:0,255,204;841:51,255,153;842:0,204,102;843:0,102,51;844:0,153,51;845:51,204,102;846:102,255,153;847:0,255,153;848:51,255,102;849:0,204,51;850:0,255,51;851:153,204,255;852:102,153,204;853:51,102,153;854:0,51,153;855:51,102,204;856:102,153,255;857:0,102,255;858:51,102,255;859:0,51,204;860:0,51,255;861:51,153,255;862:0,102,204;863:0,51,102;864:0,102,153;865:51,153,204;866:102,204,255;867:0,153,255;868:51,204,255;869:0,153,204;870:0,204,255;871:204,153,255;872:153,102,204;873:102,51,153;874:102,0,153;875:153,51,204;876:204,102,255;877:153,0,255;878:204,51,255;879:153,0,204;880:204,0,255;881:153,51,255;882:102,0,204;883:51,0,102;884:51,0,153;885:102,51,204;886:153,102,255;887:102,0,255;888:102,51,255;889:51,0,204;890:51,0,255;891:255,51,153;892:204,0,102;893:102,0,51;894:153,0,51;895:204,51,102;896:255,102,153;897:255,0,102;898:255,51,102;899:204,0,51;900:255,0,51;901:255,153,204;902:204,102,153;903:153,51,102;904:153,0,102;905:204,51,153;906:255,102,204;907:255,0,153;908:204,0,153;909:255,51,204;910:255,0,153;920:204,204,204;921:153,153,153;922:102,102,102;923:51,51,51;924:53,42,134;925:51,44,137;926:50,45,140;927:49,47,143;928:48,48,146;929:46,50,148;930:45,51,151;931:44,53,154;932:43,55,157;933:42,56,160;934:40,58,162;935:39,59,165;936:38,61,168;937:37,63,171;938:35,64,174;939:34,66,176;940:33,67,179;941:32,69,182;942:31,71,185;943:29,72,187;944:28,74,190;945:27,75,193;946:26,77,196;947:24,79,199;948:23,80,201;949:22,82,204;950:21,83,207;951:19,85,210;952:18,86,213;953:17,88,215;954:16,90,218;955:15,91,221;956:15,92,221;957:15,94,220;958:15,95,220;959:15,96,220;960:15,97,220;961:15,98,220;962:16,99,219;963:16,100,219;964:16,102,219;965:16,103,219;966:16,104,218;967:16,105,218;968:17,106,218;969:17,107,218;970:17,109,217;971:17,110,217;972:17,111,217;973:17,112,217;974:17,113,216;975:18,114,216;976:18,115,216;977:18,117,216;978:18,118,215;979:18,119,215;980:18,120,215;981:18,121,215;982:19,122,215;983:19,123,214;984:19,125,214;985:19,126,214;986:19,127,214;987:19,128,213;988:19,129,213;989:19,130,213;990:18,131,212;991:18,132,212;992:17,134,211;993:17,135,211;994:16,136,211;995:16,137,210;996:15,138,210;997:15,139,210;998:15,140,209;999:14,141,209;1000:14,142,208;1001:13,143,208;1002:13,145,208;1003:12,146,207;1004:12,147,207;1005:12,148,207;1006:11,149,206;1007:11,150,206;1008:10,151,205;1009:10,152,205;1010:9,153,205;1011:9,154,204;1012:8,155,204;1013:8,157,204;1014:8,158,203;1015:7,159,203;1016:7,160,202;1017:6,161,202;1018:6,162,202;1019:5,163,201;1020:7,164,200;1021:8,164,199;1022:9,165,198;1023:10,166,197;1024:12,166,195;1025:13,167,194;1026:14,167,193;1027:15,168,192;1028:17,169,191;1029:18,169,189;1030:19,170,188;1031:20,170,187;1032:22,171,186;1033:23,172,185;1034:24,172,184;1035:25,173,182;1036:27,173,181;1037:28,174,180;1038:29,175,179;1039:30,175,178;1040:32,176,176;1041:33,176,175;1042:34,177,174;1043:35,178,173;1044:37,178,172;1045:38,179,170;1046:39,180,169;1047:40,180,168;1048:42,181,167;1049:43,181,166;1050:44,182,165;1051:45,183,163;1052:48,183,162;1053:51,183,161;1054:54,183,159;1055:57,184,158;1056:59,184,156;1057:62,184,155;1058:65,184,154;1059:68,185,152;1060:71,185,151;1061:73,185,149;1062:76,185,148;1063:79,186,146;1064:82,186,145;1065:84,186,144;1066:87,186,142;1067:90,187,141;1068:93,187,139;1069:96,187,138;1070:98,187,137;1071:101,188,135;1072:104,188,134;1073:107,188,132;1074:110,188,131;1075:112,189,130;1076:115,189,128;1077:118,189,127;1078:121,189,125;1079:124,190,124;1080:126,190,123;1081:129,190,121;1082:132,190,120;1083:135,191,118;1084:137,190,117;1085:139,190,117;1086:142,190,116;1087:144,190,115;1088:146,190,114;1089:148,190,113;1090:151,190,112;1091:153,190,111;1092:155,189,110;1093:158,189,109;1094:160,189,108;1095:162,189,107;1096:165,189,106;1097:167,189,105;1098:169,189,104;1099:171,188,104;1100:174,188,103;1101:176,188,102;1102:178,188,101;1103:181,188,100;1104:183,188,99;1105:185,188,98;1106:188,188,97;1107:190,187,96;1108:192,187,95;1109:194,187,94;1110:197,187,93;1111:199,187,92;1112:201,187,92;1113:204,187,91;1114:206,186,90;1115:208,186,89;1116:210,187,88;1117:211,187,86;1118:212,188,85;1119:214,188,84;1120:215,188,83;1121:217,189,81;1122:218,189,80;1123:220,190,79;1124:221,190,78;1125:222,191,77;1126:224,191,75;1127:225,191,74;1128:227,192,73;1129:228,192,72;1130:229,193,70;1131:231,193,69;1132:232,194,68;1133:234,194,67;1134:235,194,66;1135:236,195,64;1136:238,195,63;1137:239,196,62;1138:241,196,61;1139:242,197,59;1140:244,197,58;1141:245,197,57;1142:246,198,56;1143:248,198,55;1144:249,199,53;1145:251,199,52;1146:252,200,51;1147:253,200,50;1148:253,202,49;1149:253,203,47;1150:253,205,46;1151:253,206,45;1152:253,208,44;1153:252,209,43;1154:252,211,42;1155:252,213,41;1156:252,214,39;1157:252,216,38;1158:252,217,37;1159:252,219,36;1160:251,220,35;1161:251,222,34;1162:251,224,33;1163:251,225,31;1164:251,227,30;1165:251,228,29;1166:250,230,28;1167:250,231,27;1168:250,233,26;1169:250,235,25;1170:250,236,23;1171:250,238,22;1172:250,239,21;1173:249,241,20;1174:249,242,19;1175:249,244,18;1176:249,246,17;1177:249,247,16;1178:249,249,14\",\"fBuf\":[924,925,926,927,928,929,930,931,932,933,934,935,936,937,938,939,940,941,942,943,944,945,946,947,948,949,950,951,952,953,954,955,956,957,958,959,960,961,962,963,964,965,966,967,968,969,970,971,972,973,974,975,976,977,978,979,980,981,982,983,984,985,986,987,988,989,990,991,992,993,994,995,996,997,998,999,1000,1001,1002,1003,1004,1005,1006,1007,1008,1009,1010,1011,1012,1013,1014,1015,1016,1017,1018,1019,1020,1021,1022,1023,1024,1025,1026,1027,1028,1029,1030,1031,1032,1033,1034,1035,1036,1037,1038,1039,1040,1041,1042,1043,1044,1045,1046,1047,1048,1049,1050,1051,1052,1053,1054,1055,1056,1057,1058,1059,1060,1061,1062,1063,1064,1065,1066,1067,1068,1069,1070,1071,1072,1073,1074,1075,1076,1077,1078,1079,1080,1081,1082,1083,1084,1085,1086,1087,1088,1089,1090,1091,1092,1093,1094,1095,1096,1097,1098,1099,1100,1101,1102,1103,1104,1105,1106,1107,1108,1109,1110,1111,1112,1113,1114,1115,1116,1117,1118,1119,1120,1121,1122,1123,1124,1125,1126,1127,1128,1129,1130,1131,1132,1133,1134,1135,1136,1137,1138,1139,1140,1141,1142,1143,1144,1145,1146,1147,1148,1149,1150,1151,1152,1153,1154,1155,1156,1157,1158,1159,1160,1161,1162,1163,1164,1165,1166,1167,1168,1169,1170,1171,1172,1173,1174,1175,1176,1177,1178]}},{\"_typename\":\"TWebSnapshot\",\"fUniqueID\":0,\"fBits\":0,\"fObjectID\":\"\",\"fOption\":\"\",\"fKind\":5,\"fSnapshot\":{\"_typename\":\"TStyle\",\"fUniqueID\":0,\"fBits\":0,\"fName\":\"Modern\",\"fTitle\":\"Modern Style\",\"fLineColor\":1,\"fLineStyle\":1,\"fLineWidth\":1,\"fFillColor\":19,\"fFillStyle\":1001,\"fMarkerColor\":1,\"fMarkerStyle\":1,\"fMarkerSize\":1,\"fTextAngle\":0,\"fTextSize\":0.05,\"fTextAlign\":11,\"fTextColor\":1,\"fTextFont\":62,\"fXaxis\":{\"_typename\":\"TAttAxis\",\"fNdivisions\":510,\"fAxisColor\":1,\"fLabelColor\":1,\"fLabelFont\":42,\"fLabelOffset\":0.005,\"fLabelSize\":0.035,\"fTickLength\":0.03,\"fTitleOffset\":1,\"fTitleSize\":0.035,\"fTitleColor\":1,\"fTitleFont\":42},\"fYaxis\":{\"_typename\":\"TAttAxis\",\"fNdivisions\":510,\"fAxisColor\":1,\"fLabelColor\":1,\"fLabelFont\":42,\"fLabelOffset\":0.005,\"fLabelSize\":0.035,\"fTickLength\":0.03,\"fTitleOffset\":0,\"fTitleSize\":0.035,\"fTitleColor\":1,\"fTitleFont\":42},\"fZaxis\":{\"_typename\":\"TAttAxis\",\"fNdivisions\":510,\"fAxisColor\":1,\"fLabelColor\":1,\"fLabelFont\":42,\"fLabelOffset\":0.005,\"fLabelSize\":0.035,\"fTickLength\":0.03,\"fTitleOffset\":1,\"fTitleSize\":0.035,\"fTitleColor\":1,\"fTitleFont\":42},\"fBarWidth\":1,\"fBarOffset\":0,\"fColorModelPS\":0,\"fDrawBorder\":0,\"fOptLogx\":0,\"fOptLogy\":0,\"fOptLogz\":0,\"fOptDate\":0,\"fOptStat\":1111,\"fOptTitle\":1,\"fOptFile\":0,\"fOptFit\":0,\"fShowEventStatus\":0,\"fShowEditor\":0,\"fShowToolBar\":0,\"fNumberContours\":20,\"fAttDate\":{\"_typename\":\"TAttText\",\"fTextAngle\":0,\"fTextSize\":0.025,\"fTextAlign\":11,\"fTextColor\":1,\"fTextFont\":62},\"fDateX\":0.01,\"fDateY\":0.01,\"fEndErrorSize\":2,\"fErrorX\":0.5,\"fFuncColor\":2,\"fFuncStyle\":1,\"fFuncWidth\":2,\"fGridColor\":0,\"fGridStyle\":3,\"fGridWidth\":1,\"fLegendBorderSize\":1,\"fLegendFillColor\":0,\"fLegendFont\":42,\"fLegendTextSize\":0,\"fHatchesLineWidth\":1,\"fHatchesSpacing\":1,\"fFrameFillColor\":0,\"fFrameLineColor\":1,\"fFrameFillStyle\":1001,\"fFrameLineStyle\":1,\"fFrameLineWidth\":1,\"fFrameBorderSize\":1,\"fFrameBorderMode\":0,\"fHistFillColor\":0,\"fHistLineColor\":602,\"fHistFillStyle\":1001,\"fHistLineStyle\":1,\"fHistLineWidth\":1,\"fHistMinimumZero\":false,\"fHistTopMargin\":0.05,\"fCanvasPreferGL\":false,\"fCanvasColor\":0,\"fCanvasBorderSize\":2,\"fCanvasBorderMode\":0,\"fCanvasDefH\":500,\"fCanvasDefW\":700,\"fCanvasDefX\":10,\"fCanvasDefY\":10,\"fPadColor\":0,\"fPadBorderSize\":2,\"fPadBorderMode\":0,\"fPadBottomMargin\":0.1,\"fPadTopMargin\":0.1,\"fPadLeftMargin\":0.1,\"fPadRightMargin\":0.1,\"fPadGridX\":false,\"fPadGridY\":false,\"fPadTickX\":0,\"fPadTickY\":0,\"fPaperSizeX\":20,\"fPaperSizeY\":26,\"fScreenFactor\":1,\"fStatColor\":0,\"fStatTextColor\":1,\"fStatBorderSize\":1,\"fStatFont\":42,\"fStatFontSize\":0,\"fStatStyle\":1001,\"fStatFormat\":\"6.4g\",\"fStatX\":0.98,\"fStatY\":0.935,\"fStatW\":0.2,\"fStatH\":0.16,\"fStripDecimals\":true,\"fTitleAlign\":23,\"fTitleColor\":0,\"fTitleTextColor\":1,\"fTitleBorderSize\":0,\"fTitleFont\":42,\"fTitleFontSize\":0.05,\"fTitleStyle\":0,\"fTitleX\":0.5,\"fTitleY\":0.995,\"fTitleW\":0,\"fTitleH\":0,\"fLegoInnerR\":0.5,\"fLineStyles\":[\"\",\"  \",\" 12 12\",\" 4 8\",\" 12 16 4 16\",\" 20 12 4 12\",\" 20 12 4 12 4 12 4 12\",\" 20 20\",\" 20 12 4 12 4 12\",\" 80 20\",\" 80 40 4 40\",\"  \",\"  \",\"  \",\"  \",\"  \",\"  \",\"  \",\"  \",\"  \",\"  \",\"  \",\"  \",\"  \",\"  \",\"  \",\"  \",\"  \",\"  \",\"  \"],\"fHeaderPS\":\"\",\"fTitlePS\":\"\",\"fFitFormat\":\"5.4g\",\"fPaintTextFormat\":\"g\",\"fLineScalePS\":3,\"fJoinLinePS\":0,\"fCapLinePS\":0,\"fTimeOffset\":788918400,\"fImageScaling\":1,\"fCandleWhiskerRange\":1,\"fCandleBoxRange\":0.5,\"fCandleScaled\":false,\"fViolinScaled\":true,\"fXAxisExpXOffset\":0,\"fXAxisExpYOffset\":0,\"fYAxisExpXOffset\":0,\"fYAxisExpYOffset\":0,\"fAxisMaxDigits\":5,\"fOrthoCamera\":false}},{\"_typename\":\"TPadWebSnapshot\",\"fUniqueID\":0,\"fBits\":0,\"fObjectID\":\"\",\"fOption\":\"\",\"fKind\":3,\"fSnapshot\":{\"_typename\":\"TPad\",\"fUniqueID\":0,\"fBits\":9,\"fLineColor\":1,\"fLineStyle\":1,\"fLineWidth\":1,\"fFillColor\":0,\"fFillStyle\":1001,\"fLeftMargin\":0.1,\"fRightMargin\":0.1,\"fBottomMargin\":0.1,\"fTopMargin\":0.1,\"fXfile\":2,\"fYfile\":2,\"fAfile\":1,\"fXstat\":0.99,\"fYstat\":0.99,\"fAstat\":2,\"fFrameFillColor\":0,\"fFrameLineColor\":1,\"fFrameFillStyle\":1001,\"fFrameLineStyle\":1,\"fFrameLineWidth\":1,\"fFrameBorderSize\":1,\"fFrameBorderMode\":0,\"fX1\":-102.875007664785,\"fY1\":0.247894393995291,\"fX2\":925.875007664785,\"fY2\":1.15042112658042,\"fXtoAbsPixelk\":46.1680021350385,\"fXtoPixelk\":38.2080023129583,\"fXtoPixel\":0.371402181931863,\"fYtoAbsPixelk\":355.692597252575,\"fYtoPixelk\":349.972597380426,\"fYtoPixel\":-304.212595974055,\"fUtoAbsPixelk\":7.95999982208014,\"fUtoPixelk\":0,\"fUtoPixel\":382.08000035584,\"fVtoAbsPixelk\":280.280000127852,\"fVtoPixelk\":274.560000255704,\"fVtoPixel\":-274.560000255704,\"fAbsPixeltoXk\":-124.307299151809,\"fPixeltoXk\":-102.875007664785,\"fPixeltoX\":2.69249899071261,\"fAbsPixeltoYk\":1.16922376640483,\"fPixeltoYk\":0.247894393995291,\"fPixeltoY\":-0.00328717486795085,\"fXlowNDC\":0.00999999977648258,\"fYlowNDC\":0.509999999776483,\"fXUpNDC\":0.490000000223517,\"fYUpNDC\":0.990000000223517,\"fWNDC\":0.480000000447035,\"fHNDC\":0.480000000447035,\"fAbsXlowNDC\":0.00999999977648258,\"fAbsYlowNDC\":0.509999999776483,\"fAbsWNDC\":0.480000000447035,\"fAbsHNDC\":0.480000000447035,\"fUxmin\":0,\"fUymin\":0.338147072633283,\"fUxmax\":823,\"fUymax\":1.06016844794243,\"fTheta\":30,\"fPhi\":30,\"fAspectRatio\":0,\"fNumber\":1,\"fTickx\":0,\"fTicky\":0,\"fLogx\":0,\"fLogy\":0,\"fLogz\":0,\"fPadPaint\":0,\"fCrosshair\":0,\"fCrosshairPos\":0,\"fBorderSize\":2,\"fBorderMode\":0,\"fModified\":true,\"fGridx\":false,\"fGridy\":false,\"fAbsCoord\":false,\"fEditable\":true,\"fFixedAspectRatio\":false,\"fPrimitives\":{\"_typename\":\"TList\",\"name\":\"TList\",\"arr\":[],\"opt\":[]},\"fExecs\":{\"_typename\":\"TList\",\"name\":\"TList\",\"arr\":[],\"opt\":[]},\"fName\":\"canvas3_1\",\"fTitle\":\"canvas3_1\",\"fNumPaletteColor\":0,\"fNextPaletteColor\":0},\"fActive\":false,\"fReadOnly\":true,\"fWithoutPrimitives\":false,\"fHasExecs\":true,\"fPrimitives\":[{\"_typename\":\"TWebSnapshot\",\"fUniqueID\":0,\"fBits\":0,\"fObjectID\":\"\",\"fOption\":\"\",\"fKind\":1,\"fSnapshot\":{\"_typename\":\"TFrame\",\"fUniqueID\":0,\"fBits\":8,\"fLineColor\":1,\"fLineStyle\":1,\"fLineWidth\":1,\"fFillColor\":0,\"fFillStyle\":1001,\"fX1\":0,\"fY1\":0.338147072633283,\"fX2\":823,\"fY2\":1.06016844794243,\"fBorderSize\":1,\"fBorderMode\":0}},{\"_typename\":\"TWebSnapshot\",\"fUniqueID\":0,\"fBits\":0,\"fObjectID\":\"\",\"fOption\":\"ap\",\"fKind\":2,\"fSnapshot\":{\"_typename\":\"TWebPainting\",\"fUniqueID\":0,\"fBits\":0,\"fOper\":\"y0:1001;b;z1:1:1;r;l2;l2;l2;l2;l2;l2;l2;l2;l2;l2;l2;l2;l2;l2;l2;l2;l2;l2;l2;l2;l2;l2;l2;l2;l2;l2;l2;l2;l2;l2;l2;l2;l2;l2;l2;l2;l2;l2;l2;l2;l2;l2;l2;l2;o1:42:-35:11:0;t0;o1:42:-35:11:0;t100;o1:42:-35:11:0;t200;o1:42:-35:11:0;t300;o1:42:-35:11:0;t400;o1:42:-35:11:0;t500;o1:42:-35:11:0;t600;o1:42:-35:11:0;t700;o1:42:-35:11:0;t800;o1:42:-23:11:0;tT;o1:42:-35:11:0;tmuon p;l2;l2;l2;l2;l2;l2;l2;l2;l2;l2;l2;l2;l2;l2;l2;l2;l2;l2;l2;l2;l2;l2;l2;l2;l2;l2;l2;l2;l2;l2;l2;l2;l2;l2;l2;l2;l2;l2;l2;l2;o1:42:-35:11:0;t0.4;o1:42:-35:11:0;t0.5;o1:42:-35:11:0;t0.6;o1:42:-35:11:0;t0.7;o1:42:-35:11:0;t0.8;o1:42:-35:11:0;t0.9;o1:42:-35:11:0;t1;o1:42:-35:11:90;tEfficiency;x1:1:1;m17;l2;l2;l2;l2;l2;l2;l2;l2;l2;l2;l2;l2;l2;l2;l2;l2;l2;l2;l2;l2;l2;l2;l2;l2;l2;l2;l2;l2;l2;l2;l2;l2;l2;l2;l2;l2;l2;l2;l2;l2;l2;l2;l2;l2;l2;l2;l2;l2;l2;l2;l2;l2;l2;l2;l2;l2;l2;l2;l2;l2;l2;l2;l2;l2;l2;l2;l2;l2;l2;l2;l2;l2;l2;l2;l2;l2;l2;l2;l2;l2;l2;l2;l2;l2;l2;l2;l2;l2;l2;l2;l2;l2;l2;l2;l2;l2;l2;l2;l2;l2;l2;l2;l2;l2;l2;l2;l2;l2;l2;l2;l2;l2;l2;l2;l2;l2;l2;l2;l2;l2;l2;l2;l2;l2\",\"fBuf\":[0,0.3381471,823,1.060169,0,0.3381471,823,1.060169,0,0.3381471,823,0.3381471,0,0.3598077,0,0.3381471,20,0.3489774,20,0.3381471,40,0.3489774,40,0.3381471,60,0.3489774,60,0.3381471,80,0.3489774,80,0.3381471,100,0.3598077,100,0.3381471,120,0.3489774,120,0.3381471,140,0.3489774,140,0.3381471,160,0.3489774,160,0.3381471,180,0.3489774,180,0.3381471,200,0.3598077,200,0.3381471,220,0.3489774,220,0.3381471,240,0.3489774,240,0.3381471,260,0.3489774,260,0.3381471,280,0.3489774,280,0.3381471,300,0.3598077,300,0.3381471,320,0.3489774,320,0.3381471,340,0.3489774,340,0.3381471,360,0.3489774,360,0.3381471,380,0.3489774,380,0.3381471,400,0.3598077,400,0.3381471,420,0.3489774,420,0.3381471,440,0.3489774,440,0.3381471,460,0.3489774,460,0.3381471,480,0.3489774,480,0.3381471,500,0.3598077,500,0.3381471,520,0.3489774,520,0.3381471,540,0.3489774,540,0.3381471,560,0.3489774,560,0.3381471,580,0.3489774,580,0.3381471,600,0.3598077,600,0.3381471,620,0.3489774,620,0.3381471,640,0.3489774,640,0.3381471,660,0.3489774,660,0.3381471,680,0.3489774,680,0.3381471,700,0.3598077,700,0.3381471,720,0.3489774,720,0.3381471,740,0.3489774,740,0.3381471,760,0.3489774,760,0.3381471,780,0.3489774,780,0.3381471,800,0.3598077,800,0.3381471,800,0.3598077,800,0.3381471,820,0.3489774,820,0.3381471,-8.529842,0.307984,77.63013,0.307984,177.2526,0.307984,279.5675,0.307984,379.19,0.307984,478.8125,0.307984,578.4349,0.307984,678.0574,0.307984,777.6799,0.307984,812.6824,0.2685378,731.9074,0.2849737,0,0.3381471,0,1.060169,24.69,0.4,0,0.4,12.345,0.42,0,0.42,12.345,0.44,0,0.44,12.345,0.46,0,0.46,12.345,0.48,0,0.48,24.69,0.5,0,0.5,12.345,0.52,0,0.52,12.345,0.54,0,0.54,12.345,0.56,0,0.56,12.345,0.58,0,0.58,24.69,0.6,0,0.6,12.345,0.62,0,0.62,12.345,0.64,0,0.64,12.345,0.66,0,0.66,12.345,0.68,0,0.68,24.69,0.7,0,0.7,12.345,0.72,0,0.72,12.345,0.74,0,0.74,12.345,0.76,0,0.76,12.345,0.78,0,0.78,24.69,0.8,0,0.8,12.345,0.82,0,0.82,12.345,0.84,0,0.84,12.345,0.86,0,0.86,12.345,0.88,0,0.88,24.69,0.9,0,0.9,12.345,0.92,0,0.92,12.345,0.94,0,0.94,12.345,0.96,0,0.96,12.345,0.98,0,0.98,24.69,1,0,1,24.69,0.4,0,0.4,12.345,0.38,0,0.38,12.345,0.36,0,0.36,12.345,0.34,0,0.34,24.69,1,0,1,12.345,1.02,0,1.02,12.345,1.04,0,1.04,12.345,1.06,0,1.06,-40.83983,0.3868761,-40.83983,0.4854914,-40.83983,0.5873938,-40.83983,0.686009,-40.83983,0.7879115,-40.83983,0.8865267,-16.60734,0.9884291,-62.37982,0.9325472,22.5,0.9970096,27.5,0.9977547,32.5,0.9970154,37.5,0.9969224,45,0.9960341,55,0.9971591,65,0.9974017,80,0.9940711,100,1,120,0.9790576,140,1,175,1,225,0.9666666,275,0.9230769,350,1,450,1,625,1,22.5,0.9970096,20,0.9970096,22.5,0.9970096,25,0.9970096,20,0.9904352,20,1.003584,25,0.9904352,25,1.003584,22.5,0.9970096,22.5,0.9979386,22.5,0.9970096,22.5,0.9957363,17.115,0.9979386,27.885,0.9979386,17.115,0.9957363,27.885,0.9957363,27.5,0.9977547,25,0.9977547,27.5,0.9977547,30,0.9977547,25,0.9911804,25,1.004329,30,0.9911804,30,1.004329,27.5,0.9977547,27.5,0.9983097,27.5,0.9977547,27.5,0.9970424,22.115,0.9983097,32.885,0.9983097,22.115,0.9970424,32.885,0.9970424,32.5,0.9970154,30,0.9970154,32.5,0.9970154,35,0.9970154,30,0.990441,30,1.00359,35,0.990441,35,1.00359,32.5,0.9970154,32.5,0.9974848,32.5,0.9970154,32.5,0.9964659,27.115,0.9974848,37.885,0.9974848,27.115,0.9964659,37.885,0.9964659,37.5,0.9969224,35,0.9969224,37.5,0.9969224,40,0.9969224,35,0.9903481,35,1.003497,40,0.9903481,40,1.003497,37.5,0.9969224,37.5,0.9973149,37.5,0.9969224,37.5,0.9964766,32.115,0.9973149,42.885,0.9973149,32.115,0.9964766,42.885,0.9964766,45,0.9960341,40,0.9960341,45,0.9960341,50,0.9960341,40,0.9894598,40,1.002608,50,0.9894598,50,1.002608,45,0.9960341,45,0.9963478,45,0.9960341,45,0.9956948,39.615,0.9963478,50.385,0.9963478,39.615,0.9956948,50.385,0.9956948,55,0.9971591,50,0.9971591,55,0.9971591,60,0.9971591,50,0.9905847,50,1.003733,60,0.9905847,60,1.003733,55,0.9971591,55,0.9977121,55,0.9971591,55,0.9964867,49.615,0.9977121,60.385,0.9977121,49.615,0.9964867,60.385,0.9964867,65,0.9974017,60,0.9974017,65,0.9974017,70,0.9974017,60,0.9908273,60,1.003976,70,0.9908273,70,1.003976,65,0.9974017,65,0.9983594,65,0.9974017,65,0.9960049,59.615,0.9983594,70.38499,0.9983594,59.615,0.9960049,70.38499,0.9960049,80,0.9940711,70,0.9940711,80,0.9940711,90,0.9940711,70,0.9874968,70,1.000646,90,0.9874968,90,1.000646,80,0.9940711,80,0.9960076,80,0.9940711,80,0.9913752,74.61501,0.9960076,85.38499,0.9960076,74.61501,0.9913752,85.38499,0.9913752,100,1,90,1,100,1,110,1,90,0.9934257,90,1.006574,110,0.9934257,110,1.006574,100,1,100,0.9956366,94.61501,0.9956366,105.385,0.9956366,120,0.9790576,110,0.9790576,120,0.9790576,130,0.9790576,110,0.9724832,110,0.9856319,130,0.9724832,130,0.9856319,120,0.9790576,120,0.989054,120,0.9790576,120,0.9628087,114.615,0.989054,125.385,0.989054,114.615,0.9628087,125.385,0.9628087,140,1,130,1,140,1,150,1,130,0.9934257,130,1.006574,150,0.9934257,150,1.006574,140,1,140,0.9790612,134.615,0.9790612,145.385,0.9790612,175,1,150,1,175,1,200,1,150,0.9934257,150,1.006574,200,0.9934257,200,1.006574,175,1,175,0.9810054,169.615,0.9810054,180.385,0.9810054,225,0.9666666,200,0.9666666,225,0.9666666,250,0.9666666,200,0.9600923,200,0.973241,250,0.9600923,250,0.973241,225,0.9666666,225,0.9942581,225,0.9666666,225,0.8941497,219.615,0.9942581,230.385,0.9942581,219.615,0.8941497,230.385,0.8941497,275,0.9230769,250,0.9230769,275,0.9230769,300,0.9230769,250,0.9165026,250,0.9296513,300,0.9165026,300,0.9296513,275,0.9230769,275,0.9867992,275,0.9230769,275,0.7676616,269.615,0.9867992,280.385,0.9867992,269.615,0.7676616,280.385,0.7676616,350,1,300,1,350,1,400,1,300,0.9934257,300,1.006574,400,0.9934257,400,1.006574,350,1,350,0.6919758,344.615,0.6919758,355.385,0.6919758,450,1,400,1,450,1,500,1,400,0.9934257,400,1.006574,500,0.9934257,500,1.006574,450,1,450,0.5413584,444.615,0.5413584,455.385,0.5413584,625,1,500,1,625,1,750,1,500,0.9934257,500,1.006574,750,0.9934257,750,1.006574,625,1,625,0.3983155,619.615,0.3983155,630.385,0.3983155]}},{\"_typename\":\"TWebSnapshot\",\"fUniqueID\":0,\"fBits\":0,\"fObjectID\":\"\",\"fOption\":\"blNDC\",\"fKind\":1,\"fSnapshot\":{\"_typename\":\"TPaveText\",\"fUniqueID\":0,\"fBits\":9,\"fLineColor\":1,\"fLineStyle\":1,\"fLineWidth\":1,\"fFillColor\":0,\"fFillStyle\":0,\"fX1\":180.427582608271,\"fY1\":1.0709609102318,\"fX2\":642.572417391729,\"fY2\":1.14590849722108,\"fX1NDC\":0.275385259831366,\"fY1NDC\":0.911958046803752,\"fX2NDC\":0.724614740168634,\"fY2NDC\":0.995000004768372,\"fBorderSize\":0,\"fInit\":1,\"fShadowColor\":1,\"fCornerRadius\":0,\"fOption\":\"blNDC\",\"fName\":\"title\",\"fTextAngle\":0,\"fTextSize\":0,\"fTextAlign\":22,\"fTextColor\":1,\"fTextFont\":42,\"fLabel\":\"\",\"fLongest\":27,\"fMargin\":0.05,\"fLines\":{\"_typename\":\"TList\",\"name\":\"TList\",\"arr\":[{\"_typename\":\"TLatex\",\"fUniqueID\":0,\"fBits\":0,\"fName\":\"\",\"fTitle\":\"segment efficiency vs p_{T}\",\"fTextAngle\":0,\"fTextSize\":0,\"fTextAlign\":0,\"fTextColor\":0,\"fTextFont\":0,\"fX\":0,\"fY\":0,\"fLineColor\":1,\"fLineStyle\":1,\"fLineWidth\":2,\"fLimitFactorSize\":3,\"fOriginSize\":0.0571600086987019}],\"opt\":[\"\"]}}}]},{\"_typename\":\"TPadWebSnapshot\",\"fUniqueID\":0,\"fBits\":0,\"fObjectID\":\"\",\"fOption\":\"\",\"fKind\":3,\"fSnapshot\":{\"_typename\":\"TPad\",\"fUniqueID\":0,\"fBits\":9,\"fLineColor\":1,\"fLineStyle\":1,\"fLineWidth\":1,\"fFillColor\":0,\"fFillStyle\":1001,\"fLeftMargin\":0.1,\"fRightMargin\":0.1,\"fBottomMargin\":0.1,\"fTopMargin\":0.1,\"fXfile\":2,\"fYfile\":2,\"fAfile\":1,\"fXstat\":0.99,\"fYstat\":0.99,\"fAstat\":2,\"fFrameFillColor\":0,\"fFrameLineColor\":1,\"fFrameFillStyle\":1001,\"fFrameLineStyle\":1,\"fFrameLineWidth\":1,\"fFrameBorderSize\":1,\"fFrameBorderMode\":0,\"fX1\":-102.875007664785,\"fY1\":0.247894393995291,\"fX2\":925.875007664785,\"fY2\":1.15042112658042,\"fXtoAbsPixelk\":444.168002135038,\"fXtoPixelk\":38.2080023129583,\"fXtoPixel\":0.371402181931863,\"fYtoAbsPixelk\":355.692597252575,\"fYtoPixelk\":349.972597380426,\"fYtoPixel\":-304.212595974055,\"fUtoAbsPixelk\":405.95999982208,\"fUtoPixelk\":0,\"fUtoPixel\":382.08000035584,\"fVtoAbsPixelk\":280.280000127852,\"fVtoPixelk\":274.560000255704,\"fVtoPixel\":-274.560000255704,\"fAbsPixeltoXk\":-1195.92189745543,\"fPixeltoXk\":-102.875007664785,\"fPixeltoX\":2.69249899071261,\"fAbsPixeltoYk\":1.16922376640483,\"fPixeltoYk\":0.247894393995291,\"fPixeltoY\":-0.00328717486795085,\"fXlowNDC\":0.509999999776483,\"fYlowNDC\":0.509999999776483,\"fXUpNDC\":0.990000000223517,\"fYUpNDC\":0.990000000223517,\"fWNDC\":0.480000000447035,\"fHNDC\":0.480000000447035,\"fAbsXlowNDC\":0.509999999776483,\"fAbsYlowNDC\":0.509999999776483,\"fAbsWNDC\":0.480000000447035,\"fAbsHNDC\":0.480000000447035,\"fUxmin\":0,\"fUymin\":0.338147072633283,\"fUxmax\":823,\"fUymax\":1.06016844794243,\"fTheta\":30,\"fPhi\":30,\"fAspectRatio\":0,\"fNumber\":2,\"fTickx\":0,\"fTicky\":0,\"fLogx\":0,\"fLogy\":0,\"fLogz\":0,\"fPadPaint\":0,\"fCrosshair\":0,\"fCrosshairPos\":0,\"fBorderSize\":2,\"fBorderMode\":0,\"fModified\":true,\"fGridx\":false,\"fGridy\":false,\"fAbsCoord\":false,\"fEditable\":true,\"fFixedAspectRatio\":false,\"fPrimitives\":{\"_typename\":\"TList\",\"name\":\"TList\",\"arr\":[],\"opt\":[]},\"fExecs\":{\"_typename\":\"TList\",\"name\":\"TList\",\"arr\":[],\"opt\":[]},\"fName\":\"canvas3_2\",\"fTitle\":\"canvas3_2\",\"fNumPaletteColor\":0,\"fNextPaletteColor\":0},\"fActive\":false,\"fReadOnly\":true,\"fWithoutPrimitives\":false,\"fHasExecs\":true,\"fPrimitives\":[{\"_typename\":\"TWebSnapshot\",\"fUniqueID\":0,\"fBits\":0,\"fObjectID\":\"\",\"fOption\":\"\",\"fKind\":1,\"fSnapshot\":{\"_typename\":\"TFrame\",\"fUniqueID\":0,\"fBits\":8,\"fLineColor\":1,\"fLineStyle\":1,\"fLineWidth\":1,\"fFillColor\":0,\"fFillStyle\":1001,\"fX1\":0,\"fY1\":0.338147072633283,\"fX2\":823,\"fY2\":1.06016844794243,\"fBorderSize\":1,\"fBorderMode\":0}},{\"_typename\":\"TWebSnapshot\",\"fUniqueID\":0,\"fBits\":0,\"fObjectID\":\"\",\"fOption\":\"ap\",\"fKind\":2,\"fSnapshot\":{\"_typename\":\"TWebPainting\",\"fUniqueID\":0,\"fBits\":0,\"fOper\":\"y0:1001;b;z1:1:1;r;l2;l2;l2;l2;l2;l2;l2;l2;l2;l2;l2;l2;l2;l2;l2;l2;l2;l2;l2;l2;l2;l2;l2;l2;l2;l2;l2;l2;l2;l2;l2;l2;l2;l2;l2;l2;l2;l2;l2;l2;l2;l2;l2;l2;o1:42:-35:11:0;t0;o1:42:-35:11:0;t100;o1:42:-35:11:0;t200;o1:42:-35:11:0;t300;o1:42:-35:11:0;t400;o1:42:-35:11:0;t500;o1:42:-35:11:0;t600;o1:42:-35:11:0;t700;o1:42:-35:11:0;t800;o1:42:-23:11:0;tT;o1:42:-35:11:0;tmuon p;l2;l2;l2;l2;l2;l2;l2;l2;l2;l2;l2;l2;l2;l2;l2;l2;l2;l2;l2;l2;l2;l2;l2;l2;l2;l2;l2;l2;l2;l2;l2;l2;l2;l2;l2;l2;l2;l2;l2;l2;o1:42:-35:11:0;t0.4;o1:42:-35:11:0;t0.5;o1:42:-35:11:0;t0.6;o1:42:-35:11:0;t0.7;o1:42:-35:11:0;t0.8;o1:42:-35:11:0;t0.9;o1:42:-35:11:0;t1;o1:42:-35:11:90;tEfficiency;x1:1:1;m17;l2;l2;l2;l2;l2;l2;l2;l2;l2;l2;l2;l2;l2;l2;l2;l2;l2;l2;l2;l2;l2;l2;l2;l2;l2;l2;l2;l2;l2;l2;l2;l2;l2;l2;l2;l2;l2;l2;l2;l2;l2;l2;l2;l2;l2;l2;l2;l2;l2;l2;l2;l2;l2;l2;l2;l2;l2;l2;l2;l2;l2;l2;l2;l2;l2;l2;l2;l2;l2;l2;l2;l2;l2;l2;l2;l2;l2;l2;l2;l2;l2;l2;l2;l2;l2;l2;l2;l2;l2;l2;l2;l2;l2;l2;l2;l2;l2;l2;l2;l2;l2;l2;l2;l2;l2;l2;l2;l2;l2;l2;l2;l2;l2;l2;l2;l2;l2;l2;l2;l2;l2;l2;l2;l2;l2;l2\",\"fBuf\":[0,0.3381471,823,1.060169,0,0.3381471,823,1.060169,0,0.3381471,823,0.3381471,0,0.3598077,0,0.3381471,20,0.3489774,20,0.3381471,40,0.3489774,40,0.3381471,60,0.3489774,60,0.3381471,80,0.3489774,80,0.3381471,100,0.3598077,100,0.3381471,120,0.3489774,120,0.3381471,140,0.3489774,140,0.3381471,160,0.3489774,160,0.3381471,180,0.3489774,180,0.3381471,200,0.3598077,200,0.3381471,220,0.3489774,220,0.3381471,240,0.3489774,240,0.3381471,260,0.3489774,260,0.3381471,280,0.3489774,280,0.3381471,300,0.3598077,300,0.3381471,320,0.3489774,320,0.3381471,340,0.3489774,340,0.3381471,360,0.3489774,360,0.3381471,380,0.3489774,380,0.3381471,400,0.3598077,400,0.3381471,420,0.3489774,420,0.3381471,440,0.3489774,440,0.3381471,460,0.3489774,460,0.3381471,480,0.3489774,480,0.3381471,500,0.3598077,500,0.3381471,520,0.3489774,520,0.3381471,540,0.3489774,540,0.3381471,560,0.3489774,560,0.3381471,580,0.3489774,580,0.3381471,600,0.3598077,600,0.3381471,620,0.3489774,620,0.3381471,640,0.3489774,640,0.3381471,660,0.3489774,660,0.3381471,680,0.3489774,680,0.3381471,700,0.3598077,700,0.3381471,720,0.3489774,720,0.3381471,740,0.3489774,740,0.3381471,760,0.3489774,760,0.3381471,780,0.3489774,780,0.3381471,800,0.3598077,800,0.3381471,800,0.3598077,800,0.3381471,820,0.3489774,820,0.3381471,-8.529842,0.307984,77.63013,0.307984,177.2526,0.307984,279.5675,0.307984,379.19,0.307984,478.8125,0.307984,578.4349,0.307984,678.0574,0.307984,777.6799,0.307984,812.6824,0.2685378,731.9074,0.2849737,0,0.3381471,0,1.060169,24.69,0.4,0,0.4,12.345,0.42,0,0.42,12.345,0.44,0,0.44,12.345,0.46,0,0.46,12.345,0.48,0,0.48,24.69,0.5,0,0.5,12.345,0.52,0,0.52,12.345,0.54,0,0.54,12.345,0.56,0,0.56,12.345,0.58,0,0.58,24.69,0.6,0,0.6,12.345,0.62,0,0.62,12.345,0.64,0,0.64,12.345,0.66,0,0.66,12.345,0.68,0,0.68,24.69,0.7,0,0.7,12.345,0.72,0,0.72,12.345,0.74,0,0.74,12.345,0.76,0,0.76,12.345,0.78,0,0.78,24.69,0.8,0,0.8,12.345,0.82,0,0.82,12.345,0.84,0,0.84,12.345,0.86,0,0.86,12.345,0.88,0,0.88,24.69,0.9,0,0.9,12.345,0.92,0,0.92,12.345,0.94,0,0.94,12.345,0.96,0,0.96,12.345,0.98,0,0.98,24.69,1,0,1,24.69,0.4,0,0.4,12.345,0.38,0,0.38,12.345,0.36,0,0.36,12.345,0.34,0,0.34,24.69,1,0,1,12.345,1.02,0,1.02,12.345,1.04,0,1.04,12.345,1.06,0,1.06,-40.83983,0.3868761,-40.83983,0.4854914,-40.83983,0.5873938,-40.83983,0.686009,-40.83983,0.7879115,-40.83983,0.8865267,-16.60734,0.9884291,-62.37982,0.9325472,22.5,0.9967533,27.5,0.9970475,32.5,0.9978921,37.5,0.9971395,45,0.9968168,55,0.9977645,65,0.995671,80,0.9951355,100,0.9975669,120,0.99375,140,0.9770115,175,0.9885057,225,1,275,1,350,1,450,1,625,1,22.5,0.9967533,20,0.9967533,22.5,0.9967533,25,0.9967533,20,0.9901789,20,1.003328,25,0.9901789,25,1.003328,22.5,0.9967533,22.5,0.9977618,22.5,0.9967533,22.5,0.9953711,17.115,0.9977618,27.885,0.9977618,17.115,0.9953711,27.885,0.9953711,27.5,0.9970475,25,0.9970475,27.5,0.9970475,30,0.9970475,25,0.9904732,25,1.003622,30,0.9904732,30,1.003622,27.5,0.9970475,27.5,0.9977016,27.5,0.9970475,27.5,0.9962303,22.115,0.9977016,32.885,0.9977016,22.115,0.9962303,32.885,0.9962303,32.5,0.9978921,30,0.9978921,32.5,0.9978921,35,0.9978921,30,0.9913177,30,1.004466,35,0.9913177,35,1.004466,32.5,0.9978921,32.5,0.9982949,32.5,0.9978921,32.5,0.997404,27.115,0.9982949,37.885,0.9982949,27.115,0.997404,37.885,0.997404,37.5,0.9971395,35,0.9971395,37.5,0.9971395,40,0.9971395,35,0.9905651,35,1.003714,40,0.9905651,40,1.003714,37.5,0.9971395,37.5,0.9975307,37.5,0.9971395,37.5,0.9966908,32.115,0.9975307,42.885,0.9975307,32.115,0.9966908,42.885,0.9966908,45,0.9968168,40,0.9968168,45,0.9968168,50,0.9968168,40,0.9902424,40,1.003391,50,0.9902424,50,1.003391,45,0.9968168,45,0.9971077,45,0.9968168,45,0.9964979,39.615,0.9971077,50.385,0.9971077,39.615,0.9964979,50.385,0.9964979,55,0.9977645,50,0.9977645,55,0.9977645,60,0.9977645,50,0.9911901,50,1.004339,60,0.9911901,60,1.004339,55,0.9977645,55,0.9982724,55,0.9977645,55,0.9971259,49.615,0.9982724,60.385,0.9982724,49.615,0.9971259,60.385,0.9971259,65,0.995671,60,0.995671,65,0.995671,70,0.995671,60,0.9890966,60,1.002245,70,0.9890966,70,1.002245,65,0.995671,65,0.9969548,65,0.995671,65,0.9939381,59.615,0.9969548,70.38499,0.9969548,59.615,0.9939381,70.38499,0.9939381,80,0.9951355,70,0.9951355,80,0.9951355,90,0.9951355,70,0.9885612,70,1.00171,90,0.9885612,90,1.00171,80,0.9951355,80,0.9969277,80,0.9951355,80,0.9925252,74.61501,0.9969277,85.38499,0.9969277,74.61501,0.9925252,85.38499,0.9925252,100,0.9975669,90,0.9975669,100,0.9975669,110,0.9975669,90,0.9909925,90,1.004141,110,0.9909925,110,1.004141,100,0.9975669,100,0.9995798,100,0.9975669,100,0.9919944,94.61501,0.9995798,105.385,0.9995798,94.61501,0.9919944,105.385,0.9919944,120,0.99375,110,0.99375,120,0.99375,130,0.99375,110,0.9871756,110,1.000324,130,0.9871756,130,1.000324,120,0.99375,120,0.9989209,120,0.99375,120,0.9795256,114.615,0.9989209,125.385,0.9989209,114.615,0.9795256,125.385,0.9795256,140,0.9770115,130,0.9770115,140,0.9770115,150,0.9770115,130,0.9704372,130,0.9835858,150,0.9704372,150,0.9835858,140,0.9770115,140,0.9918461,140,0.9770115,140,0.9474948,134.615,0.9918461,145.385,0.9918461,134.615,0.9474948,145.385,0.9474948,175,0.9885057,150,0.9885057,175,0.9885057,200,0.9885057,150,0.9819314,150,0.9950801,200,0.9819314,200,0.9950801,175,0.9885057,175,0.9980163,175,0.9885057,175,0.9625723,169.615,0.9980163,180.385,0.9980163,169.615,0.9625723,180.385,0.9625723,225,1,200,1,225,1,250,1,200,0.9934257,200,1.006574,250,0.9934257,250,1.006574,225,1,225,0.9340867,219.615,0.9340867,230.385,0.9340867,275,1,250,1,275,1,300,1,250,0.9934257,250,1.006574,300,0.9934257,300,1.006574,275,1,275,0.8844982,269.615,0.8844982,280.385,0.8844982,350,1,300,1,350,1,400,1,300,0.9934257,300,1.006574,400,0.9934257,400,1.006574,350,1,350,0.7687395,344.615,0.7687395,355.385,0.7687395,450,1,400,1,450,1,500,1,400,0.9934257,400,1.006574,500,0.9934257,500,1.006574,450,1,450,0.3983155,444.615,0.3983155,455.385,0.3983155,625,1,500,1,625,1,750,1,500,0.9934257,500,1.006574,750,0.9934257,750,1.006574,625,1,625,0.3983155,619.615,0.3983155,630.385,0.3983155]}},{\"_typename\":\"TWebSnapshot\",\"fUniqueID\":0,\"fBits\":0,\"fObjectID\":\"\",\"fOption\":\"blNDC\",\"fKind\":1,\"fSnapshot\":{\"_typename\":\"TPaveText\",\"fUniqueID\":0,\"fBits\":9,\"fLineColor\":1,\"fLineStyle\":1,\"fLineWidth\":1,\"fFillColor\":0,\"fFillStyle\":0,\"fX1\":180.427582608271,\"fY1\":1.0709609102318,\"fX2\":642.572417391729,\"fY2\":1.14590849722108,\"fX1NDC\":0.275385259831366,\"fY1NDC\":0.911958046803752,\"fX2NDC\":0.724614740168634,\"fY2NDC\":0.995000004768372,\"fBorderSize\":0,\"fInit\":1,\"fShadowColor\":1,\"fCornerRadius\":0,\"fOption\":\"blNDC\",\"fName\":\"title\",\"fTextAngle\":0,\"fTextSize\":0,\"fTextAlign\":22,\"fTextColor\":1,\"fTextFont\":42,\"fLabel\":\"\",\"fLongest\":27,\"fMargin\":0.05,\"fLines\":{\"_typename\":\"TList\",\"name\":\"TList\",\"arr\":[{\"_typename\":\"TLatex\",\"fUniqueID\":0,\"fBits\":0,\"fName\":\"\",\"fTitle\":\"segment efficiency vs p_{T}\",\"fTextAngle\":0,\"fTextSize\":0,\"fTextAlign\":0,\"fTextColor\":0,\"fTextFont\":0,\"fX\":0,\"fY\":0,\"fLineColor\":1,\"fLineStyle\":1,\"fLineWidth\":2,\"fLimitFactorSize\":3,\"fOriginSize\":0.0571600086987019}],\"opt\":[\"\"]}}}]},{\"_typename\":\"TPadWebSnapshot\",\"fUniqueID\":0,\"fBits\":0,\"fObjectID\":\"\",\"fOption\":\"\",\"fKind\":3,\"fSnapshot\":{\"_typename\":\"TPad\",\"fUniqueID\":0,\"fBits\":9,\"fLineColor\":1,\"fLineStyle\":1,\"fLineWidth\":1,\"fFillColor\":0,\"fFillStyle\":1001,\"fLeftMargin\":0.1,\"fRightMargin\":0.1,\"fBottomMargin\":0.1,\"fTopMargin\":0.1,\"fXfile\":2,\"fYfile\":2,\"fAfile\":1,\"fXstat\":0.99,\"fYstat\":0.99,\"fAstat\":2,\"fFrameFillColor\":0,\"fFrameLineColor\":1,\"fFrameFillStyle\":1001,\"fFrameLineStyle\":1,\"fFrameLineWidth\":1,\"fFrameBorderSize\":1,\"fFrameBorderMode\":0,\"fX1\":-102.875007664785,\"fY1\":0.247894393995291,\"fX2\":925.875007664785,\"fY2\":1.15042112658042,\"fXtoAbsPixelk\":46.1680021350385,\"fXtoPixelk\":38.2080023129583,\"fXtoPixel\":0.371402181931863,\"fYtoAbsPixelk\":641.692597252575,\"fYtoPixelk\":349.972597380426,\"fYtoPixel\":-304.212595974055,\"fUtoAbsPixelk\":7.95999982208014,\"fUtoPixelk\":0,\"fUtoPixel\":382.08000035584,\"fVtoAbsPixelk\":566.280000127852,\"fVtoPixelk\":274.560000255704,\"fVtoPixel\":-274.560000255704,\"fAbsPixeltoXk\":-124.307299151809,\"fPixeltoXk\":-102.875007664785,\"fPixeltoX\":2.69249899071261,\"fAbsPixeltoYk\":2.10935577863877,\"fPixeltoYk\":0.247894393995291,\"fPixeltoY\":-0.00328717486795085,\"fXlowNDC\":0.00999999977648258,\"fYlowNDC\":0.00999999977648258,\"fXUpNDC\":0.490000000223517,\"fYUpNDC\":0.490000000223517,\"fWNDC\":0.480000000447035,\"fHNDC\":0.480000000447035,\"fAbsXlowNDC\":0.00999999977648258,\"fAbsYlowNDC\":0.00999999977648258,\"fAbsWNDC\":0.480000000447035,\"fAbsHNDC\":0.480000000447035,\"fUxmin\":0,\"fUymin\":0.338147072633283,\"fUxmax\":823,\"fUymax\":1.06016844794243,\"fTheta\":30,\"fPhi\":30,\"fAspectRatio\":0,\"fNumber\":3,\"fTickx\":0,\"fTicky\":0,\"fLogx\":0,\"fLogy\":0,\"fLogz\":0,\"fPadPaint\":0,\"fCrosshair\":0,\"fCrosshairPos\":0,\"fBorderSize\":2,\"fBorderMode\":0,\"fModified\":true,\"fGridx\":false,\"fGridy\":false,\"fAbsCoord\":false,\"fEditable\":true,\"fFixedAspectRatio\":false,\"fPrimitives\":{\"_typename\":\"TList\",\"name\":\"TList\",\"arr\":[],\"opt\":[]},\"fExecs\":{\"_typename\":\"TList\",\"name\":\"TList\",\"arr\":[],\"opt\":[]},\"fName\":\"canvas3_3\",\"fTitle\":\"canvas3_3\",\"fNumPaletteColor\":0,\"fNextPaletteColor\":0},\"fActive\":false,\"fReadOnly\":true,\"fWithoutPrimitives\":false,\"fHasExecs\":true,\"fPrimitives\":[{\"_typename\":\"TWebSnapshot\",\"fUniqueID\":0,\"fBits\":0,\"fObjectID\":\"\",\"fOption\":\"\",\"fKind\":1,\"fSnapshot\":{\"_typename\":\"TFrame\",\"fUniqueID\":0,\"fBits\":8,\"fLineColor\":1,\"fLineStyle\":1,\"fLineWidth\":1,\"fFillColor\":0,\"fFillStyle\":1001,\"fX1\":0,\"fY1\":0.338147072633283,\"fX2\":823,\"fY2\":1.06016844794243,\"fBorderSize\":1,\"fBorderMode\":0}},{\"_typename\":\"TWebSnapshot\",\"fUniqueID\":0,\"fBits\":0,\"fObjectID\":\"\",\"fOption\":\"ap\",\"fKind\":2,\"fSnapshot\":{\"_typename\":\"TWebPainting\",\"fUniqueID\":0,\"fBits\":0,\"fOper\":\"y0:1001;b;z1:1:1;r;l2;l2;l2;l2;l2;l2;l2;l2;l2;l2;l2;l2;l2;l2;l2;l2;l2;l2;l2;l2;l2;l2;l2;l2;l2;l2;l2;l2;l2;l2;l2;l2;l2;l2;l2;l2;l2;l2;l2;l2;l2;l2;l2;l2;o1:42:-35:11:0;t0;o1:42:-35:11:0;t100;o1:42:-35:11:0;t200;o1:42:-35:11:0;t300;o1:42:-35:11:0;t400;o1:42:-35:11:0;t500;o1:42:-35:11:0;t600;o1:42:-35:11:0;t700;o1:42:-35:11:0;t800;o1:42:-23:11:0;tT;o1:42:-35:11:0;tmuon p;l2;l2;l2;l2;l2;l2;l2;l2;l2;l2;l2;l2;l2;l2;l2;l2;l2;l2;l2;l2;l2;l2;l2;l2;l2;l2;l2;l2;l2;l2;l2;l2;l2;l2;l2;l2;l2;l2;l2;l2;o1:42:-35:11:0;t0.4;o1:42:-35:11:0;t0.5;o1:42:-35:11:0;t0.6;o1:42:-35:11:0;t0.7;o1:42:-35:11:0;t0.8;o1:42:-35:11:0;t0.9;o1:42:-35:11:0;t1;o1:42:-35:11:90;tEfficiency;x1:1:1;m17;l2;l2;l2;l2;l2;l2;l2;l2;l2;l2;l2;l2;l2;l2;l2;l2;l2;l2;l2;l2;l2;l2;l2;l2;l2;l2;l2;l2;l2;l2;l2;l2;l2;l2;l2;l2;l2;l2;l2;l2;l2;l2;l2;l2;l2;l2;l2;l2;l2;l2;l2;l2;l2;l2;l2;l2;l2;l2;l2;l2;l2;l2;l2;l2;l2;l2;l2;l2;l2;l2;l2;l2;l2;l2;l2;l2;l2;l2;l2;l2;l2;l2;l2;l2;l2;l2;l2;l2;l2;l2;l2;l2;l2;l2;l2;l2;l2;l2;l2;l2;l2;l2;l2;l2;l2;l2;l2;l2;l2;l2;l2;l2;l2;l2;l2;l2;l2;l2;l2;l2\",\"fBuf\":[0,0.3381471,823,1.060169,0,0.3381471,823,1.060169,0,0.3381471,823,0.3381471,0,0.3598077,0,0.3381471,20,0.3489774,20,0.3381471,40,0.3489774,40,0.3381471,60,0.3489774,60,0.3381471,80,0.3489774,80,0.3381471,100,0.3598077,100,0.3381471,120,0.3489774,120,0.3381471,140,0.3489774,140,0.3381471,160,0.3489774,160,0.3381471,180,0.3489774,180,0.3381471,200,0.3598077,200,0.3381471,220,0.3489774,220,0.3381471,240,0.3489774,240,0.3381471,260,0.3489774,260,0.3381471,280,0.3489774,280,0.3381471,300,0.3598077,300,0.3381471,320,0.3489774,320,0.3381471,340,0.3489774,340,0.3381471,360,0.3489774,360,0.3381471,380,0.3489774,380,0.3381471,400,0.3598077,400,0.3381471,420,0.3489774,420,0.3381471,440,0.3489774,440,0.3381471,460,0.3489774,460,0.3381471,480,0.3489774,480,0.3381471,500,0.3598077,500,0.3381471,520,0.3489774,520,0.3381471,540,0.3489774,540,0.3381471,560,0.3489774,560,0.3381471,580,0.3489774,580,0.3381471,600,0.3598077,600,0.3381471,620,0.3489774,620,0.3381471,640,0.3489774,640,0.3381471,660,0.3489774,660,0.3381471,680,0.3489774,680,0.3381471,700,0.3598077,700,0.3381471,720,0.3489774,720,0.3381471,740,0.3489774,740,0.3381471,760,0.3489774,760,0.3381471,780,0.3489774,780,0.3381471,800,0.3598077,800,0.3381471,800,0.3598077,800,0.3381471,820,0.3489774,820,0.3381471,-8.529842,0.307984,77.63013,0.307984,177.2526,0.307984,279.5675,0.307984,379.19,0.307984,478.8125,0.307984,578.4349,0.307984,678.0574,0.307984,777.6799,0.307984,812.6824,0.2685378,731.9074,0.2849737,0,0.3381471,0,1.060169,24.69,0.4,0,0.4,12.345,0.42,0,0.42,12.345,0.44,0,0.44,12.345,0.46,0,0.46,12.345,0.48,0,0.48,24.69,0.5,0,0.5,12.345,0.52,0,0.52,12.345,0.54,0,0.54,12.345,0.56,0,0.56,12.345,0.58,0,0.58,24.69,0.6,0,0.6,12.345,0.62,0,0.62,12.345,0.64,0,0.64,12.345,0.66,0,0.66,12.345,0.68,0,0.68,24.69,0.7,0,0.7,12.345,0.72,0,0.72,12.345,0.74,0,0.74,12.345,0.76,0,0.76,12.345,0.78,0,0.78,24.69,0.8,0,0.8,12.345,0.82,0,0.82,12.345,0.84,0,0.84,12.345,0.86,0,0.86,12.345,0.88,0,0.88,24.69,0.9,0,0.9,12.345,0.92,0,0.92,12.345,0.94,0,0.94,12.345,0.96,0,0.96,12.345,0.98,0,0.98,24.69,1,0,1,24.69,0.4,0,0.4,12.345,0.38,0,0.38,12.345,0.36,0,0.36,12.345,0.34,0,0.34,24.69,1,0,1,12.345,1.02,0,1.02,12.345,1.04,0,1.04,12.345,1.06,0,1.06,-40.83983,0.3868761,-40.83983,0.4854914,-40.83983,0.5873938,-40.83983,0.686009,-40.83983,0.7879115,-40.83983,0.8865267,-16.60734,0.9884291,-62.37982,0.9325472,22.5,0.9926004,27.5,0.9895932,32.5,0.990769,37.5,0.9903874,45,0.9906204,55,0.9902635,65,0.9907975,80,0.9790536,100,0.9886686,120,1,140,1,175,1,225,1,275,1,350,1,450,1,625,1,22.5,0.9926004,20,0.9926004,22.5,0.9926004,25,0.9926004,20,0.986026,20,0.9991748,25,0.986026,25,0.9991748,22.5,0.9926004,22.5,0.9941986,22.5,0.9926004,22.5,0.9906171,17.115,0.9941986,27.885,0.9941986,17.115,0.9906171,27.885,0.9906171,27.5,0.9895932,25,0.9895932,27.5,0.9895932,30,0.9895932,25,0.9830188,25,0.9961675,30,0.9830188,30,0.9961675,27.5,0.9895932,27.5,0.9908658,27.5,0.9895932,27.5,0.9881566,22.115,0.9908658,32.885,0.9908658,22.115,0.9881566,32.885,0.9881566,32.5,0.990769,30,0.990769,32.5,0.990769,35,0.990769,30,0.9841946,30,0.9973433,35,0.9841946,35,0.9973433,32.5,0.990769,32.5,0.9916484,32.5,0.990769,32.5,0.9898024,27.115,0.9916484,37.885,0.9916484,27.115,0.9898024,37.885,0.9898024,37.5,0.9903874,35,0.9903874,37.5,0.9903874,40,0.9903874,35,0.983813,35,0.9969618,40,0.983813,40,0.9969618,37.5,0.9903874,37.5,0.991132,37.5,0.9903874,37.5,0.9895836,32.115,0.991132,42.885,0.991132,32.115,0.9895836,42.885,0.9895836,45,0.9906204,40,0.9906204,45,0.9906204,50,0.9906204,40,0.984046,40,0.9971947,50,0.984046,50,0.9971947,45,0.9906204,45,0.9911455,45,0.9906204,45,0.9900653,39.615,0.9911455,50.385,0.9911455,39.615,0.9900653,50.385,0.9900653,55,0.9902635,50,0.9902635,55,0.9902635,60,0.9902635,50,0.9836892,50,0.9968379,60,0.9836892,60,0.9968379,55,0.9902635,55,0.991381,55,0.9902635,55,0.9890114,49.615,0.991381,60.385,0.991381,49.615,0.9890114,60.385,0.9890114,65,0.9907975,60,0.9907975,65,0.9907975,70,0.9907975,60,0.9842232,60,0.9973719,70,0.9842232,70,0.9973719,65,0.9907975,65,0.992784,65,0.9907975,65,0.9883339,59.615,0.992784,70.38499,0.992784,59.615,0.9883339,70.38499,0.9883339,80,0.9790536,70,0.9790536,80,0.9790536,90,0.9790536,70,0.9724792,70,0.9856279,90,0.9724792,90,0.9856279,80,0.9790536,80,0.983032,80,0.9790536,80,0.9742597,74.61501,0.983032,85.38499,0.983032,74.61501,0.9742597,85.38499,0.9742597,100,0.9886686,90,0.9886686,100,0.9886686,110,0.9886686,90,0.9820942,90,0.9952429,110,0.9820942,110,0.9952429,100,0.9886686,100,0.9940839,100,0.9886686,100,0.9797997,94.61501,0.9940839,105.385,0.9940839,94.61501,0.9797997,105.385,0.9797997,120,1,110,1,120,1,130,1,110,0.9934257,110,1.006574,130,0.9934257,130,1.006574,120,1,120,0.9885595,114.615,0.9885595,125.385,0.9885595,140,1,130,1,140,1,150,1,130,0.9934257,130,1.006574,150,0.9934257,150,1.006574,140,1,140,0.9785738,134.615,0.9785738,145.385,0.9785738,175,1,150,1,175,1,200,1,150,0.9934257,150,1.006574,200,0.9934257,200,1.006574,175,1,175,0.9785738,169.615,0.9785738,180.385,0.9785738,225,1,200,1,225,1,250,1,200,0.9934257,200,1.006574,250,0.9934257,250,1.006574,225,1,225,0.9316403,219.615,0.9316403,230.385,0.9316403,275,1,250,1,275,1,300,1,250,0.9934257,250,1.006574,300,0.9934257,300,1.006574,275,1,275,0.8577707,269.615,0.8577707,280.385,0.8577707,350,1,300,1,350,1,400,1,300,0.9934257,300,1.006574,400,0.9934257,400,1.006574,350,1,350,0.6311224,344.615,0.6311224,355.385,0.6311224,450,1,400,1,450,1,500,1,400,0.9934257,400,1.006574,500,0.9934257,500,1.006574,450,1,450,0.3983155,444.615,0.3983155,455.385,0.3983155,625,1,500,1,625,1,750,1,500,0.9934257,500,1.006574,750,0.9934257,750,1.006574,625,1,625,0.3983155,619.615,0.3983155,630.385,0.3983155]}},{\"_typename\":\"TWebSnapshot\",\"fUniqueID\":0,\"fBits\":0,\"fObjectID\":\"\",\"fOption\":\"blNDC\",\"fKind\":1,\"fSnapshot\":{\"_typename\":\"TPaveText\",\"fUniqueID\":0,\"fBits\":9,\"fLineColor\":1,\"fLineStyle\":1,\"fLineWidth\":1,\"fFillColor\":0,\"fFillStyle\":0,\"fX1\":180.427582608271,\"fY1\":1.0709609102318,\"fX2\":642.572417391729,\"fY2\":1.14590849722108,\"fX1NDC\":0.275385259831366,\"fY1NDC\":0.911958046803752,\"fX2NDC\":0.724614740168634,\"fY2NDC\":0.995000004768372,\"fBorderSize\":0,\"fInit\":1,\"fShadowColor\":1,\"fCornerRadius\":0,\"fOption\":\"blNDC\",\"fName\":\"title\",\"fTextAngle\":0,\"fTextSize\":0,\"fTextAlign\":22,\"fTextColor\":1,\"fTextFont\":42,\"fLabel\":\"\",\"fLongest\":27,\"fMargin\":0.05,\"fLines\":{\"_typename\":\"TList\",\"name\":\"TList\",\"arr\":[{\"_typename\":\"TLatex\",\"fUniqueID\":0,\"fBits\":0,\"fName\":\"\",\"fTitle\":\"segment efficiency vs p_{T}\",\"fTextAngle\":0,\"fTextSize\":0,\"fTextAlign\":0,\"fTextColor\":0,\"fTextFont\":0,\"fX\":0,\"fY\":0,\"fLineColor\":1,\"fLineStyle\":1,\"fLineWidth\":2,\"fLimitFactorSize\":3,\"fOriginSize\":0.0571600086987019}],\"opt\":[\"\"]}}}]},{\"_typename\":\"TPadWebSnapshot\",\"fUniqueID\":0,\"fBits\":0,\"fObjectID\":\"\",\"fOption\":\"\",\"fKind\":3,\"fSnapshot\":{\"_typename\":\"TPad\",\"fUniqueID\":0,\"fBits\":9,\"fLineColor\":1,\"fLineStyle\":1,\"fLineWidth\":1,\"fFillColor\":0,\"fFillStyle\":1001,\"fLeftMargin\":0.1,\"fRightMargin\":0.1,\"fBottomMargin\":0.1,\"fTopMargin\":0.1,\"fXfile\":2,\"fYfile\":2,\"fAfile\":1,\"fXstat\":0.99,\"fYstat\":0.99,\"fAstat\":2,\"fFrameFillColor\":0,\"fFrameLineColor\":1,\"fFrameFillStyle\":1001,\"fFrameLineStyle\":1,\"fFrameLineWidth\":1,\"fFrameBorderSize\":1,\"fFrameBorderMode\":0,\"fX1\":-102.875007664785,\"fY1\":-0.0516809419883858,\"fX2\":925.875007664785,\"fY2\":1.21033619591989,\"fXtoAbsPixelk\":444.168002135038,\"fXtoPixelk\":38.2080023129583,\"fXtoPixel\":0.371402181931863,\"fYtoAbsPixelk\":555.036476550142,\"fYtoPixelk\":263.316476677994,\"fYtoPixel\":-217.556475271622,\"fUtoAbsPixelk\":405.95999982208,\"fUtoPixelk\":0,\"fUtoPixel\":382.08000035584,\"fVtoAbsPixelk\":566.280000127852,\"fVtoPixelk\":274.560000255704,\"fVtoPixel\":-274.560000255704,\"fAbsPixeltoXk\":-1195.92189745543,\"fPixeltoXk\":-102.875007664785,\"fPixeltoX\":2.69249899071261,\"fAbsPixeltoYk\":2.55122940311095,\"fPixeltoYk\":-0.0516809419883858,\"fPixeltoY\":-0.00459650763670209,\"fXlowNDC\":0.509999999776483,\"fYlowNDC\":0.00999999977648258,\"fXUpNDC\":0.990000000223517,\"fYUpNDC\":0.490000000223517,\"fWNDC\":0.480000000447035,\"fHNDC\":0.480000000447035,\"fAbsXlowNDC\":0.509999999776483,\"fAbsYlowNDC\":0.00999999977648258,\"fAbsWNDC\":0.480000000447035,\"fAbsHNDC\":0.480000000447035,\"fUxmin\":0,\"fUymin\":0.07452077932465,\"fUxmax\":823,\"fUymax\":1.08413447460685,\"fTheta\":30,\"fPhi\":30,\"fAspectRatio\":0,\"fNumber\":4,\"fTickx\":0,\"fTicky\":0,\"fLogx\":0,\"fLogy\":0,\"fLogz\":0,\"fPadPaint\":0,\"fCrosshair\":0,\"fCrosshairPos\":0,\"fBorderSize\":2,\"fBorderMode\":0,\"fModified\":true,\"fGridx\":false,\"fGridy\":false,\"fAbsCoord\":false,\"fEditable\":true,\"fFixedAspectRatio\":false,\"fPrimitives\":{\"_typename\":\"TList\",\"name\":\"TList\",\"arr\":[],\"opt\":[]},\"fExecs\":{\"_typename\":\"TList\",\"name\":\"TList\",\"arr\":[],\"opt\":[]},\"fName\":\"canvas3_4\",\"fTitle\":\"canvas3_4\",\"fNumPaletteColor\":0,\"fNextPaletteColor\":0},\"fActive\":false,\"fReadOnly\":true,\"fWithoutPrimitives\":false,\"fHasExecs\":true,\"fPrimitives\":[{\"_typename\":\"TWebSnapshot\",\"fUniqueID\":0,\"fBits\":0,\"fObjectID\":\"\",\"fOption\":\"\",\"fKind\":1,\"fSnapshot\":{\"_typename\":\"TFrame\",\"fUniqueID\":0,\"fBits\":8,\"fLineColor\":1,\"fLineStyle\":1,\"fLineWidth\":1,\"fFillColor\":0,\"fFillStyle\":1001,\"fX1\":0,\"fY1\":0.07452077932465,\"fX2\":823,\"fY2\":1.08413447460685,\"fBorderSize\":1,\"fBorderMode\":0}},{\"_typename\":\"TWebSnapshot\",\"fUniqueID\":0,\"fBits\":0,\"fObjectID\":\"\",\"fOption\":\"ap\",\"fKind\":2,\"fSnapshot\":{\"_typename\":\"TWebPainting\",\"fUniqueID\":0,\"fBits\":0,\"fOper\":\"y0:1001;b;z1:1:1;r;l2;l2;l2;l2;l2;l2;l2;l2;l2;l2;l2;l2;l2;l2;l2;l2;l2;l2;l2;l2;l2;l2;l2;l2;l2;l2;l2;l2;l2;l2;l2;l2;l2;l2;l2;l2;l2;l2;l2;l2;l2;l2;l2;l2;o1:42:-35:11:0;t0;o1:42:-35:11:0;t100;o1:42:-35:11:0;t200;o1:42:-35:11:0;t300;o1:42:-35:11:0;t400;o1:42:-35:11:0;t500;o1:42:-35:11:0;t600;o1:42:-35:11:0;t700;o1:42:-35:11:0;t800;o1:42:-23:11:0;tT;o1:42:-35:11:0;tmuon p;l2;l2;l2;l2;l2;l2;l2;l2;l2;l2;l2;l2;l2;l2;l2;l2;l2;l2;l2;l2;l2;l2;l2;o1:42:-35:11:0;t0.2;o1:42:-35:11:0;t0.4;o1:42:-35:11:0;t0.6;o1:42:-35:11:0;t0.8;o1:42:-35:11:0;t1;o1:42:-35:11:90;tEfficiency;x1:1:1;m17;l2;l2;l2;l2;l2;l2;l2;l2;l2;l2;l2;l2;l2;l2;l2;l2;l2;l2;l2;l2;l2;l2;l2;l2;l2;l2;l2;l2;l2;l2;l2;l2;l2;l2;l2;l2;l2;l2;l2;l2;l2;l2;l2;l2;l2;l2;l2;l2;l2;l2;l2;l2;l2;l2;l2;l2;l2;l2;l2;l2;l2;l2;l2;l2;l2;l2;l2;l2;l2;l2;l2;l2;l2;l2;l2;l2;l2;l2;l2;l2;l2;l2;l2;l2;l2;l2;l2;l2;l2;l2;l2;l2;l2;l2;l2;l2;l2;l2;l2;l2;l2;l2;l2;l2;l2;l2;l2;l2;l2;l2;l2;l2;l2;l2;l2;l2;l2;l2;l2;l2\",\"fBuf\":[0,0.07452078,823,1.084134,0,0.07452078,823,1.084134,0,0.07452078,823,0.07452078,0,0.1048092,0,0.07452078,20,0.08966498,20,0.07452078,40,0.08966498,40,0.07452078,60,0.08966498,60,0.07452078,80,0.08966498,80,0.07452078,100,0.1048092,100,0.07452078,120,0.08966498,120,0.07452078,140,0.08966498,140,0.07452078,160,0.08966498,160,0.07452078,180,0.08966498,180,0.07452078,200,0.1048092,200,0.07452078,220,0.08966498,220,0.07452078,240,0.08966498,240,0.07452078,260,0.08966498,260,0.07452078,280,0.08966498,280,0.07452078,300,0.1048092,300,0.07452078,320,0.08966498,320,0.07452078,340,0.08966498,340,0.07452078,360,0.08966498,360,0.07452078,380,0.08966498,380,0.07452078,400,0.1048092,400,0.07452078,420,0.08966498,420,0.07452078,440,0.08966498,440,0.07452078,460,0.08966498,460,0.07452078,480,0.08966498,480,0.07452078,500,0.1048092,500,0.07452078,520,0.08966498,520,0.07452078,540,0.08966498,540,0.07452078,560,0.08966498,560,0.07452078,580,0.08966498,580,0.07452078,600,0.1048092,600,0.07452078,620,0.08966498,620,0.07452078,640,0.08966498,640,0.07452078,660,0.08966498,660,0.07452078,680,0.08966498,680,0.07452078,700,0.1048092,700,0.07452078,720,0.08966498,720,0.07452078,740,0.08966498,740,0.07452078,760,0.08966498,760,0.07452078,780,0.08966498,780,0.07452078,800,0.1048092,800,0.07452078,800,0.1048092,800,0.07452078,820,0.08966498,820,0.07452078,-8.529842,0.03234322,77.63013,0.03234322,177.2526,0.03234322,279.5675,0.03234322,379.19,0.03234322,478.8125,0.03234322,578.4349,0.03234322,678.0574,0.03234322,777.6799,0.03234322,812.6824,-0.02281487,731.9074,1.676647e-4,0,0.07452078,0,1.084134,24.69,0.2,0,0.2,12.345,0.25,0,0.25,12.345,0.3,0,0.3,12.345,0.35,0,0.35,24.69,0.4,0,0.4,12.345,0.45,0,0.45,12.345,0.5,0,0.5,12.345,0.55,0,0.55,24.69,0.6,0,0.6,12.345,0.65,0,0.65,12.345,0.7,0,0.7,12.345,0.75,0,0.75,24.69,0.8,0,0.8,12.345,0.85,0,0.85,12.345,0.9,0,0.9,12.345,0.95,0,0.95,24.69,1,0,1,24.69,0.2,0,0.2,12.345,0.15,0,0.15,12.345,0.1,0,0.1,24.69,1,0,1,12.345,1.05,0,1.05,-40.83983,0.1794315,-40.83983,0.3816778,-40.83983,0.5793276,-40.83983,0.781574,-16.60734,0.9838203,-62.37982,0.9056796,22.5,0.9989063,27.5,0.9981264,32.5,0.9979333,37.5,0.997968,45,0.9979404,55,0.9974523,65,0.997151,80,0.997537,100,1,120,1,140,0.987013,175,1,225,1,275,1,350,1,450,1,625,1,22.5,0.9989063,20,0.9989063,22.5,0.9989063,25,0.9989063,20,0.9897133,20,1.008099,25,0.9897133,25,1.008099,22.5,0.9989063,22.5,0.9995015,22.5,0.9989063,22.5,0.9978436,17.115,0.9995015,27.885,0.9995015,17.115,0.9978436,27.885,0.9978436,27.5,0.9981264,25,0.9981264,27.5,0.9981264,30,0.9981264,25,0.9889334,25,1.007319,30,0.9889334,30,1.007319,27.5,0.9981264,27.5,0.9986824,27.5,0.9981264,27.5,0.9973751,22.115,0.9986824,32.885,0.9986824,22.115,0.9973751,32.885,0.9973751,32.5,0.9979333,30,0.9979333,32.5,0.9979333,35,0.9979333,30,0.9887403,30,1.007126,35,0.9887403,35,1.007126,32.5,0.9979333,32.5,0.9983608,32.5,0.9979333,32.5,0.997407,27.115,0.9983608,37.885,0.9983608,27.115,0.997407,37.885,0.997407,37.5,0.997968,35,0.997968,37.5,0.997968,40,0.997968,35,0.988775,35,1.007161,40,0.988775,40,1.007161,37.5,0.997968,37.5,0.998325,37.5,0.997968,37.5,0.9975421,32.115,0.998325,42.885,0.998325,32.115,0.9975421,42.885,0.9975421,45,0.9979404,40,0.9979404,45,0.9979404,50,0.9979404,40,0.9887473,40,1.007133,50,0.9887473,50,1.007133,45,0.9979404,45,0.9981969,45,0.9979404,45,0.9976497,39.615,0.9981969,50.385,0.9981969,39.615,0.9976497,50.385,0.9976497,55,0.9974523,50,0.9974523,55,0.9974523,60,0.9974523,50,0.9882592,50,1.006645,60,0.9882592,60,1.006645,55,0.9974523,55,0.9980467,55,0.9974523,55,0.9967003,49.615,0.9980467,60.385,0.9980467,49.615,0.9967003,60.385,0.9967003,65,0.997151,60,0.997151,65,0.997151,70,0.997151,60,0.987958,60,1.006344,70,0.987958,70,1.006344,65,0.997151,65,0.9982805,65,0.997151,65,0.9954532,59.615,0.9982805,70.38499,0.9982805,59.615,0.9954532,70.38499,0.9954532,80,0.997537,70,0.997537,80,0.997537,90,0.997537,70,0.988344,70,1.00673,90,0.988344,90,1.00673,80,0.997537,80,0.9988771,80,0.997537,80,0.9951469,74.61501,0.9988771,85.38499,0.9988771,74.61501,0.9951469,85.38499,0.9951469,100,1,90,1,100,1,110,1,90,0.990807,90,1.009193,110,0.990807,110,1.009193,100,1,100,0.9944367,94.61501,0.9944367,105.385,0.9944367,120,1,110,1,120,1,130,1,110,0.990807,110,1.009193,130,0.990807,130,1.009193,120,1,120,0.9872082,114.615,0.9872082,125.385,0.9872082,140,0.987013,130,0.987013,140,0.987013,150,0.987013,130,0.97782,130,0.996206,150,0.97782,150,0.996206,140,0.987013,140,0.997759,140,0.987013,140,0.957784,134.615,0.997759,145.385,0.997759,134.615,0.957784,145.385,0.957784,175,1,150,1,175,1,200,1,150,0.990807,150,1.009193,200,0.990807,200,1.009193,175,1,175,0.9788203,169.615,0.9788203,180.385,0.9788203,225,1,200,1,225,1,250,1,200,0.990807,200,1.009193,250,0.990807,250,1.009193,225,1,225,0.9340867,219.615,0.9340867,230.385,0.9340867,275,1,250,1,275,1,300,1,250,0.990807,250,1.009193,300,0.990807,300,1.009193,275,1,275,0.8150075,269.615,0.8150075,280.385,0.8150075,350,1,300,1,350,1,400,1,300,0.990807,300,1.009193,400,0.990807,400,1.009193,350,1,350,0.1586553,344.615,0.1586553,355.385,0.1586553,450,1,400,1,450,1,500,1,400,0.990807,400,1.009193,500,0.990807,500,1.009193,450,1,450,0.1586553,444.615,0.1586553,455.385,0.1586553,625,1,500,1,625,1,750,1,500,0.990807,500,1.009193,750,0.990807,750,1.009193,625,1,625,0.5413584,619.615,0.5413584,630.385,0.5413584]}},{\"_typename\":\"TWebSnapshot\",\"fUniqueID\":0,\"fBits\":0,\"fObjectID\":\"\",\"fOption\":\"blNDC\",\"fKind\":1,\"fSnapshot\":{\"_typename\":\"TPaveText\",\"fUniqueID\":0,\"fBits\":9,\"fLineColor\":1,\"fLineStyle\":1,\"fLineWidth\":1,\"fFillColor\":0,\"fFillStyle\":0,\"fX1\":180.427582608271,\"fY1\":1.0992257421313,\"fX2\":642.572417391729,\"fY2\":1.20402611624811,\"fX1NDC\":0.275385259831366,\"fY1NDC\":0.911958046803752,\"fX2NDC\":0.724614740168634,\"fY2NDC\":0.995000004768372,\"fBorderSize\":0,\"fInit\":1,\"fShadowColor\":1,\"fCornerRadius\":0,\"fOption\":\"blNDC\",\"fName\":\"title\",\"fTextAngle\":0,\"fTextSize\":0,\"fTextAlign\":22,\"fTextColor\":1,\"fTextFont\":42,\"fLabel\":\"\",\"fLongest\":27,\"fMargin\":0.05,\"fLines\":{\"_typename\":\"TList\",\"name\":\"TList\",\"arr\":[{\"_typename\":\"TLatex\",\"fUniqueID\":0,\"fBits\":0,\"fName\":\"\",\"fTitle\":\"segment efficiency vs p_{T}\",\"fTextAngle\":0,\"fTextSize\":0,\"fTextAlign\":0,\"fTextColor\":0,\"fTextFont\":0,\"fX\":0,\"fY\":0,\"fLineColor\":1,\"fLineStyle\":1,\"fLineWidth\":2,\"fLimitFactorSize\":3,\"fOriginSize\":0.0571600086987019}],\"opt\":[\"\"]}}}]}],\"fScripts\":\"\",\"fHighlightConnect\":false,\"fFixedSize\":false});\n",
       "   Core.settings.HandleKeys = false;\n",
       "   Core.draw(\"root_plot_1736009227669\", obj, \"\");\n",
       "}\n",
       "\n",
       "function script_load_root_plot_1736009227669(src, on_error) {\n",
       "    let script = document.createElement('script');\n",
       "    script.src = src;\n",
       "    script.onload = function() { display_root_plot_1736009227669(JSROOT); };\n",
       "    script.onerror = function() { script.remove(); on_error(); };\n",
       "    document.head.appendChild(script);\n",
       "}\n",
       "\n",
       "if (typeof requirejs !== 'undefined') {\n",
       "\n",
       "    // We are in jupyter notebooks, use require.js which should be configured already\n",
       "    requirejs.config({\n",
       "       paths: { 'JSRootCore' : [ 'build/jsroot', 'https://root.cern/js/7.4.3/build/jsroot', 'https://jsroot.gsi.de/7.4.3/build/jsroot' ] }\n",
       "    })(['JSRootCore'],  function(Core) {\n",
       "       display_root_plot_1736009227669(Core);\n",
       "    });\n",
       "\n",
       "} else if (typeof JSROOT !== 'undefined') {\n",
       "\n",
       "   // JSROOT already loaded, just use it\n",
       "   display_root_plot_1736009227669(JSROOT);\n",
       "\n",
       "} else {\n",
       "\n",
       "    // We are in jupyterlab without require.js, directly loading jsroot\n",
       "    // Jupyterlab might be installed in a different base_url so we need to know it.\n",
       "    try {\n",
       "        var base_url = JSON.parse(document.getElementById('jupyter-config-data').innerHTML).baseUrl;\n",
       "    } catch(_) {\n",
       "        var base_url = '/';\n",
       "    }\n",
       "\n",
       "    // Try loading a local version of requirejs and fallback to cdn if not possible.\n",
       "    script_load_root_plot_1736009227669(base_url + 'static/build/jsroot.js', function(){\n",
       "        console.error('Fail to load JSROOT locally, please check your jupyter_notebook_config.py file');\n",
       "        script_load_root_plot_1736009227669('https://root.cern/js/7.4.3/build/jsroot.js', function(){\n",
       "            document.getElementById(\"root_plot_1736009227669\").innerHTML = \"Failed to load JSROOT\";\n",
       "        });\n",
       "    });\n",
       "}\n",
       "\n",
       "</script>\n"
      ],
      "text/plain": [
       "<IPython.core.display.HTML object>"
      ]
     },
     "metadata": {},
     "output_type": "display_data"
    }
   ],
   "source": [
    "effVsPtMB1 = file.Get(\"effVsPtMB1\")\n",
    "effVsPtMB2 = file.Get(\"effVsPtMB2\")\n",
    "effVsPtMB3 = file.Get(\"effVsPtMB3\")\n",
    "effVsPtMB4 = file.Get(\"effVsPtMB4\")\n",
    "\n",
    "canvas = ROOT.TCanvas(\"canvas3\", \"Canvas3\", 800, 600)\n",
    "canvas.Divide(2, 2)\n",
    "canvas.cd(1)\n",
    "effVsPtMB1.Draw()\n",
    "canvas.cd(2)\n",
    "effVsPtMB2.Draw()\n",
    "canvas.cd(3)\n",
    "effVsPtMB3.Draw()\n",
    "canvas.cd(4)\n",
    "effVsPtMB4.Draw()\n",
    "\n",
    "canvas.Draw()\n",
    "canvas.SaveAs(\"./output/effVsPt.png\")"
   ]
  },
  {
   "cell_type": "code",
   "execution_count": 26,
   "metadata": {},
   "outputs": [
    {
     "name": "stderr",
     "output_type": "stream",
     "text": [
      "Info in <TCanvas::Print>: png file ./output/effAccVsEta.png has been created\n"
     ]
    },
    {
     "data": {
      "text/html": [
       "\n",
       "\n",
       "<div id=\"root_plot_1736009227870\" style=\"width: 800px; height: 600px; position: relative\">\n",
       "</div>\n",
       "\n",
       "<script>\n",
       "\n",
       "function display_root_plot_1736009227870(Core) {\n",
       "   let obj = Core.parse({\"_typename\":\"TCanvasWebSnapshot\",\"fUniqueID\":0,\"fBits\":0,\"fObjectID\":\"\",\"fOption\":\"\",\"fKind\":3,\"fSnapshot\":{\"_typename\":\"TCanvas\",\"fUniqueID\":0,\"fBits\":3342344,\"fLineColor\":1,\"fLineStyle\":1,\"fLineWidth\":1,\"fFillColor\":0,\"fFillStyle\":1001,\"fLeftMargin\":0.1,\"fRightMargin\":0.1,\"fBottomMargin\":0.1,\"fTopMargin\":0.1,\"fXfile\":2,\"fYfile\":2,\"fAfile\":1,\"fXstat\":0.99,\"fYstat\":0.99,\"fAstat\":2,\"fFrameFillColor\":0,\"fFrameLineColor\":1,\"fFrameFillStyle\":1001,\"fFrameLineStyle\":1,\"fFrameLineWidth\":1,\"fFrameBorderSize\":1,\"fFrameBorderMode\":0,\"fX1\":0,\"fY1\":0,\"fX2\":1,\"fY2\":1,\"fXtoAbsPixelk\":0,\"fXtoPixelk\":0,\"fXtoPixel\":796,\"fYtoAbsPixelk\":572,\"fYtoPixelk\":572,\"fYtoPixel\":-572,\"fUtoAbsPixelk\":0,\"fUtoPixelk\":0,\"fUtoPixel\":796,\"fVtoAbsPixelk\":572,\"fVtoPixelk\":572,\"fVtoPixel\":-572,\"fAbsPixeltoXk\":0,\"fPixeltoXk\":0,\"fPixeltoX\":0.00125628140703518,\"fAbsPixeltoYk\":1,\"fPixeltoYk\":0,\"fPixeltoY\":-0.00174825174825175,\"fXlowNDC\":0,\"fYlowNDC\":0,\"fXUpNDC\":1,\"fYUpNDC\":1,\"fWNDC\":1,\"fHNDC\":1,\"fAbsXlowNDC\":0,\"fAbsYlowNDC\":0,\"fAbsWNDC\":1,\"fAbsHNDC\":1,\"fUxmin\":0,\"fUymin\":0,\"fUxmax\":1,\"fUymax\":1,\"fTheta\":30,\"fPhi\":30,\"fAspectRatio\":0,\"fNumber\":0,\"fTickx\":0,\"fTicky\":0,\"fLogx\":0,\"fLogy\":0,\"fLogz\":0,\"fPadPaint\":0,\"fCrosshair\":0,\"fCrosshairPos\":0,\"fBorderSize\":2,\"fBorderMode\":0,\"fModified\":false,\"fGridx\":false,\"fGridy\":false,\"fAbsCoord\":false,\"fEditable\":true,\"fFixedAspectRatio\":false,\"fPrimitives\":{\"_typename\":\"TList\",\"name\":\"TList\",\"arr\":[],\"opt\":[]},\"fExecs\":null,\"fName\":\"canvas4\",\"fTitle\":\"Canvas4\",\"fNumPaletteColor\":0,\"fNextPaletteColor\":0,\"fDISPLAY\":\"$DISPLAY\",\"fDoubleBuffer\":0,\"fRetained\":true,\"fXsizeUser\":0,\"fYsizeUser\":0,\"fXsizeReal\":20,\"fYsizeReal\":15,\"fWindowTopX\":0,\"fWindowTopY\":0,\"fWindowWidth\":0,\"fWindowHeight\":0,\"fCw\":796,\"fCh\":572,\"fCatt\":{\"_typename\":\"TAttCanvas\",\"fXBetween\":2,\"fYBetween\":2,\"fTitleFromTop\":1.2,\"fXdate\":0.2,\"fYdate\":0.3,\"fAdate\":1},\"kMoveOpaque\":true,\"kResizeOpaque\":true,\"fHighLightColor\":2,\"fBatch\":true,\"kShowEventStatus\":false,\"kAutoExec\":true,\"kMenuBar\":true},\"fActive\":false,\"fReadOnly\":true,\"fWithoutPrimitives\":false,\"fHasExecs\":false,\"fPrimitives\":[{\"_typename\":\"TWebSnapshot\",\"fUniqueID\":0,\"fBits\":0,\"fObjectID\":\"\",\"fOption\":\"\",\"fKind\":4,\"fSnapshot\":{\"_typename\":\"TWebPainting\",\"fUniqueID\":0,\"fBits\":0,\"fOper\":\"0:255,255,255;1:0,0,0;2:255,0,0;3:0,255,0;4:0,0,255;5:255,255,0;6:255,0,255;7:0,255,255;8:89,211,84;9:89,84,216;10:254,254,254;11:192,182,172;12:76,76,76;13:102,102,102;14:127,127,127;15:153,153,153;16:178,178,178;17:204,204,204;18:229,229,229;19:242,242,242;20:204,198,170;21:204,198,170;22:193,191,168;23:186,181,163;24:178,165,150;25:183,163,155;26:173,153,140;27:155,142,130;28:135,102,86;29:175,206,198;30:132,193,163;31:137,168,160;32:130,158,140;33:173,188,198;34:122,142,153;35:117,137,145;36:104,130,150;37:109,122,132;38:124,153,209;39:127,127,155;40:170,165,191;41:211,206,135;42:221,186,135;43:188,158,130;44:198,153,124;45:191,130,119;46:206,94,96;47:170,142,147;48:165,119,122;49:147,104,112;50:211,89,84;51:146,0,255;52:122,0,255;53:98,0,255;54:74,0,255;55:51,0,255;56:27,0,255;57:3,0,255;58:0,20,255;59:0,44,255;60:0,68,255;61:0,91,255;62:0,115,255;63:0,139,255;64:0,163,255;65:0,187,255;66:0,210,255;67:0,234,255;68:0,255,251;69:0,255,227;70:0,255,204;71:0,255,180;72:0,255,156;73:0,255,132;74:0,255,108;75:0,255,85;76:0,255,61;77:0,255,37;78:0,255,13;79:10,255,0;80:34,255,0;81:57,255,0;82:81,255,0;83:105,255,0;84:129,255,0;85:153,255,0;86:176,255,0;87:200,255,0;88:224,255,0;89:248,255,0;90:255,238,0;91:255,214,0;92:255,190,0;93:255,166,0;94:255,142,0;95:255,119,0;96:255,95,0;97:255,71,0;98:255,47,0;99:255,23,0;110:254,254,254;201:91,91,91;202:122,122,122;203:183,183,183;204:214,214,214;205:137,15,15;206:183,20,20;207:234,71,71;208:239,117,117;209:15,137,15;210:20,183,20;211:71,234,71;212:117,239,117;213:15,15,137;214:20,20,183;215:71,71,234;216:117,117,239;217:137,137,15;218:183,183,20;219:234,234,71;220:239,239,117;221:137,15,137;222:183,20,183;223:234,71,234;224:239,117,239;225:15,137,137;226:20,183,183;227:71,234,234;228:117,239,239;390:255,255,204;391:255,255,153;392:204,204,153;393:255,255,102;394:204,204,102;395:153,153,102;396:255,255,51;397:204,204,51;398:153,153,51;399:102,102,51;400:255,255,0;401:204,204,0;402:153,153,0;403:102,102,0;404:51,51,0;406:204,255,204;407:153,255,153;408:153,204,153;409:102,255,102;410:102,204,102;411:102,153,102;412:51,255,51;413:51,204,51;414:51,153,51;415:51,102,51;416:0,255,0;417:0,204,0;418:0,153,0;419:0,102,0;420:0,51,0;422:204,255,255;423:153,255,255;424:153,204,204;425:102,255,255;426:102,204,204;427:102,153,153;428:51,255,255;429:51,204,204;430:51,153,153;431:51,102,102;432:0,255,255;433:0,204,204;434:0,153,153;435:0,102,102;436:0,51,51;590:204,204,255;591:153,153,255;592:153,153,204;593:102,102,255;594:102,102,204;595:102,102,153;596:51,51,255;597:51,51,204;598:51,51,153;599:51,51,102;600:0,0,255;601:0,0,204;602:0,0,153;603:0,0,102;604:0,0,51;606:255,204,255;607:255,153,255;608:204,153,204;609:255,102,255;610:204,102,204;611:153,102,153;612:255,51,255;613:204,51,204;614:153,51,153;615:102,51,102;616:255,0,255;617:204,0,204;618:153,0,153;619:102,0,102;620:51,0,51;622:255,204,204;623:255,153,153;624:204,153,153;625:255,102,102;626:204,102,102;627:153,102,102;628:255,51,51;629:204,51,51;630:153,51,51;631:102,51,51;632:255,0,0;633:204,0,0;634:153,0,0;635:102,0,0;636:51,0,0;791:255,204,153;792:204,153,102;793:153,102,51;794:153,102,0;795:204,153,51;796:255,204,102;797:255,153,0;798:255,204,51;799:204,153,0;800:255,204,0;801:255,153,51;802:204,102,0;803:102,51,0;804:153,51,0;805:204,102,51;806:255,153,102;807:255,102,0;808:255,102,51;809:204,51,0;810:255,51,0;811:153,255,51;812:102,204,0;813:51,102,0;814:51,153,0;815:102,204,51;816:153,255,102;817:102,255,0;818:102,255,51;819:51,204,0;820:51,255,0;821:204,255,153;822:153,204,102;823:102,153,51;824:102,153,0;825:153,204,51;826:204,255,102;827:153,255,0;828:204,255,51;829:153,204,0;830:204,255,0;831:153,255,204;832:102,204,153;833:51,153,102;834:0,153,102;835:51,204,153;836:102,255,204;837:0,255,102;838:51,255,204;839:0,204,153;840:0,255,204;841:51,255,153;842:0,204,102;843:0,102,51;844:0,153,51;845:51,204,102;846:102,255,153;847:0,255,153;848:51,255,102;849:0,204,51;850:0,255,51;851:153,204,255;852:102,153,204;853:51,102,153;854:0,51,153;855:51,102,204;856:102,153,255;857:0,102,255;858:51,102,255;859:0,51,204;860:0,51,255;861:51,153,255;862:0,102,204;863:0,51,102;864:0,102,153;865:51,153,204;866:102,204,255;867:0,153,255;868:51,204,255;869:0,153,204;870:0,204,255;871:204,153,255;872:153,102,204;873:102,51,153;874:102,0,153;875:153,51,204;876:204,102,255;877:153,0,255;878:204,51,255;879:153,0,204;880:204,0,255;881:153,51,255;882:102,0,204;883:51,0,102;884:51,0,153;885:102,51,204;886:153,102,255;887:102,0,255;888:102,51,255;889:51,0,204;890:51,0,255;891:255,51,153;892:204,0,102;893:102,0,51;894:153,0,51;895:204,51,102;896:255,102,153;897:255,0,102;898:255,51,102;899:204,0,51;900:255,0,51;901:255,153,204;902:204,102,153;903:153,51,102;904:153,0,102;905:204,51,153;906:255,102,204;907:255,0,153;908:204,0,153;909:255,51,204;910:255,0,153;920:204,204,204;921:153,153,153;922:102,102,102;923:51,51,51;924:53,42,134;925:51,44,137;926:50,45,140;927:49,47,143;928:48,48,146;929:46,50,148;930:45,51,151;931:44,53,154;932:43,55,157;933:42,56,160;934:40,58,162;935:39,59,165;936:38,61,168;937:37,63,171;938:35,64,174;939:34,66,176;940:33,67,179;941:32,69,182;942:31,71,185;943:29,72,187;944:28,74,190;945:27,75,193;946:26,77,196;947:24,79,199;948:23,80,201;949:22,82,204;950:21,83,207;951:19,85,210;952:18,86,213;953:17,88,215;954:16,90,218;955:15,91,221;956:15,92,221;957:15,94,220;958:15,95,220;959:15,96,220;960:15,97,220;961:15,98,220;962:16,99,219;963:16,100,219;964:16,102,219;965:16,103,219;966:16,104,218;967:16,105,218;968:17,106,218;969:17,107,218;970:17,109,217;971:17,110,217;972:17,111,217;973:17,112,217;974:17,113,216;975:18,114,216;976:18,115,216;977:18,117,216;978:18,118,215;979:18,119,215;980:18,120,215;981:18,121,215;982:19,122,215;983:19,123,214;984:19,125,214;985:19,126,214;986:19,127,214;987:19,128,213;988:19,129,213;989:19,130,213;990:18,131,212;991:18,132,212;992:17,134,211;993:17,135,211;994:16,136,211;995:16,137,210;996:15,138,210;997:15,139,210;998:15,140,209;999:14,141,209;1000:14,142,208;1001:13,143,208;1002:13,145,208;1003:12,146,207;1004:12,147,207;1005:12,148,207;1006:11,149,206;1007:11,150,206;1008:10,151,205;1009:10,152,205;1010:9,153,205;1011:9,154,204;1012:8,155,204;1013:8,157,204;1014:8,158,203;1015:7,159,203;1016:7,160,202;1017:6,161,202;1018:6,162,202;1019:5,163,201;1020:7,164,200;1021:8,164,199;1022:9,165,198;1023:10,166,197;1024:12,166,195;1025:13,167,194;1026:14,167,193;1027:15,168,192;1028:17,169,191;1029:18,169,189;1030:19,170,188;1031:20,170,187;1032:22,171,186;1033:23,172,185;1034:24,172,184;1035:25,173,182;1036:27,173,181;1037:28,174,180;1038:29,175,179;1039:30,175,178;1040:32,176,176;1041:33,176,175;1042:34,177,174;1043:35,178,173;1044:37,178,172;1045:38,179,170;1046:39,180,169;1047:40,180,168;1048:42,181,167;1049:43,181,166;1050:44,182,165;1051:45,183,163;1052:48,183,162;1053:51,183,161;1054:54,183,159;1055:57,184,158;1056:59,184,156;1057:62,184,155;1058:65,184,154;1059:68,185,152;1060:71,185,151;1061:73,185,149;1062:76,185,148;1063:79,186,146;1064:82,186,145;1065:84,186,144;1066:87,186,142;1067:90,187,141;1068:93,187,139;1069:96,187,138;1070:98,187,137;1071:101,188,135;1072:104,188,134;1073:107,188,132;1074:110,188,131;1075:112,189,130;1076:115,189,128;1077:118,189,127;1078:121,189,125;1079:124,190,124;1080:126,190,123;1081:129,190,121;1082:132,190,120;1083:135,191,118;1084:137,190,117;1085:139,190,117;1086:142,190,116;1087:144,190,115;1088:146,190,114;1089:148,190,113;1090:151,190,112;1091:153,190,111;1092:155,189,110;1093:158,189,109;1094:160,189,108;1095:162,189,107;1096:165,189,106;1097:167,189,105;1098:169,189,104;1099:171,188,104;1100:174,188,103;1101:176,188,102;1102:178,188,101;1103:181,188,100;1104:183,188,99;1105:185,188,98;1106:188,188,97;1107:190,187,96;1108:192,187,95;1109:194,187,94;1110:197,187,93;1111:199,187,92;1112:201,187,92;1113:204,187,91;1114:206,186,90;1115:208,186,89;1116:210,187,88;1117:211,187,86;1118:212,188,85;1119:214,188,84;1120:215,188,83;1121:217,189,81;1122:218,189,80;1123:220,190,79;1124:221,190,78;1125:222,191,77;1126:224,191,75;1127:225,191,74;1128:227,192,73;1129:228,192,72;1130:229,193,70;1131:231,193,69;1132:232,194,68;1133:234,194,67;1134:235,194,66;1135:236,195,64;1136:238,195,63;1137:239,196,62;1138:241,196,61;1139:242,197,59;1140:244,197,58;1141:245,197,57;1142:246,198,56;1143:248,198,55;1144:249,199,53;1145:251,199,52;1146:252,200,51;1147:253,200,50;1148:253,202,49;1149:253,203,47;1150:253,205,46;1151:253,206,45;1152:253,208,44;1153:252,209,43;1154:252,211,42;1155:252,213,41;1156:252,214,39;1157:252,216,38;1158:252,217,37;1159:252,219,36;1160:251,220,35;1161:251,222,34;1162:251,224,33;1163:251,225,31;1164:251,227,30;1165:251,228,29;1166:250,230,28;1167:250,231,27;1168:250,233,26;1169:250,235,25;1170:250,236,23;1171:250,238,22;1172:250,239,21;1173:249,241,20;1174:249,242,19;1175:249,244,18;1176:249,246,17;1177:249,247,16;1178:249,249,14\",\"fBuf\":[924,925,926,927,928,929,930,931,932,933,934,935,936,937,938,939,940,941,942,943,944,945,946,947,948,949,950,951,952,953,954,955,956,957,958,959,960,961,962,963,964,965,966,967,968,969,970,971,972,973,974,975,976,977,978,979,980,981,982,983,984,985,986,987,988,989,990,991,992,993,994,995,996,997,998,999,1000,1001,1002,1003,1004,1005,1006,1007,1008,1009,1010,1011,1012,1013,1014,1015,1016,1017,1018,1019,1020,1021,1022,1023,1024,1025,1026,1027,1028,1029,1030,1031,1032,1033,1034,1035,1036,1037,1038,1039,1040,1041,1042,1043,1044,1045,1046,1047,1048,1049,1050,1051,1052,1053,1054,1055,1056,1057,1058,1059,1060,1061,1062,1063,1064,1065,1066,1067,1068,1069,1070,1071,1072,1073,1074,1075,1076,1077,1078,1079,1080,1081,1082,1083,1084,1085,1086,1087,1088,1089,1090,1091,1092,1093,1094,1095,1096,1097,1098,1099,1100,1101,1102,1103,1104,1105,1106,1107,1108,1109,1110,1111,1112,1113,1114,1115,1116,1117,1118,1119,1120,1121,1122,1123,1124,1125,1126,1127,1128,1129,1130,1131,1132,1133,1134,1135,1136,1137,1138,1139,1140,1141,1142,1143,1144,1145,1146,1147,1148,1149,1150,1151,1152,1153,1154,1155,1156,1157,1158,1159,1160,1161,1162,1163,1164,1165,1166,1167,1168,1169,1170,1171,1172,1173,1174,1175,1176,1177,1178]}},{\"_typename\":\"TWebSnapshot\",\"fUniqueID\":0,\"fBits\":0,\"fObjectID\":\"\",\"fOption\":\"\",\"fKind\":5,\"fSnapshot\":{\"_typename\":\"TStyle\",\"fUniqueID\":0,\"fBits\":0,\"fName\":\"Modern\",\"fTitle\":\"Modern Style\",\"fLineColor\":1,\"fLineStyle\":1,\"fLineWidth\":1,\"fFillColor\":19,\"fFillStyle\":1001,\"fMarkerColor\":1,\"fMarkerStyle\":1,\"fMarkerSize\":1,\"fTextAngle\":0,\"fTextSize\":0.05,\"fTextAlign\":11,\"fTextColor\":1,\"fTextFont\":62,\"fXaxis\":{\"_typename\":\"TAttAxis\",\"fNdivisions\":510,\"fAxisColor\":1,\"fLabelColor\":1,\"fLabelFont\":42,\"fLabelOffset\":0.005,\"fLabelSize\":0.035,\"fTickLength\":0.03,\"fTitleOffset\":1,\"fTitleSize\":0.035,\"fTitleColor\":1,\"fTitleFont\":42},\"fYaxis\":{\"_typename\":\"TAttAxis\",\"fNdivisions\":510,\"fAxisColor\":1,\"fLabelColor\":1,\"fLabelFont\":42,\"fLabelOffset\":0.005,\"fLabelSize\":0.035,\"fTickLength\":0.03,\"fTitleOffset\":0,\"fTitleSize\":0.035,\"fTitleColor\":1,\"fTitleFont\":42},\"fZaxis\":{\"_typename\":\"TAttAxis\",\"fNdivisions\":510,\"fAxisColor\":1,\"fLabelColor\":1,\"fLabelFont\":42,\"fLabelOffset\":0.005,\"fLabelSize\":0.035,\"fTickLength\":0.03,\"fTitleOffset\":1,\"fTitleSize\":0.035,\"fTitleColor\":1,\"fTitleFont\":42},\"fBarWidth\":1,\"fBarOffset\":0,\"fColorModelPS\":0,\"fDrawBorder\":0,\"fOptLogx\":0,\"fOptLogy\":0,\"fOptLogz\":0,\"fOptDate\":0,\"fOptStat\":1111,\"fOptTitle\":1,\"fOptFile\":0,\"fOptFit\":0,\"fShowEventStatus\":0,\"fShowEditor\":0,\"fShowToolBar\":0,\"fNumberContours\":20,\"fAttDate\":{\"_typename\":\"TAttText\",\"fTextAngle\":0,\"fTextSize\":0.025,\"fTextAlign\":11,\"fTextColor\":1,\"fTextFont\":62},\"fDateX\":0.01,\"fDateY\":0.01,\"fEndErrorSize\":2,\"fErrorX\":0.5,\"fFuncColor\":2,\"fFuncStyle\":1,\"fFuncWidth\":2,\"fGridColor\":0,\"fGridStyle\":3,\"fGridWidth\":1,\"fLegendBorderSize\":1,\"fLegendFillColor\":0,\"fLegendFont\":42,\"fLegendTextSize\":0,\"fHatchesLineWidth\":1,\"fHatchesSpacing\":1,\"fFrameFillColor\":0,\"fFrameLineColor\":1,\"fFrameFillStyle\":1001,\"fFrameLineStyle\":1,\"fFrameLineWidth\":1,\"fFrameBorderSize\":1,\"fFrameBorderMode\":0,\"fHistFillColor\":0,\"fHistLineColor\":602,\"fHistFillStyle\":1001,\"fHistLineStyle\":1,\"fHistLineWidth\":1,\"fHistMinimumZero\":false,\"fHistTopMargin\":0.05,\"fCanvasPreferGL\":false,\"fCanvasColor\":0,\"fCanvasBorderSize\":2,\"fCanvasBorderMode\":0,\"fCanvasDefH\":500,\"fCanvasDefW\":700,\"fCanvasDefX\":10,\"fCanvasDefY\":10,\"fPadColor\":0,\"fPadBorderSize\":2,\"fPadBorderMode\":0,\"fPadBottomMargin\":0.1,\"fPadTopMargin\":0.1,\"fPadLeftMargin\":0.1,\"fPadRightMargin\":0.1,\"fPadGridX\":false,\"fPadGridY\":false,\"fPadTickX\":0,\"fPadTickY\":0,\"fPaperSizeX\":20,\"fPaperSizeY\":26,\"fScreenFactor\":1,\"fStatColor\":0,\"fStatTextColor\":1,\"fStatBorderSize\":1,\"fStatFont\":42,\"fStatFontSize\":0,\"fStatStyle\":1001,\"fStatFormat\":\"6.4g\",\"fStatX\":0.98,\"fStatY\":0.935,\"fStatW\":0.2,\"fStatH\":0.16,\"fStripDecimals\":true,\"fTitleAlign\":23,\"fTitleColor\":0,\"fTitleTextColor\":1,\"fTitleBorderSize\":0,\"fTitleFont\":42,\"fTitleFontSize\":0.05,\"fTitleStyle\":0,\"fTitleX\":0.5,\"fTitleY\":0.995,\"fTitleW\":0,\"fTitleH\":0,\"fLegoInnerR\":0.5,\"fLineStyles\":[\"\",\"  \",\" 12 12\",\" 4 8\",\" 12 16 4 16\",\" 20 12 4 12\",\" 20 12 4 12 4 12 4 12\",\" 20 20\",\" 20 12 4 12 4 12\",\" 80 20\",\" 80 40 4 40\",\"  \",\"  \",\"  \",\"  \",\"  \",\"  \",\"  \",\"  \",\"  \",\"  \",\"  \",\"  \",\"  \",\"  \",\"  \",\"  \",\"  \",\"  \",\"  \"],\"fHeaderPS\":\"\",\"fTitlePS\":\"\",\"fFitFormat\":\"5.4g\",\"fPaintTextFormat\":\"g\",\"fLineScalePS\":3,\"fJoinLinePS\":0,\"fCapLinePS\":0,\"fTimeOffset\":788918400,\"fImageScaling\":1,\"fCandleWhiskerRange\":1,\"fCandleBoxRange\":0.5,\"fCandleScaled\":false,\"fViolinScaled\":true,\"fXAxisExpXOffset\":0,\"fXAxisExpYOffset\":0,\"fYAxisExpXOffset\":0,\"fYAxisExpYOffset\":0,\"fAxisMaxDigits\":5,\"fOrthoCamera\":false}},{\"_typename\":\"TPadWebSnapshot\",\"fUniqueID\":0,\"fBits\":0,\"fObjectID\":\"\",\"fOption\":\"\",\"fKind\":3,\"fSnapshot\":{\"_typename\":\"TPad\",\"fUniqueID\":0,\"fBits\":9,\"fLineColor\":1,\"fLineStyle\":1,\"fLineWidth\":1,\"fFillColor\":0,\"fFillStyle\":1001,\"fLeftMargin\":0.1,\"fRightMargin\":0.1,\"fBottomMargin\":0.1,\"fTopMargin\":0.1,\"fXfile\":2,\"fYfile\":2,\"fAfile\":1,\"fXstat\":0.99,\"fYstat\":0.99,\"fAstat\":2,\"fFrameFillColor\":0,\"fFrameLineColor\":1,\"fFrameFillStyle\":1001,\"fFrameLineStyle\":1,\"fFrameLineWidth\":1,\"fFrameBorderSize\":1,\"fFrameBorderMode\":0,\"fX1\":-1.80000002682209,\"fY1\":0.128744922163679,\"fX2\":1.80000002682209,\"fY2\":1.06806574579978,\"fXtoAbsPixelk\":199,\"fXtoPixelk\":191.04000017792,\"fXtoPixel\":106.133331850668,\"fYtoAbsPixelk\":317.911664382188,\"fYtoPixelk\":312.19166451004,\"fYtoPixel\":-292.296298928928,\"fUtoAbsPixelk\":7.95999982208014,\"fUtoPixelk\":0,\"fUtoPixel\":382.08000035584,\"fVtoAbsPixelk\":280.280000127852,\"fVtoPixelk\":274.560000255704,\"fVtoPixel\":-274.560000255704,\"fAbsPixeltoXk\":-1.87500002619345,\"fPixeltoXk\":-1.80000002682209,\"fPixeltoX\":0.00942211068438919,\"fAbsPixeltoYk\":1.0876349291699,\"fPixeltoYk\":0.128744922163679,\"fPixeltoY\":-0.00342118598033686,\"fXlowNDC\":0.00999999977648258,\"fYlowNDC\":0.509999999776483,\"fXUpNDC\":0.490000000223517,\"fYUpNDC\":0.990000000223517,\"fWNDC\":0.480000000447035,\"fHNDC\":0.480000000447035,\"fAbsXlowNDC\":0.00999999977648258,\"fAbsYlowNDC\":0.509999999776483,\"fAbsWNDC\":0.480000000447035,\"fAbsHNDC\":0.480000000447035,\"fUxmin\":-1.44,\"fUymin\":0.222677010126078,\"fUxmax\":1.44,\"fUymax\":0.974133657837381,\"fTheta\":30,\"fPhi\":30,\"fAspectRatio\":0,\"fNumber\":1,\"fTickx\":0,\"fTicky\":0,\"fLogx\":0,\"fLogy\":0,\"fLogz\":0,\"fPadPaint\":0,\"fCrosshair\":0,\"fCrosshairPos\":0,\"fBorderSize\":2,\"fBorderMode\":0,\"fModified\":true,\"fGridx\":false,\"fGridy\":false,\"fAbsCoord\":false,\"fEditable\":true,\"fFixedAspectRatio\":false,\"fPrimitives\":{\"_typename\":\"TList\",\"name\":\"TList\",\"arr\":[],\"opt\":[]},\"fExecs\":{\"_typename\":\"TList\",\"name\":\"TList\",\"arr\":[],\"opt\":[]},\"fName\":\"canvas4_1\",\"fTitle\":\"canvas4_1\",\"fNumPaletteColor\":0,\"fNextPaletteColor\":0},\"fActive\":false,\"fReadOnly\":true,\"fWithoutPrimitives\":false,\"fHasExecs\":true,\"fPrimitives\":[{\"_typename\":\"TWebSnapshot\",\"fUniqueID\":0,\"fBits\":0,\"fObjectID\":\"\",\"fOption\":\"\",\"fKind\":1,\"fSnapshot\":{\"_typename\":\"TFrame\",\"fUniqueID\":0,\"fBits\":8,\"fLineColor\":1,\"fLineStyle\":1,\"fLineWidth\":1,\"fFillColor\":0,\"fFillStyle\":1001,\"fX1\":-1.44,\"fY1\":0.222677010126078,\"fX2\":1.44,\"fY2\":0.974133657837381,\"fBorderSize\":1,\"fBorderMode\":0}},{\"_typename\":\"TWebSnapshot\",\"fUniqueID\":0,\"fBits\":0,\"fObjectID\":\"\",\"fOption\":\"ap\",\"fKind\":2,\"fSnapshot\":{\"_typename\":\"TWebPainting\",\"fUniqueID\":0,\"fBits\":0,\"fOper\":\"y0:1001;b;z1:1:1;r;l2;l2;l2;l2;l2;l2;l2;l2;l2;l2;l2;l2;l2;l2;l2;l2;l2;l2;l2;l2;l2;l2;l2;l2;l2;l2;l2;l2;l2;l2;l2;l2;o1:42:-35:11:0;t1;o1:122:-35:11:0;t-;o1:42:-35:11:0;t0.5;o1:122:-35:11:0;t-;o1:42:-35:11:0;t0;o1:42:-35:11:0;t0.5;o1:42:-35:11:0;t1;o1:122:-35:11:0;th;o1:42:-35:11:0;tmuon ;l2;l2;l2;l2;l2;l2;l2;l2;l2;l2;l2;l2;l2;l2;l2;l2;l2;l2;l2;l2;l2;l2;l2;l2;l2;l2;l2;l2;l2;l2;l2;l2;l2;l2;l2;l2;l2;l2;l2;l2;o1:42:-35:11:0;t0.3;o1:42:-35:11:0;t0.4;o1:42:-35:11:0;t0.5;o1:42:-35:11:0;t0.6;o1:42:-35:11:0;t0.7;o1:42:-35:11:0;t0.8;o1:42:-35:11:0;t0.9;o1:42:-35:11:90;tEfficiency;x1:1:1;m48;l2;l2;l2;l2;l2;l2;l2;l2;l2;l2;l2;l2;l2;l2;l2;l2;l2;l2;l2;l2;l2;l2;l2;l2;l2;l2;l2;l2;l2;l2;l2;l2;l2;l2;l2;l2;l2;l2;l2;l2;l2;l2;l2;l2;l2;l2;l2;l2;l2;l2;l2;l2;l2;l2;l2;l2;l2;l2;l2;l2;l2;l2;l2;l2;l2;l2;l2;l2;l2;l2;l2;l2;l2;l2;l2;l2;l2;l2;l2;l2;l2;l2;l2;l2;l2;l2;l2;l2;l2;l2;l2;l2;l2;l2;l2;l2;l2;l2;l2;l2;l2;l2;l2;l2;l2;l2;l2;l2;l2;l2;l2;l2;l2;l2;l2;l2;l2;l2;l2;l2;l2;l2;l2;l2;l2;l2;l2;l2;l2;l2;l2;l2;l2;l2;l2;l2;l2;l2;l2;l2;l2;l2;l2;l2;l2;l2;l2;l2;l2;l2;l2;l2;l2;l2;l2;l2;l2;l2;l2;l2;l2;l2;l2;l2;l2;l2;l2;l2;l2;l2;l2;l2;l2;l2;l2;l2;l2;l2;l2;l2;l2;l2;l2;l2;l2;l2;l2;l2;l2;l2;l2;l2;l2;l2;l2;l2;l2;l2;l2;l2;l2;l2;l2;l2;l2;l2;l2;l2;l2;l2;l2;l2;l2;l2;l2;l2;l2;l2;l2;l2;l2;l2;l2;l2;l2;l2;l2;l2;l2;l2;l2;l2;l2;l2;l2;l2;l2;l2;l2;l2;l2;l2;l2;l2;l2;l2;l2;l2;l2;l2;l2;l2;l2;l2;l2;l2;l2;l2;l2;l2;l2;l2;l2;l2;l2;l2;l2;l2;l2;l2;l2;l2;l2;l2;l2;l2;l2;l2;l2;l2;l2;l2;l2;l2;l2;l2;l2;l2;l2;l2;l2;l2;l2;l2;l2;l2;l2;l2;l2;l2;l2;l2;l2;l2;l2;l2;l2;l2;l2;l2;l2;l2;l2;l2;l2;l2;l2;l2;l2;l2;l2;l2;l2;l2;l2;l2;l2;l2;l2;l2;l2;l2;l2;l2;l2;l2;l2;l2;l2;l2;l2;l2;l2;l2;l2;l2;l2;l2;l2;l2;l2;l2;l2;l2;l2;l2;l2;l2;l2;l2;l2;l2;l2;l2;l2;l2;l2;l2;l2;l2;l2;l2;l2;l2;l2;l2;l2;l2;l2;l2;l2;l2;l2;l2\",\"fBuf\":[-1.44,0.222677,1.44,0.9741337,-1.44,0.222677,1.44,0.9741337,-1.44,0.222677,1.44,0.222677,-1,0.2452207,-1,0.222677,-0.9,0.2339489,-0.9,0.222677,-0.8,0.2339489,-0.8,0.222677,-0.7,0.2339489,-0.7,0.222677,-0.6,0.2339489,-0.6,0.222677,-0.5,0.2452207,-0.5,0.222677,-0.4,0.2339489,-0.4,0.222677,-0.3,0.2339489,-0.3,0.222677,-0.2,0.2339489,-0.2,0.222677,-0.1,0.2339489,-0.1,0.222677,0,0.2452207,0,0.222677,0.1,0.2339489,0.1,0.222677,0.2,0.2339489,0.2,0.222677,0.3,0.2339489,0.3,0.222677,0.4,0.2339489,0.4,0.222677,0.5,0.2452207,0.5,0.222677,0.6,0.2339489,0.6,0.222677,0.7,0.2339489,0.7,0.222677,0.8,0.2339489,0.8,0.222677,0.9,0.2339489,0.9,0.222677,1,0.2452207,1,0.222677,-1,0.2452207,-1,0.222677,-1.1,0.2339489,-1.1,0.222677,-1.2,0.2339489,-1.2,0.222677,-1.3,0.2339489,-1.3,0.222677,-1.4,0.2339489,-1.4,0.222677,1,0.2452207,1,0.222677,1.1,0.2339489,1.1,0.222677,1.2,0.2339489,1.2,0.222677,1.3,0.2339489,1.3,0.222677,1.4,0.2339489,1.4,0.222677,-0.9987437,0.1912842,-1.045854,0.1912842,-0.5464824,0.1912842,-0.5841709,0.1912842,-0.02826633,0.1912842,0.4334171,0.1912842,0.9798995,0.1912842,1.394472,0.1639147,1.111809,0.1639147,-1.44,0.222677,-1.44,0.9741337,-1.3536,0.3,-1.44,0.3,-1.3968,0.32,-1.44,0.32,-1.3968,0.34,-1.44,0.34,-1.3968,0.36,-1.44,0.36,-1.3968,0.38,-1.44,0.38,-1.3536,0.4,-1.44,0.4,-1.3968,0.42,-1.44,0.42,-1.3968,0.44,-1.44,0.44,-1.3968,0.46,-1.44,0.46,-1.3968,0.48,-1.44,0.48,-1.3536,0.5,-1.44,0.5,-1.3968,0.52,-1.44,0.52,-1.3968,0.54,-1.44,0.54,-1.3968,0.56,-1.44,0.56,-1.3968,0.58,-1.44,0.58,-1.3536,0.6,-1.44,0.6,-1.3968,0.62,-1.44,0.62,-1.3968,0.64,-1.44,0.64,-1.3968,0.66,-1.44,0.66,-1.3968,0.68,-1.44,0.68,-1.3536,0.7,-1.44,0.7,-1.3968,0.72,-1.44,0.72,-1.3968,0.74,-1.44,0.74,-1.3968,0.76,-1.44,0.76,-1.3968,0.78,-1.44,0.78,-1.3536,0.8,-1.44,0.8,-1.3968,0.82,-1.44,0.82,-1.3968,0.84,-1.44,0.84,-1.3968,0.86,-1.44,0.86,-1.3968,0.88,-1.44,0.88,-1.3536,0.9,-1.44,0.9,-1.3536,0.3,-1.44,0.3,-1.3968,0.28,-1.44,0.28,-1.3968,0.26,-1.44,0.26,-1.3968,0.24,-1.44,0.24,-1.3536,0.9,-1.44,0.9,-1.3968,0.92,-1.44,0.92,-1.3968,0.94,-1.44,0.94,-1.3968,0.96,-1.44,0.96,-1.582915,0.2870774,-1.582915,0.3862918,-1.582915,0.4855062,-1.582915,0.5847206,-1.582915,0.6873562,-1.582915,0.7865705,-1.582915,0.885785,-1.658291,0.8413095,-1.175,0.8319628,-1.125,0.9003751,-1.075,0.8795337,-1.025,0.8745899,-0.975,0.8738948,-0.925,0.8855258,-0.875,0.8819759,-0.825,0.5384893,-0.775,0.8834393,-0.725,0.8967525,-0.675,0.8984052,-0.625,0.9026417,-0.575,0.9000593,-0.525,0.8868275,-0.475,0.903291,-0.425,0.8925642,-0.375,0.8214383,-0.325,0.3137532,-0.275,0.3831126,-0.225,0.892127,-0.175,0.9030374,-0.125,0.9030997,-0.075,0.9066776,-0.025,0.9001909,0.025,0.9028476,0.075,0.900719,0.125,0.9001924,0.175,0.898062,0.225,0.8826145,0.275,0.3925117,0.325,0.2930886,0.375,0.8184073,0.425,0.8745439,0.475,0.8995901,0.525,0.8904864,0.575,0.9037566,0.625,0.9042836,0.675,0.905067,0.725,0.9036369,0.775,0.8764012,0.825,0.546162,0.875,0.870618,0.925,0.8741617,0.975,0.8482224,1.025,0.8883212,1.075,0.8809623,1.125,0.8963239,1.175,0.8208696,-1.175,0.8319628,-1.2,0.8319628,-1.175,0.8319628,-1.15,0.8319628,-1.2,0.8251204,-1.2,0.8388052,-1.15,0.8251204,-1.15,0.8388052,-1.175,0.8319628,-1.175,0.8390891,-1.175,0.8319628,-1.175,0.8245932,-1.193844,0.8390891,-1.156156,0.8390891,-1.193844,0.8245932,-1.156156,0.8245932,-1.125,0.9003751,-1.15,0.9003751,-1.125,0.9003751,-1.1,0.9003751,-1.15,0.8935328,-1.15,0.9072175,-1.1,0.8935328,-1.1,0.9072175,-1.125,0.9003751,-1.125,0.906526,-1.125,0.9003751,-1.125,0.8938793,-1.143844,0.906526,-1.106156,0.906526,-1.143844,0.8938793,-1.106156,0.8938793,-1.075,0.8795337,-1.1,0.8795337,-1.075,0.8795337,-1.05,0.8795337,-1.1,0.8726913,-1.1,0.886376,-1.05,0.8726913,-1.05,0.886376,-1.075,0.8795337,-1.075,0.8863441,-1.075,0.8795337,-1.075,0.8723851,-1.093844,0.8863441,-1.056156,0.8863441,-1.093844,0.8723851,-1.056156,0.8723851,-1.025,0.8745899,-1.05,0.8745899,-1.025,0.8745899,-1,0.8745899,-1.05,0.8677475,-1.05,0.8814322,-1,0.8677475,-1,0.8814322,-1.025,0.8745899,-1.025,0.8809549,-1.025,0.8745899,-1.025,0.8679439,-1.043844,0.8809549,-1.006156,0.8809549,-1.043844,0.8679439,-1.006156,0.8679439,-0.975,0.8738948,-1,0.8738948,-0.975,0.8738948,-0.95,0.8738948,-1,0.8670524,-1,0.8807372,-0.95,0.8670524,-0.95,0.8807372,-0.975,0.8738948,-0.975,0.8811086,-0.975,0.8738948,-0.975,0.8663219,-0.9938442,0.8811086,-0.9561558,0.8811086,-0.9938442,0.8663219,-0.9561558,0.8663219,-0.925,0.8855258,-0.95,0.8855258,-0.925,0.8855258,-0.9,0.8855258,-0.95,0.8786834,-0.95,0.8923682,-0.9,0.8786834,-0.9,0.8923682,-0.925,0.8855258,-0.925,0.8918374,-0.925,0.8855258,-0.925,0.8789058,-0.9438442,0.8918374,-0.9061558,0.8918374,-0.9438442,0.8789058,-0.9061558,0.8789058,-0.875,0.8819759,-0.9,0.8819759,-0.875,0.8819759,-0.85,0.8819759,-0.9,0.8751335,-0.9,0.8888183,-0.85,0.8751335,-0.85,0.8888183,-0.875,0.8819759,-0.875,0.888281,-0.875,0.8819759,-0.875,0.8753741,-0.8938442,0.888281,-0.8561558,0.888281,-0.8938442,0.8753741,-0.8561558,0.8753741,-0.825,0.5384893,-0.85,0.5384893,-0.825,0.5384893,-0.8,0.5384893,-0.85,0.531647,-0.85,0.5453317,-0.8,0.531647,-0.8,0.5453317,-0.825,0.5384893,-0.825,0.5481312,-0.825,0.5384893,-0.825,0.5288191,-0.8438442,0.5481312,-0.8061558,0.5481312,-0.8438442,0.5288191,-0.8061558,0.5288191,-0.775,0.8834393,-0.8,0.8834393,-0.775,0.8834393,-0.75,0.8834393,-0.8,0.8765969,-0.8,0.8902817,-0.75,0.8765969,-0.75,0.8902817,-0.775,0.8834393,-0.775,0.8890549,-0.775,0.8834393,-0.775,0.8775852,-0.7938442,0.8890549,-0.7561558,0.8890549,-0.7938442,0.8775852,-0.7561558,0.8775852,-0.725,0.8967525,-0.75,0.8967525,-0.725,0.8967525,-0.7,0.8967525,-0.75,0.8899101,-0.75,0.9035949,-0.7,0.8899101,-0.7,0.9035949,-0.725,0.8967525,-0.725,0.9021066,-0.725,0.8967525,-0.725,0.8911481,-0.7438442,0.9021066,-0.7061558,0.9021066,-0.7438442,0.8911481,-0.7061558,0.8911481,-0.675,0.8984052,-0.7,0.8984052,-0.675,0.8984052,-0.65,0.8984052,-0.7,0.8915628,-0.7,0.9052476,-0.65,0.8915628,-0.65,0.9052476,-0.675,0.8984052,-0.675,0.9036239,-0.675,0.8984052,-0.675,0.8929445,-0.6938442,0.9036239,-0.6561558,0.9036239,-0.6938442,0.8929445,-0.6561558,0.8929445,-0.625,0.9026417,-0.65,0.9026417,-0.625,0.9026417,-0.6,0.9026417,-0.65,0.8957993,-0.65,0.9094841,-0.6,0.8957993,-0.6,0.9094841,-0.625,0.9026417,-0.625,0.9077746,-0.625,0.9026417,-0.625,0.8972629,-0.6438442,0.9077746,-0.6061558,0.9077746,-0.6438442,0.8972629,-0.6061558,0.8972629,-0.575,0.9000593,-0.6,0.9000593,-0.575,0.9000593,-0.55,0.9000593,-0.6,0.893217,-0.6,0.9069017,-0.55,0.893217,-0.55,0.9069017,-0.575,0.9000593,-0.575,0.9052505,-0.575,0.9000593,-0.575,0.894624,-0.5938442,0.9052505,-0.5561558,0.9052505,-0.5938442,0.894624,-0.5561558,0.894624,-0.525,0.8868275,-0.55,0.8868275,-0.525,0.8868275,-0.5,0.8868275,-0.55,0.8799851,-0.55,0.8936698,-0.5,0.8799851,-0.5,0.8936698,-0.525,0.8868275,-0.525,0.8924299,-0.525,0.8868275,-0.525,0.8809792,-0.5438442,0.8924299,-0.5061558,0.8924299,-0.5438442,0.8809792,-0.5061558,0.8809792,-0.475,0.903291,-0.5,0.903291,-0.475,0.903291,-0.45,0.903291,-0.5,0.8964486,-0.5,0.9101334,-0.45,0.8964486,-0.45,0.9101334,-0.475,0.903291,-0.475,0.9083375,-0.475,0.903291,-0.475,0.898005,-0.4938442,0.9083375,-0.4561558,0.9083375,-0.4938442,0.898005,-0.4561558,0.898005,-0.425,0.8925642,-0.45,0.8925642,-0.425,0.8925642,-0.4,0.8925642,-0.45,0.8857219,-0.45,0.8994066,-0.4,0.8857219,-0.4,0.8994066,-0.425,0.8925642,-0.425,0.8977108,-0.425,0.8925642,-0.425,0.8871974,-0.4438442,0.8977108,-0.4061558,0.8977108,-0.4438442,0.8871974,-0.4061558,0.8871974,-0.375,0.8214383,-0.4,0.8214383,-0.375,0.8214383,-0.35,0.8214383,-0.4,0.8145959,-0.4,0.8282807,-0.35,0.8145959,-0.35,0.8282807,-0.375,0.8214383,-0.375,0.8278179,-0.375,0.8214383,-0.375,0.8148792,-0.3938442,0.8278179,-0.3561558,0.8278179,-0.3938442,0.8148792,-0.3561558,0.8148792,-0.325,0.3137532,-0.35,0.3137532,-0.325,0.3137532,-0.3,0.3137532,-0.35,0.3069108,-0.35,0.3205956,-0.3,0.3069108,-0.3,0.3205956,-0.325,0.3137532,-0.325,0.3217447,-0.325,0.3137532,-0.325,0.3058687,-0.3438442,0.3217447,-0.3061558,0.3217447,-0.3438442,0.3058687,-0.3061558,0.3058687,-0.275,0.3831126,-0.3,0.3831126,-0.275,0.3831126,-0.25,0.3831126,-0.3,0.3762702,-0.3,0.389955,-0.25,0.3762702,-0.25,0.389955,-0.275,0.3831126,-0.275,0.3921624,-0.275,0.3831126,-0.275,0.3741416,-0.2938442,0.3921624,-0.2561558,0.3921624,-0.2938442,0.3741416,-0.2561558,0.3741416,-0.225,0.892127,-0.25,0.892127,-0.225,0.892127,-0.2,0.892127,-0.25,0.8852847,-0.25,0.8989694,-0.2,0.8852847,-0.2,0.8989694,-0.225,0.892127,-0.225,0.8986382,-0.225,0.892127,-0.225,0.8852633,-0.2438442,0.8986382,-0.2061558,0.8986382,-0.2438442,0.8852633,-0.2061558,0.8852633,-0.175,0.9030374,-0.2,0.9030374,-0.175,0.9030374,-0.15,0.9030374,-0.2,0.896195,-0.2,0.9098797,-0.15,0.896195,-0.15,0.9098797,-0.175,0.9030374,-0.175,0.9089094,-0.175,0.9030374,-0.175,0.8968411,-0.1938442,0.9089094,-0.1561558,0.9089094,-0.1938442,0.8968411,-0.1561558,0.8968411,-0.125,0.9030997,-0.15,0.9030997,-0.125,0.9030997,-0.1,0.9030997,-0.15,0.8962573,-0.15,0.9099421,-0.1,0.8962573,-0.1,0.9099421,-0.125,0.9030997,-0.125,0.9080672,-0.125,0.9030997,-0.125,0.8979008,-0.1438442,0.9080672,-0.1061558,0.9080672,-0.1438442,0.8979008,-0.1061558,0.8979008,-0.075,0.9066776,-0.1,0.9066776,-0.075,0.9066776,-0.05,0.9066776,-0.1,0.8998352,-0.1,0.91352,-0.05,0.8998352,-0.05,0.91352,-0.075,0.9066776,-0.075,0.9115123,-0.075,0.9066776,-0.075,0.9016141,-0.09384422,0.9115123,-0.05615578,0.9115123,-0.09384422,0.9016141,-0.05615578,0.9016141,-0.025,0.9001909,-0.05,0.9001909,-0.025,0.9001909,-4.857226e-17,0.9001909,-0.05,0.8933485,-0.05,0.9070333,-4.857226e-17,0.8933485,-4.857226e-17,0.9070333,-0.025,0.9001909,-0.025,0.9051651,-0.025,0.9001909,-0.025,0.8949924,-0.04384422,0.9051651,-0.006155779,0.9051651,-0.04384422,0.8949924,-0.006155779,0.8949924,0.025,0.9028476,0,0.9028476,0.025,0.9028476,0.05,0.9028476,0,0.8960052,0,0.90969,0.05,0.8960052,0.05,0.90969,0.025,0.9028476,0.025,0.9078201,0.025,0.9028476,0.025,0.8976437,0.006155779,0.9078201,0.04384422,0.9078201,0.006155779,0.8976437,0.04384422,0.8976437,0.075,0.900719,0.05,0.900719,0.075,0.900719,0.1,0.900719,0.05,0.8938767,0.05,0.9075614,0.1,0.8938767,0.1,0.9075614,0.075,0.900719,0.075,0.9057165,0.075,0.900719,0.075,0.8954938,0.05615578,0.9057165,0.09384422,0.9057165,0.05615578,0.8954938,0.09384422,0.8954938,0.125,0.9001924,0.1,0.9001924,0.125,0.9001924,0.15,0.9001924,0.1,0.8933501,0.1,0.9070348,0.15,0.8933501,0.15,0.9070348,0.125,0.9001924,0.125,0.9051872,0.125,0.9001924,0.125,0.8949716,0.1061558,0.9051872,0.1438442,0.9051872,0.1061558,0.8949716,0.1438442,0.8949716,0.175,0.898062,0.15,0.898062,0.175,0.898062,0.2,0.898062,0.15,0.8912196,0.15,0.9049044,0.2,0.8912196,0.2,0.9049044,0.175,0.898062,0.175,0.9040534,0.175,0.898062,0.175,0.8917521,0.1561558,0.9040534,0.1938442,0.9040534,0.1561558,0.8917521,0.1938442,0.8917521,0.225,0.8826145,0.2,0.8826145,0.225,0.8826145,0.25,0.8826145,0.2,0.8757721,0.2,0.8894569,0.25,0.8757721,0.25,0.8894569,0.225,0.8826145,0.225,0.8894483,0.225,0.8826145,0.225,0.8754294,0.2061558,0.8894483,0.2438442,0.8894483,0.2061558,0.8754294,0.2438442,0.8754294,0.275,0.3925117,0.25,0.3925117,0.275,0.3925117,0.3,0.3925117,0.25,0.3856693,0.25,0.3993541,0.3,0.3856693,0.3,0.3993541,0.275,0.3925117,0.275,0.4013259,0.275,0.3925117,0.275,0.3837658,0.2561558,0.4013259,0.2938442,0.4013259,0.2561558,0.3837658,0.2938442,0.3837658,0.325,0.2930886,0.3,0.2930886,0.325,0.2930886,0.35,0.2930886,0.3,0.2862462,0.3,0.299931,0.35,0.2862462,0.35,0.299931,0.325,0.2930886,0.325,0.3009997,0.325,0.2930886,0.325,0.2852984,0.3061558,0.3009997,0.3438442,0.3009997,0.3061558,0.2852984,0.3438442,0.2852984,0.375,0.8184073,0.35,0.8184073,0.375,0.8184073,0.4,0.8184073,0.35,0.8115649,0.35,0.8252497,0.4,0.8115649,0.4,0.8252497,0.375,0.8184073,0.375,0.8248543,0.375,0.8184073,0.375,0.811781,0.3561558,0.8248543,0.3938442,0.8248543,0.3561558,0.811781,0.3938442,0.811781,0.425,0.8745439,0.4,0.8745439,0.425,0.8745439,0.45,0.8745439,0.4,0.8677015,0.4,0.8813863,0.45,0.8677015,0.45,0.8813863,0.425,0.8745439,0.425,0.8801255,0.425,0.8745439,0.425,0.8687468,0.4061558,0.8801255,0.4438442,0.8801255,0.4061558,0.8687468,0.4438442,0.8687468,0.475,0.8995901,0.45,0.8995901,0.475,0.8995901,0.5,0.8995901,0.45,0.8927478,0.45,0.9064325,0.5,0.8927478,0.5,0.9064325,0.475,0.8995901,0.475,0.9047586,0.475,0.8995901,0.475,0.8941812,0.4561558,0.9047586,0.4938442,0.9047586,0.4561558,0.8941812,0.4938442,0.8941812,0.525,0.8904864,0.5,0.8904864,0.525,0.8904864,0.55,0.8904864,0.5,0.883644,0.5,0.8973287,0.55,0.883644,0.55,0.8973287,0.525,0.8904864,0.525,0.8959784,0.525,0.8904864,0.525,0.8847488,0.5061558,0.8959784,0.5438442,0.8959784,0.5061558,0.8847488,0.5438442,0.8847488,0.575,0.9037566,0.55,0.9037566,0.575,0.9037566,0.6,0.9037566,0.55,0.8969142,0.55,0.910599,0.6,0.8969142,0.6,0.910599,0.575,0.9037566,0.575,0.9089795,0.575,0.9037566,0.575,0.8982756,0.5561558,0.9089795,0.5938442,0.9089795,0.5561558,0.8982756,0.5938442,0.8982756,0.625,0.9042836,0.6,0.9042836,0.625,0.9042836,0.65,0.9042836,0.6,0.8974412,0.6,0.911126,0.65,0.8974412,0.65,0.911126,0.625,0.9042836,0.625,0.9093652,0.625,0.9042836,0.625,0.8989562,0.6061558,0.9093652,0.6438442,0.9093652,0.6061558,0.8989562,0.6438442,0.8989562,0.675,0.905067,0.65,0.905067,0.675,0.905067,0.7,0.905067,0.65,0.8982246,0.65,0.9119093,0.7,0.8982246,0.7,0.9119093,0.675,0.905067,0.675,0.9100934,0.675,0.905067,0.675,0.8997978,0.6561558,0.9100934,0.6938442,0.9100934,0.6561558,0.8997978,0.6938442,0.8997978,0.725,0.9036369,0.7,0.9036369,0.725,0.9036369,0.75,0.9036369,0.7,0.8967946,0.7,0.9104793,0.75,0.8967946,0.75,0.9104793,0.725,0.9036369,0.725,0.908866,0.725,0.9036369,0.725,0.8981495,0.7061558,0.908866,0.7438442,0.908866,0.7061558,0.8981495,0.7438442,0.8981495,0.775,0.8764012,0.75,0.8764012,0.775,0.8764012,0.8,0.8764012,0.75,0.8695588,0.75,0.8832436,0.8,0.8695588,0.8,0.8832436,0.775,0.8764012,0.775,0.8820873,0.775,0.8764012,0.775,0.8704872,0.7561558,0.8820873,0.7938442,0.8820873,0.7561558,0.8704872,0.7938442,0.8704872,0.825,0.546162,0.8,0.546162,0.825,0.546162,0.85,0.546162,0.8,0.5393196,0.8,0.5530044,0.85,0.5393196,0.85,0.5530044,0.825,0.546162,0.825,0.5556843,0.825,0.546162,0.825,0.5366065,0.8061558,0.5556843,0.8438442,0.5556843,0.8061558,0.5366065,0.8438442,0.5366065,0.875,0.870618,0.85,0.870618,0.875,0.870618,0.9,0.870618,0.85,0.8637756,0.85,0.8774604,0.9,0.8637756,0.9,0.8774604,0.875,0.870618,0.875,0.8770411,0.875,0.870618,0.875,0.8639195,0.8561558,0.8770411,0.8938442,0.8770411,0.8561558,0.8639195,0.8938442,0.8639195,0.925,0.8741617,0.9,0.8741617,0.925,0.8741617,0.95,0.8741617,0.9,0.8673193,0.9,0.8810041,0.95,0.8673193,0.95,0.8810041,0.925,0.8741617,0.925,0.8807941,0.925,0.8741617,0.925,0.8672254,0.9061558,0.8807941,0.9438442,0.8807941,0.9061558,0.8672254,0.9438442,0.8672254,0.975,0.8482224,0.95,0.8482224,0.975,0.8482224,1,0.8482224,0.95,0.8413801,0.95,0.8550648,1,0.8413801,1,0.8550648,0.975,0.8482224,0.975,0.8559464,0.975,0.8482224,0.975,0.8401717,0.9561558,0.8559464,0.9938442,0.8559464,0.9561558,0.8401717,0.9938442,0.8401717,1.025,0.8883212,1,0.8883212,1.025,0.8883212,1.05,0.8883212,1,0.8814788,1,0.8951635,1.05,0.8814788,1.05,0.8951635,1.025,0.8883212,1.025,0.8943748,1.025,0.8883212,1.025,0.8819755,1.006156,0.8943748,1.043844,0.8943748,1.006156,0.8819755,1.043844,0.8819755,1.075,0.8809623,1.05,0.8809623,1.075,0.8809623,1.1,0.8809623,1.05,0.8741199,1.05,0.8878046,1.1,0.8741199,1.1,0.8878046,1.075,0.8809623,1.075,0.8876016,1.075,0.8809623,1.075,0.873997,1.056156,0.8876016,1.093844,0.8876016,1.056156,0.873997,1.093844,0.873997,1.125,0.8963239,1.1,0.8963239,1.125,0.8963239,1.15,0.8963239,1.1,0.8894815,1.1,0.9031662,1.15,0.8894815,1.15,0.9031662,1.125,0.8963239,1.125,0.9025568,1.125,0.8963239,1.125,0.8897526,1.106156,0.9025568,1.143844,0.9025568,1.106156,0.8897526,1.143844,0.8897526,1.175,0.8208696,1.15,0.8208696,1.175,0.8208696,1.2,0.8208696,1.15,0.8140272,1.15,0.8277119,1.2,0.8140272,1.2,0.8277119,1.175,0.8208696,1.175,0.8280801,1.175,0.8208696,1.175,0.8134305,1.156156,0.8280801,1.193844,0.8280801,1.156156,0.8134305,1.193844,0.8134305]}},{\"_typename\":\"TWebSnapshot\",\"fUniqueID\":0,\"fBits\":0,\"fObjectID\":\"\",\"fOption\":\"blNDC\",\"fKind\":1,\"fSnapshot\":{\"_typename\":\"TPaveText\",\"fUniqueID\":0,\"fBits\":9,\"fLineColor\":1,\"fLineStyle\":1,\"fLineWidth\":1,\"fFillColor\":0,\"fFillStyle\":0,\"fX1\":-1.24674122348045,\"fY1\":1.00178779851457,\"fX2\":1.24674122348045,\"fY2\":1.06336914616063,\"fX1NDC\":0.153682998638178,\"fY1NDC\":0.929440564269988,\"fX2NDC\":0.846317001361822,\"fY2NDC\":0.995000004768372,\"fBorderSize\":0,\"fInit\":1,\"fShadowColor\":1,\"fCornerRadius\":0,\"fOption\":\"blNDC\",\"fName\":\"title\",\"fTextAngle\":0,\"fTextSize\":0,\"fTextAlign\":22,\"fTextColor\":1,\"fTextFont\":42,\"fLabel\":\"\",\"fLongest\":39,\"fMargin\":0.05,\"fLines\":{\"_typename\":\"TList\",\"name\":\"TList\",\"arr\":[{\"_typename\":\"TLatex\",\"fUniqueID\":0,\"fBits\":0,\"fName\":\"\",\"fTitle\":\"segment efficiency x acceptance vs #eta\",\"fTextAngle\":0,\"fTextSize\":0,\"fTextAlign\":0,\"fTextColor\":0,\"fTextFont\":0,\"fX\":0,\"fY\":0,\"fLineColor\":1,\"fLineStyle\":1,\"fLineWidth\":2,\"fLimitFactorSize\":3,\"fOriginSize\":0.0557255260646343}],\"opt\":[\"\"]}}}]},{\"_typename\":\"TPadWebSnapshot\",\"fUniqueID\":0,\"fBits\":0,\"fObjectID\":\"\",\"fOption\":\"\",\"fKind\":3,\"fSnapshot\":{\"_typename\":\"TPad\",\"fUniqueID\":0,\"fBits\":9,\"fLineColor\":1,\"fLineStyle\":1,\"fLineWidth\":1,\"fFillColor\":0,\"fFillStyle\":1001,\"fLeftMargin\":0.1,\"fRightMargin\":0.1,\"fBottomMargin\":0.1,\"fTopMargin\":0.1,\"fXfile\":2,\"fYfile\":2,\"fAfile\":1,\"fXstat\":0.99,\"fYstat\":0.99,\"fAstat\":2,\"fFrameFillColor\":0,\"fFrameLineColor\":1,\"fFrameFillStyle\":1001,\"fFrameLineStyle\":1,\"fFrameLineWidth\":1,\"fFrameBorderSize\":1,\"fFrameBorderMode\":0,\"fX1\":-1.80000002682209,\"fY1\":-0.129244652248737,\"fX2\":1.80000002682209,\"fY2\":1.16320179320282,\"fXtoAbsPixelk\":597,\"fXtoPixelk\":191.04000017792,\"fXtoPixel\":106.133331850668,\"fYtoAbsPixelk\":252.823998465776,\"fYtoPixelk\":247.103998593628,\"fYtoPixel\":-212.434334298298,\"fUtoAbsPixelk\":405.95999982208,\"fUtoPixelk\":0,\"fUtoPixel\":382.08000035584,\"fVtoAbsPixelk\":280.280000127852,\"fVtoPixelk\":274.560000255704,\"fVtoPixel\":-274.560000255704,\"fAbsPixeltoXk\":-5.62500007858035,\"fPixeltoXk\":-1.80000002682209,\"fPixeltoX\":0.00942211068438919,\"fAbsPixeltoYk\":1.19012776018948,\"fPixeltoYk\":-0.129244652248737,\"fPixeltoY\":-0.00470733699099605,\"fXlowNDC\":0.509999999776483,\"fYlowNDC\":0.509999999776483,\"fXUpNDC\":0.990000000223517,\"fYUpNDC\":0.990000000223517,\"fWNDC\":0.480000000447035,\"fHNDC\":0.480000000447035,\"fAbsXlowNDC\":0.509999999776483,\"fAbsYlowNDC\":0.509999999776483,\"fAbsWNDC\":0.480000000447035,\"fAbsHNDC\":0.480000000447035,\"fUxmin\":-1.44,\"fUymin\":0,\"fUxmax\":1.44,\"fUymax\":1.03395714095409,\"fTheta\":30,\"fPhi\":30,\"fAspectRatio\":0,\"fNumber\":2,\"fTickx\":0,\"fTicky\":0,\"fLogx\":0,\"fLogy\":0,\"fLogz\":0,\"fPadPaint\":0,\"fCrosshair\":0,\"fCrosshairPos\":0,\"fBorderSize\":2,\"fBorderMode\":0,\"fModified\":true,\"fGridx\":false,\"fGridy\":false,\"fAbsCoord\":false,\"fEditable\":true,\"fFixedAspectRatio\":false,\"fPrimitives\":{\"_typename\":\"TList\",\"name\":\"TList\",\"arr\":[],\"opt\":[]},\"fExecs\":{\"_typename\":\"TList\",\"name\":\"TList\",\"arr\":[],\"opt\":[]},\"fName\":\"canvas4_2\",\"fTitle\":\"canvas4_2\",\"fNumPaletteColor\":0,\"fNextPaletteColor\":0},\"fActive\":false,\"fReadOnly\":true,\"fWithoutPrimitives\":false,\"fHasExecs\":true,\"fPrimitives\":[{\"_typename\":\"TWebSnapshot\",\"fUniqueID\":0,\"fBits\":0,\"fObjectID\":\"\",\"fOption\":\"\",\"fKind\":1,\"fSnapshot\":{\"_typename\":\"TFrame\",\"fUniqueID\":0,\"fBits\":8,\"fLineColor\":1,\"fLineStyle\":1,\"fLineWidth\":1,\"fFillColor\":0,\"fFillStyle\":1001,\"fX1\":-1.44,\"fY1\":0,\"fX2\":1.44,\"fY2\":1.03395714095409,\"fBorderSize\":1,\"fBorderMode\":0}},{\"_typename\":\"TWebSnapshot\",\"fUniqueID\":0,\"fBits\":0,\"fObjectID\":\"\",\"fOption\":\"ap\",\"fKind\":2,\"fSnapshot\":{\"_typename\":\"TWebPainting\",\"fUniqueID\":0,\"fBits\":0,\"fOper\":\"y0:1001;b;z1:1:1;r;l2;l2;l2;l2;l2;l2;l2;l2;l2;l2;l2;l2;l2;l2;l2;l2;l2;l2;l2;l2;l2;l2;l2;l2;l2;l2;l2;l2;l2;l2;l2;l2;o1:42:-35:11:0;t1;o1:122:-35:11:0;t-;o1:42:-35:11:0;t0.5;o1:122:-35:11:0;t-;o1:42:-35:11:0;t0;o1:42:-35:11:0;t0.5;o1:42:-35:11:0;t1;o1:122:-35:11:0;th;o1:42:-35:11:0;tmuon ;l2;l2;l2;l2;l2;l2;l2;l2;l2;l2;l2;l2;l2;l2;l2;l2;l2;l2;l2;l2;l2;l2;l2;o1:42:-35:11:0;t0;o1:42:-35:11:0;t0.2;o1:42:-35:11:0;t0.4;o1:42:-35:11:0;t0.6;o1:42:-35:11:0;t0.8;o1:42:-35:11:0;t1;o1:42:-35:11:90;tEfficiency;x1:1:1;m48;l2;l2;l2;l2;l2;l2;l2;l2;l2;l2;l2;l2;l2;l2;l2;l2;l2;l2;l2;l2;l2;l2;l2;l2;l2;l2;l2;l2;l2;l2;l2;l2;l2;l2;l2;l2;l2;l2;l2;l2;l2;l2;l2;l2;l2;l2;l2;l2;l2;l2;l2;l2;l2;l2;l2;l2;l2;l2;l2;l2;l2;l2;l2;l2;l2;l2;l2;l2;l2;l2;l2;l2;l2;l2;l2;l2;l2;l2;l2;l2;l2;l2;l2;l2;l2;l2;l2;l2;l2;l2;l2;l2;l2;l2;l2;l2;l2;l2;l2;l2;l2;l2;l2;l2;l2;l2;l2;l2;l2;l2;l2;l2;l2;l2;l2;l2;l2;l2;l2;l2;l2;l2;l2;l2;l2;l2;l2;l2;l2;l2;l2;l2;l2;l2;l2;l2;l2;l2;l2;l2;l2;l2;l2;l2;l2;l2;l2;l2;l2;l2;l2;l2;l2;l2;l2;l2;l2;l2;l2;l2;l2;l2;l2;l2;l2;l2;l2;l2;l2;l2;l2;l2;l2;l2;l2;l2;l2;l2;l2;l2;l2;l2;l2;l2;l2;l2;l2;l2;l2;l2;l2;l2;l2;l2;l2;l2;l2;l2;l2;l2;l2;l2;l2;l2;l2;l2;l2;l2;l2;l2;l2;l2;l2;l2;l2;l2;l2;l2;l2;l2;l2;l2;l2;l2;l2;l2;l2;l2;l2;l2;l2;l2;l2;l2;l2;l2;l2;l2;l2;l2;l2;l2;l2;l2;l2;l2;l2;l2;l2;l2;l2;l2;l2;l2;l2;l2;l2;l2;l2;l2;l2;l2;l2;l2;l2;l2;l2;l2;l2;l2;l2;l2;l2;l2;l2;l2;l2;l2;l2;l2;l2;l2;l2;l2;l2;l2;l2;l2;l2;l2;l2;l2;l2;l2;l2;l2;l2;l2;l2;l2;l2;l2;l2;l2;l2;l2;l2;l2;l2;l2;l2;l2;l2;l2;l2;l2;l2;l2;l2;l2;l2;l2;l2;l2;l2;l2;l2;l2;l2;l2;l2;l2;l2;l2;l2;l2;l2;l2;l2;l2;l2;l2;l2;l2;l2;l2;l2;l2;l2;l2;l2;l2;l2;l2;l2;l2;l2;l2;l2;l2;l2;l2;l2;l2;l2;l2;l2;l2;l2;l2;l2;l2;l2;l2;l2;l2\",\"fBuf\":[-1.44,0,1.44,1.033957,-1.44,0,1.44,1.033957,-1.44,0,1.44,0,-1,0.03101871,-1,0,-0.9,0.01550936,-0.9,0,-0.8,0.01550936,-0.8,0,-0.7,0.01550936,-0.7,0,-0.6,0.01550936,-0.6,0,-0.5,0.03101871,-0.5,0,-0.4,0.01550936,-0.4,0,-0.3,0.01550936,-0.3,0,-0.2,0.01550936,-0.2,0,-0.1,0.01550936,-0.1,0,0,0.03101871,0,0,0.1,0.01550936,0.1,0,0.2,0.01550936,0.2,0,0.3,0.01550936,0.3,0,0.4,0.01550936,0.4,0,0.5,0.03101871,0.5,0,0.6,0.01550936,0.6,0,0.7,0.01550936,0.7,0,0.8,0.01550936,0.8,0,0.9,0.01550936,0.9,0,1,0.03101871,1,0,-1,0.03101871,-1,0,-1.1,0.01550936,-1.1,0,-1.2,0.01550936,-1.2,0,-1.3,0.01550936,-1.3,0,-1.4,0.01550936,-1.4,0,1,0.03101871,1,0,1.1,0.01550936,1.1,0,1.2,0.01550936,1.2,0,1.3,0.01550936,1.3,0,1.4,0.01550936,1.4,0,-0.9987437,-0.04319453,-1.045854,-0.04319453,-0.5464824,-0.04319453,-0.5841709,-0.04319453,-0.02826633,-0.04319453,0.4334171,-0.04319453,0.9798995,-0.04319453,1.394472,-0.08085322,1.111809,-0.08085322,-1.44,0,-1.44,1.033957,-1.3536,0,-1.44,0,-1.3968,0.05,-1.44,0.05,-1.3968,0.1,-1.44,0.1,-1.3968,0.15,-1.44,0.15,-1.3536,0.2,-1.44,0.2,-1.3968,0.25,-1.44,0.25,-1.3968,0.3,-1.44,0.3,-1.3968,0.35,-1.44,0.35,-1.3536,0.4,-1.44,0.4,-1.3968,0.45,-1.44,0.45,-1.3968,0.5,-1.44,0.5,-1.3968,0.55,-1.44,0.55,-1.3536,0.6,-1.44,0.6,-1.3968,0.65,-1.44,0.65,-1.3968,0.7,-1.44,0.7,-1.3968,0.75,-1.44,0.75,-1.3536,0.8,-1.44,0.8,-1.3968,0.85,-1.44,0.85,-1.3968,0.9,-1.44,0.9,-1.3968,0.95,-1.44,0.95,-1.3536,1,-1.44,1,-1.3536,1,-1.44,1,-1.507538,-0.01965785,-1.582915,0.1827576,-1.582915,0.3804658,-1.582915,0.5828813,-1.582915,0.7805895,-1.498116,0.9830049,-1.658291,0.8511995,-1.175,0,-1.125,0,-1.075,0.3116118,-1.025,0.909588,-0.975,0.9030538,-0.925,0.9132653,-0.875,0.9031362,-0.825,0.9075887,-0.775,0.9147603,-0.725,0.5410081,-0.675,0.8588886,-0.625,0.9280292,-0.575,0.9171597,-0.525,0.9276502,-0.475,0.9280491,-0.425,0.9358833,-0.375,0.925452,-0.325,0.854072,-0.275,0.2982798,-0.225,0.4764934,-0.175,0.9209062,-0.125,0.9292532,-0.075,0.9273128,-0.025,0.9268024,0.025,0.930618,0.075,0.9293296,0.125,0.9332595,0.175,0.9319183,0.225,0.4909023,0.275,0.2810761,0.325,0.8626373,0.375,0.9209863,0.425,0.9243412,0.475,0.9250074,0.525,0.9266935,0.575,0.918043,0.625,0.9265503,0.675,0.8686636,0.725,0.5475617,0.775,0.9183859,0.825,0.9130945,0.875,0.9152277,0.925,0.9205645,0.975,0.9018942,1.025,0.9165141,1.075,0.3173592,1.125,0,1.175,0,-1.175,0,-1.2,0,-1.175,0,-1.15,0,-1.2,0,-1.2,0.009414674,-1.15,0,-1.15,0.009414674,-1.175,0,-1.175,6.397055e-4,-1.193844,6.397055e-4,-1.156156,6.397055e-4,-1.125,0,-1.15,0,-1.125,0,-1.1,0,-1.15,0,-1.15,0.009414674,-1.1,0,-1.1,0.009414674,-1.125,0,-1.125,6.352906e-4,-1.143844,6.352906e-4,-1.106156,6.352906e-4,-1.075,0.3116118,-1.1,0.3116118,-1.075,0.3116118,-1.05,0.3116118,-1.1,0.3021971,-1.1,0.3210264,-1.05,0.3021971,-1.05,0.3210264,-1.075,0.3116118,-1.075,0.3204732,-1.075,0.3116118,-1.075,0.3028836,-1.093844,0.3204732,-1.056156,0.3204732,-1.093844,0.3028836,-1.056156,0.3028836,-1.025,0.909588,-1.05,0.909588,-1.025,0.909588,-1,0.909588,-1.05,0.9001734,-1.05,0.9190027,-1,0.9001734,-1,0.9190027,-1.025,0.909588,-1.025,0.9150918,-1.025,0.909588,-1.025,0.9037758,-1.043844,0.9150918,-1.006156,0.9150918,-1.043844,0.9037758,-1.006156,0.9037758,-0.975,0.9030538,-1,0.9030538,-0.975,0.9030538,-0.95,0.9030538,-1,0.8936391,-1,0.9124685,-0.95,0.8936391,-0.95,0.9124685,-0.975,0.9030538,-0.975,0.9096082,-0.975,0.9030538,-0.975,0.8960942,-0.9938442,0.9096082,-0.9561558,0.9096082,-0.9938442,0.8960942,-0.9561558,0.8960942,-0.925,0.9132653,-0.95,0.9132653,-0.925,0.9132653,-0.9,0.9132653,-0.95,0.9038506,-0.95,0.92268,-0.9,0.9038506,-0.9,0.92268,-0.925,0.9132653,-0.925,0.9188697,-0.925,0.9132653,-0.925,0.9073251,-0.9438442,0.9188697,-0.9061558,0.9188697,-0.9438442,0.9073251,-0.9061558,0.9073251,-0.875,0.9031362,-0.9,0.9031362,-0.875,0.9031362,-0.85,0.9031362,-0.9,0.8937215,-0.9,0.9125509,-0.85,0.8937215,-0.85,0.9125509,-0.875,0.9031362,-0.875,0.9090626,-0.875,0.9031362,-0.875,0.896879,-0.8938442,0.9090626,-0.8561558,0.9090626,-0.8938442,0.896879,-0.8561558,0.896879,-0.825,0.9075887,-0.85,0.9075887,-0.825,0.9075887,-0.8,0.9075887,-0.85,0.898174,-0.85,0.9170034,-0.8,0.898174,-0.8,0.9170034,-0.825,0.9075887,-0.825,0.9147996,-0.825,0.9075887,-0.825,0.8998578,-0.8438442,0.9147996,-0.8061558,0.9147996,-0.8438442,0.8998578,-0.8061558,0.8998578,-0.775,0.9147603,-0.8,0.9147603,-0.775,0.9147603,-0.75,0.9147603,-0.8,0.9053456,-0.8,0.924175,-0.75,0.9053456,-0.75,0.924175,-0.775,0.9147603,-0.775,0.9197264,-0.775,0.9147603,-0.775,0.9095259,-0.7938442,0.9197264,-0.7561558,0.9197264,-0.7938442,0.9095259,-0.7561558,0.9095259,-0.725,0.5410081,-0.75,0.5410081,-0.725,0.5410081,-0.7,0.5410081,-0.75,0.5315934,-0.75,0.5504227,-0.7,0.5315934,-0.7,0.5504227,-0.725,0.5410081,-0.725,0.5497491,-0.725,0.5410081,-0.725,0.5322421,-0.7438442,0.5497491,-0.7061558,0.5497491,-0.7438442,0.5322421,-0.7061558,0.5322421,-0.675,0.8588886,-0.7,0.8588886,-0.675,0.8588886,-0.65,0.8588886,-0.7,0.8494739,-0.7,0.8683032,-0.65,0.8494739,-0.65,0.8683032,-0.675,0.8588886,-0.675,0.8648651,-0.675,0.8588886,-0.675,0.8526981,-0.6938442,0.8648651,-0.6561558,0.8648651,-0.6938442,0.8526981,-0.6561558,0.8526981,-0.625,0.9280292,-0.65,0.9280292,-0.625,0.9280292,-0.6,0.9280292,-0.65,0.9186145,-0.65,0.9374439,-0.6,0.9186145,-0.6,0.9374439,-0.625,0.9280292,-0.625,0.9325508,-0.625,0.9280292,-0.625,0.9232388,-0.6438442,0.9325508,-0.6061558,0.9325508,-0.6438442,0.9232388,-0.6061558,0.9232388,-0.575,0.9171597,-0.6,0.9171597,-0.575,0.9171597,-0.55,0.9171597,-0.6,0.9077451,-0.6,0.9265744,-0.55,0.9077451,-0.55,0.9265744,-0.575,0.9171597,-0.575,0.9219219,-0.575,0.9171597,-0.575,0.9121431,-0.5938442,0.9219219,-0.5561558,0.9219219,-0.5938442,0.9121431,-0.5561558,0.9121431,-0.525,0.9276502,-0.55,0.9276502,-0.525,0.9276502,-0.5,0.9276502,-0.55,0.9182355,-0.55,0.9370649,-0.5,0.9182355,-0.5,0.9370649,-0.525,0.9276502,-0.525,0.9322637,-0.525,0.9276502,-0.525,0.9227585,-0.5438442,0.9322637,-0.5061558,0.9322637,-0.5438442,0.9227585,-0.5061558,0.9227585,-0.475,0.9280491,-0.5,0.9280491,-0.475,0.9280491,-0.45,0.9280491,-0.5,0.9186345,-0.5,0.9374638,-0.45,0.9186345,-0.45,0.9374638,-0.475,0.9280491,-0.475,0.9324859,-0.475,0.9280491,-0.475,0.9233538,-0.4938442,0.9324859,-0.4561558,0.9324859,-0.4938442,0.9233538,-0.4561558,0.9233538,-0.425,0.9358833,-0.45,0.9358833,-0.425,0.9358833,-0.4,0.9358833,-0.45,0.9264687,-0.45,0.945298,-0.4,0.9264687,-0.4,0.945298,-0.425,0.9358833,-0.425,0.939961,-0.425,0.9358833,-0.425,0.9315577,-0.4438442,0.939961,-0.4061558,0.939961,-0.4438442,0.9315577,-0.4061558,0.9315577,-0.375,0.925452,-0.4,0.925452,-0.375,0.925452,-0.35,0.925452,-0.4,0.9160373,-0.4,0.9348667,-0.35,0.9160373,-0.35,0.9348667,-0.375,0.925452,-0.375,0.9298502,-0.375,0.925452,-0.375,0.9208097,-0.3938442,0.9298502,-0.3561558,0.9298502,-0.3938442,0.9208097,-0.3561558,0.9208097,-0.325,0.854072,-0.35,0.854072,-0.325,0.854072,-0.3,0.854072,-0.35,0.8446574,-0.35,0.8634867,-0.3,0.8446574,-0.3,0.8634867,-0.325,0.854072,-0.325,0.860256,-0.325,0.854072,-0.325,0.8476685,-0.3438442,0.860256,-0.3061558,0.860256,-0.3438442,0.8476685,-0.3061558,0.8476685,-0.275,0.2982798,-0.3,0.2982798,-0.275,0.2982798,-0.25,0.2982798,-0.3,0.2888651,-0.3,0.3076945,-0.25,0.2888651,-0.25,0.3076945,-0.275,0.2982798,-0.275,0.3067499,-0.275,0.2982798,-0.275,0.2899432,-0.2938442,0.3067499,-0.2561558,0.3067499,-0.2938442,0.2899432,-0.2561558,0.2899432,-0.225,0.4764934,-0.25,0.4764934,-0.225,0.4764934,-0.2,0.4764934,-0.25,0.4670788,-0.25,0.4859081,-0.2,0.4670788,-0.2,0.4859081,-0.225,0.4764934,-0.225,0.4860671,-0.225,0.4764934,-0.225,0.4669367,-0.2438442,0.4860671,-0.2061558,0.4860671,-0.2438442,0.4669367,-0.2061558,0.4669367,-0.175,0.9209062,-0.2,0.9209062,-0.175,0.9209062,-0.15,0.9209062,-0.2,0.9114915,-0.2,0.9303209,-0.15,0.9114915,-0.15,0.9303209,-0.175,0.9209062,-0.175,0.9263126,-0.175,0.9209062,-0.175,0.915153,-0.1938442,0.9263126,-0.1561558,0.9263126,-0.1938442,0.915153,-0.1561558,0.915153,-0.125,0.9292532,-0.15,0.9292532,-0.125,0.9292532,-0.1,0.9292532,-0.15,0.9198385,-0.15,0.9386679,-0.1,0.9198385,-0.1,0.9386679,-0.125,0.9292532,-0.125,0.9335657,-0.125,0.9292532,-0.125,0.9246919,-0.1438442,0.9335657,-0.1061558,0.9335657,-0.1438442,0.9246919,-0.1061558,0.9246919,-0.075,0.9273128,-0.1,0.9273128,-0.075,0.9273128,-0.05,0.9273128,-0.1,0.9178981,-0.1,0.9367275,-0.05,0.9178981,-0.05,0.9367275,-0.075,0.9273128,-0.075,0.9316374,-0.075,0.9273128,-0.075,0.9227453,-0.09384422,0.9316374,-0.05615578,0.9316374,-0.09384422,0.9227453,-0.05615578,0.9227453,-0.025,0.9268024,-0.05,0.9268024,-0.025,0.9268024,-4.857226e-17,0.9268024,-0.05,0.9173877,-0.05,0.9362171,-4.857226e-17,0.9173877,-4.857226e-17,0.9362171,-0.025,0.9268024,-0.025,0.9311399,-0.025,0.9268024,-0.025,0.9222226,-0.04384422,0.9311399,-0.006155779,0.9311399,-0.04384422,0.9222226,-0.006155779,0.9222226,0.025,0.930618,0,0.930618,0.025,0.930618,0.05,0.930618,0,0.9212033,0,0.9400327,0.05,0.9212033,0.05,0.9400327,0.025,0.930618,0.025,0.9348928,0.025,0.930618,0.025,0.9260933,0.006155779,0.9348928,0.04384422,0.9348928,0.006155779,0.9260933,0.04384422,0.9260933,0.075,0.9293296,0.05,0.9293296,0.075,0.9293296,0.1,0.9293296,0.05,0.919915,0.05,0.9387443,0.1,0.919915,0.1,0.9387443,0.075,0.9293296,0.075,0.9336291,0.075,0.9293296,0.075,0.9247825,0.05615578,0.9336291,0.09384422,0.9336291,0.05615578,0.9247825,0.09384422,0.9247825,0.125,0.9332595,0.1,0.9332595,0.125,0.9332595,0.15,0.9332595,0.1,0.9238448,0.1,0.9426742,0.15,0.9238448,0.15,0.9426742,0.125,0.9332595,0.125,0.9374277,0.125,0.9332595,0.125,0.9288433,0.1061558,0.9374277,0.1438442,0.9374277,0.1061558,0.9288433,0.1438442,0.9288433,0.175,0.9319183,0.15,0.9319183,0.175,0.9319183,0.2,0.9319183,0.15,0.9225037,0.15,0.941333,0.2,0.9225037,0.2,0.941333,0.175,0.9319183,0.175,0.9369804,0.175,0.9319183,0.175,0.9264966,0.1561558,0.9369804,0.1938442,0.9369804,0.1561558,0.9264966,0.1938442,0.9264966,0.225,0.4909023,0.2,0.4909023,0.225,0.4909023,0.25,0.4909023,0.2,0.4814877,0.2,0.500317,0.25,0.4814877,0.25,0.500317,0.225,0.4909023,0.225,0.500723,0.225,0.4909023,0.225,0.4810886,0.2061558,0.500723,0.2438442,0.500723,0.2061558,0.4810886,0.2438442,0.4810886,0.275,0.2810761,0.25,0.2810761,0.275,0.2810761,0.3,0.2810761,0.25,0.2716614,0.25,0.2904907,0.3,0.2716614,0.3,0.2904907,0.275,0.2810761,0.275,0.2892033,0.275,0.2810761,0.275,0.2730869,0.2561558,0.2892033,0.2938442,0.2892033,0.2561558,0.2730869,0.2938442,0.2730869,0.325,0.8626373,0.3,0.8626373,0.325,0.8626373,0.35,0.8626373,0.3,0.8532227,0.3,0.872052,0.35,0.8532227,0.35,0.872052,0.325,0.8626373,0.325,0.8686904,0.325,0.8626373,0.325,0.8563573,0.3061558,0.8686904,0.3438442,0.8686904,0.3061558,0.8563573,0.3438442,0.8563573,0.375,0.9209863,0.35,0.9209863,0.375,0.9209863,0.4,0.9209863,0.35,0.9115716,0.35,0.930401,0.4,0.9115716,0.4,0.930401,0.375,0.9209863,0.375,0.9255206,0.375,0.9209863,0.375,0.9162087,0.3561558,0.9255206,0.3938442,0.9255206,0.3561558,0.9162087,0.3938442,0.9162087,0.425,0.9243412,0.4,0.9243412,0.425,0.9243412,0.45,0.9243412,0.4,0.9149265,0.4,0.9337559,0.45,0.9149265,0.45,0.9337559,0.425,0.9243412,0.425,0.9288108,0.425,0.9243412,0.425,0.9196234,0.4061558,0.9288108,0.4438442,0.9288108,0.4061558,0.9196234,0.4438442,0.9196234,0.475,0.9250074,0.45,0.9250074,0.475,0.9250074,0.5,0.9250074,0.45,0.9155927,0.45,0.9344221,0.5,0.9155927,0.5,0.9344221,0.475,0.9250074,0.475,0.9295515,0.475,0.9250074,0.475,0.9202042,0.4561558,0.9295515,0.4938442,0.9295515,0.4561558,0.9202042,0.4938442,0.9202042,0.525,0.9266935,0.5,0.9266935,0.525,0.9266935,0.55,0.9266935,0.5,0.9172788,0.5,0.9361082,0.55,0.9172788,0.55,0.9361082,0.525,0.9266935,0.525,0.9312961,0.525,0.9266935,0.525,0.921818,0.5061558,0.9312961,0.5438442,0.9312961,0.5061558,0.921818,0.5438442,0.921818,0.575,0.918043,0.55,0.918043,0.575,0.918043,0.6,0.918043,0.55,0.9086283,0.55,0.9274577,0.6,0.9086283,0.6,0.9274577,0.575,0.918043,0.575,0.9229069,0.575,0.918043,0.575,0.9129102,0.5561558,0.9229069,0.5938442,0.9229069,0.5561558,0.9129102,0.5938442,0.9129102,0.625,0.9265503,0.6,0.9265503,0.625,0.9265503,0.65,0.9265503,0.6,0.9171356,0.6,0.9359649,0.65,0.9171356,0.65,0.9359649,0.625,0.9265503,0.625,0.9310948,0.625,0.9265503,0.625,0.9217405,0.6061558,0.9310948,0.6438442,0.9310948,0.6061558,0.9217405,0.6438442,0.9217405,0.675,0.8686636,0.65,0.8686636,0.675,0.8686636,0.7,0.8686636,0.65,0.8592489,0.65,0.8780783,0.7,0.8592489,0.7,0.8780783,0.675,0.8686636,0.675,0.8744308,0.675,0.8686636,0.675,0.8626786,0.6561558,0.8744308,0.6938442,0.8744308,0.6561558,0.8626786,0.6938442,0.8626786,0.725,0.5475617,0.7,0.5475617,0.725,0.5475617,0.75,0.5475617,0.7,0.538147,0.7,0.5569764,0.75,0.538147,0.75,0.5569764,0.725,0.5475617,0.725,0.556332,0.725,0.5475617,0.725,0.5387623,0.7061558,0.556332,0.7438442,0.556332,0.7061558,0.5387623,0.7438442,0.5387623,0.775,0.9183859,0.75,0.9183859,0.775,0.9183859,0.8,0.9183859,0.75,0.9089713,0.75,0.9278006,0.8,0.9089713,0.8,0.9278006,0.775,0.9183859,0.775,0.9231758,0.775,0.9183859,0.775,0.9133342,0.7561558,0.9231758,0.7938442,0.9231758,0.7561558,0.9133342,0.7938442,0.9133342,0.825,0.9130945,0.8,0.9130945,0.825,0.9130945,0.85,0.9130945,0.8,0.9036798,0.8,0.9225092,0.85,0.9036798,0.85,0.9225092,0.825,0.9130945,0.825,0.919962,0.825,0.9130945,0.825,0.9057212,0.8061558,0.919962,0.8438442,0.919962,0.8061558,0.9057212,0.8438442,0.9057212,0.875,0.9152277,0.85,0.9152277,0.875,0.9152277,0.9,0.9152277,0.85,0.905813,0.85,0.9246423,0.9,0.905813,0.9,0.9246423,0.875,0.9152277,0.875,0.9207737,0.875,0.9152277,0.875,0.9093441,0.8561558,0.9207737,0.8938442,0.9207737,0.8561558,0.9093441,0.8938442,0.9093441,0.925,0.9205645,0.9,0.9205645,0.925,0.9205645,0.95,0.9205645,0.9,0.9111499,0.9,0.9299792,0.95,0.9111499,0.95,0.9299792,0.925,0.9205645,0.925,0.926021,0.925,0.9205645,0.925,0.9147564,0.9061558,0.926021,0.9438442,0.926021,0.9061558,0.9147564,0.9438442,0.9147564,0.975,0.9018942,0.95,0.9018942,0.975,0.9018942,1,0.9018942,0.95,0.8924794,0.95,0.9113088,1,0.8924794,1,0.9113088,0.975,0.9018942,0.975,0.9084902,0.975,0.9018942,0.975,0.8948933,0.9561558,0.9084902,0.9938442,0.9084902,0.9561558,0.8948933,0.9938442,0.8948933,1.025,0.9165141,1,0.9165141,1.025,0.9165141,1.05,0.9165141,1,0.9070994,1,0.9259288,1.05,0.9070994,1.05,0.9259288,1.025,0.9165141,1.025,0.921833,1.025,0.9165141,1.025,0.9108797,1.006156,0.921833,1.043844,0.921833,1.006156,0.9108797,1.043844,0.9108797,1.075,0.3173592,1.05,0.3173592,1.075,0.3173592,1.1,0.3173592,1.05,0.3079446,1.05,0.3267739,1.1,0.3079446,1.1,0.3267739,1.075,0.3173592,1.075,0.3261085,1.075,0.3173592,1.075,0.3087348,1.056156,0.3261085,1.093844,0.3261085,1.056156,0.3087348,1.093844,0.3087348,1.125,0,1.1,0,1.125,0,1.15,0,1.1,0,1.1,0.009414674,1.15,0,1.15,0.009414674,1.125,0,1.125,6.207252e-4,1.106156,6.207252e-4,1.143844,6.207252e-4,1.175,0,1.15,0,1.175,0,1.2,0,1.15,0,1.15,0.009414674,1.2,0,1.2,0.009414674,1.175,0,1.175,6.240919e-4,1.156156,6.240919e-4,1.193844,6.240919e-4]}},{\"_typename\":\"TWebSnapshot\",\"fUniqueID\":0,\"fBits\":0,\"fObjectID\":\"\",\"fOption\":\"blNDC\",\"fKind\":1,\"fSnapshot\":{\"_typename\":\"TPaveText\",\"fUniqueID\":0,\"fBits\":9,\"fLineColor\":1,\"fLineStyle\":1,\"fLineWidth\":1,\"fFillColor\":0,\"fFillStyle\":0,\"fX1\":-1.24674122348045,\"fY1\":1.0720075013005,\"fX2\":1.24674122348045,\"fY2\":1.15673956713843,\"fX1NDC\":0.153682998638178,\"fY1NDC\":0.929440564269988,\"fX2NDC\":0.846317001361822,\"fY2NDC\":0.995000004768372,\"fBorderSize\":0,\"fInit\":1,\"fShadowColor\":1,\"fCornerRadius\":0,\"fOption\":\"blNDC\",\"fName\":\"title\",\"fTextAngle\":0,\"fTextSize\":0,\"fTextAlign\":22,\"fTextColor\":1,\"fTextFont\":42,\"fLabel\":\"\",\"fLongest\":39,\"fMargin\":0.05,\"fLines\":{\"_typename\":\"TList\",\"name\":\"TList\",\"arr\":[{\"_typename\":\"TLatex\",\"fUniqueID\":0,\"fBits\":0,\"fName\":\"\",\"fTitle\":\"segment efficiency x acceptance vs #eta\",\"fTextAngle\":0,\"fTextSize\":0,\"fTextAlign\":0,\"fTextColor\":0,\"fTextFont\":0,\"fX\":0,\"fY\":0,\"fLineColor\":1,\"fLineStyle\":1,\"fLineWidth\":2,\"fLimitFactorSize\":3,\"fOriginSize\":0.0557255260646343}],\"opt\":[\"\"]}}}]},{\"_typename\":\"TPadWebSnapshot\",\"fUniqueID\":0,\"fBits\":0,\"fObjectID\":\"\",\"fOption\":\"\",\"fKind\":3,\"fSnapshot\":{\"_typename\":\"TPad\",\"fUniqueID\":0,\"fBits\":9,\"fLineColor\":1,\"fLineStyle\":1,\"fLineWidth\":1,\"fFillColor\":0,\"fFillStyle\":1001,\"fLeftMargin\":0.1,\"fRightMargin\":0.1,\"fBottomMargin\":0.1,\"fTopMargin\":0.1,\"fXfile\":2,\"fYfile\":2,\"fAfile\":1,\"fXstat\":0.99,\"fYstat\":0.99,\"fAstat\":2,\"fFrameFillColor\":0,\"fFrameLineColor\":1,\"fFrameFillStyle\":1001,\"fFrameLineStyle\":1,\"fFrameLineWidth\":1,\"fFrameBorderSize\":1,\"fFrameBorderMode\":0,\"fX1\":-1.80000002682209,\"fY1\":-0.128266087023737,\"fX2\":1.80000002682209,\"fY2\":1.15439470676109,\"fXtoAbsPixelk\":199,\"fXtoPixelk\":191.04000017792,\"fXtoPixel\":106.133331850668,\"fYtoAbsPixelk\":538.823998465776,\"fYtoPixelk\":247.103998593628,\"fYtoPixel\":-214.055034336509,\"fUtoAbsPixelk\":7.95999982208014,\"fUtoPixelk\":0,\"fUtoPixel\":382.08000035584,\"fVtoAbsPixelk\":566.280000127852,\"fVtoPixelk\":274.560000255704,\"fVtoPixel\":-274.560000255704,\"fAbsPixeltoXk\":-1.87500002619345,\"fPixeltoXk\":-1.80000002682209,\"fPixeltoX\":0.00942211068438919,\"fAbsPixeltoYk\":2.51722179829095,\"fPixeltoYk\":-0.128266087023737,\"fPixeltoY\":-0.00467169577720809,\"fXlowNDC\":0.00999999977648258,\"fYlowNDC\":0.00999999977648258,\"fXUpNDC\":0.490000000223517,\"fYUpNDC\":0.490000000223517,\"fWNDC\":0.480000000447035,\"fHNDC\":0.480000000447035,\"fAbsXlowNDC\":0.00999999977648258,\"fAbsYlowNDC\":0.00999999977648258,\"fAbsWNDC\":0.480000000447035,\"fAbsHNDC\":0.480000000447035,\"fUxmin\":-1.44,\"fUymin\":0,\"fUxmax\":1.44,\"fUymax\":1.02612861973735,\"fTheta\":30,\"fPhi\":30,\"fAspectRatio\":0,\"fNumber\":3,\"fTickx\":0,\"fTicky\":0,\"fLogx\":0,\"fLogy\":0,\"fLogz\":0,\"fPadPaint\":0,\"fCrosshair\":0,\"fCrosshairPos\":0,\"fBorderSize\":2,\"fBorderMode\":0,\"fModified\":true,\"fGridx\":false,\"fGridy\":false,\"fAbsCoord\":false,\"fEditable\":true,\"fFixedAspectRatio\":false,\"fPrimitives\":{\"_typename\":\"TList\",\"name\":\"TList\",\"arr\":[],\"opt\":[]},\"fExecs\":{\"_typename\":\"TList\",\"name\":\"TList\",\"arr\":[],\"opt\":[]},\"fName\":\"canvas4_3\",\"fTitle\":\"canvas4_3\",\"fNumPaletteColor\":0,\"fNextPaletteColor\":0},\"fActive\":false,\"fReadOnly\":true,\"fWithoutPrimitives\":false,\"fHasExecs\":true,\"fPrimitives\":[{\"_typename\":\"TWebSnapshot\",\"fUniqueID\":0,\"fBits\":0,\"fObjectID\":\"\",\"fOption\":\"\",\"fKind\":1,\"fSnapshot\":{\"_typename\":\"TFrame\",\"fUniqueID\":0,\"fBits\":8,\"fLineColor\":1,\"fLineStyle\":1,\"fLineWidth\":1,\"fFillColor\":0,\"fFillStyle\":1001,\"fX1\":-1.44,\"fY1\":0,\"fX2\":1.44,\"fY2\":1.02612861973735,\"fBorderSize\":1,\"fBorderMode\":0}},{\"_typename\":\"TWebSnapshot\",\"fUniqueID\":0,\"fBits\":0,\"fObjectID\":\"\",\"fOption\":\"ap\",\"fKind\":2,\"fSnapshot\":{\"_typename\":\"TWebPainting\",\"fUniqueID\":0,\"fBits\":0,\"fOper\":\"y0:1001;b;z1:1:1;r;l2;l2;l2;l2;l2;l2;l2;l2;l2;l2;l2;l2;l2;l2;l2;l2;l2;l2;l2;l2;l2;l2;l2;l2;l2;l2;l2;l2;l2;l2;l2;l2;o1:42:-35:11:0;t1;o1:122:-35:11:0;t-;o1:42:-35:11:0;t0.5;o1:122:-35:11:0;t-;o1:42:-35:11:0;t0;o1:42:-35:11:0;t0.5;o1:42:-35:11:0;t1;o1:122:-35:11:0;th;o1:42:-35:11:0;tmuon ;l2;l2;l2;l2;l2;l2;l2;l2;l2;l2;l2;l2;l2;l2;l2;l2;l2;l2;l2;l2;l2;l2;l2;o1:42:-35:11:0;t0;o1:42:-35:11:0;t0.2;o1:42:-35:11:0;t0.4;o1:42:-35:11:0;t0.6;o1:42:-35:11:0;t0.8;o1:42:-35:11:0;t1;o1:42:-35:11:90;tEfficiency;x1:1:1;m48;l2;l2;l2;l2;l2;l2;l2;l2;l2;l2;l2;l2;l2;l2;l2;l2;l2;l2;l2;l2;l2;l2;l2;l2;l2;l2;l2;l2;l2;l2;l2;l2;l2;l2;l2;l2;l2;l2;l2;l2;l2;l2;l2;l2;l2;l2;l2;l2;l2;l2;l2;l2;l2;l2;l2;l2;l2;l2;l2;l2;l2;l2;l2;l2;l2;l2;l2;l2;l2;l2;l2;l2;l2;l2;l2;l2;l2;l2;l2;l2;l2;l2;l2;l2;l2;l2;l2;l2;l2;l2;l2;l2;l2;l2;l2;l2;l2;l2;l2;l2;l2;l2;l2;l2;l2;l2;l2;l2;l2;l2;l2;l2;l2;l2;l2;l2;l2;l2;l2;l2;l2;l2;l2;l2;l2;l2;l2;l2;l2;l2;l2;l2;l2;l2;l2;l2;l2;l2;l2;l2;l2;l2;l2;l2;l2;l2;l2;l2;l2;l2;l2;l2;l2;l2;l2;l2;l2;l2;l2;l2;l2;l2;l2;l2;l2;l2;l2;l2;l2;l2;l2;l2;l2;l2;l2;l2;l2;l2;l2;l2;l2;l2;l2;l2;l2;l2;l2;l2;l2;l2;l2;l2;l2;l2;l2;l2;l2;l2;l2;l2;l2;l2;l2;l2;l2;l2;l2;l2;l2;l2;l2;l2;l2;l2;l2;l2;l2;l2;l2;l2;l2;l2;l2;l2;l2;l2;l2;l2;l2;l2;l2;l2;l2;l2;l2;l2;l2;l2;l2;l2;l2;l2;l2;l2;l2;l2;l2;l2;l2;l2;l2;l2;l2;l2;l2;l2;l2;l2;l2;l2;l2;l2;l2;l2;l2;l2;l2;l2;l2;l2;l2;l2;l2;l2;l2;l2;l2;l2;l2;l2;l2;l2;l2;l2;l2;l2;l2;l2;l2;l2;l2;l2;l2;l2;l2;l2;l2;l2;l2;l2;l2;l2;l2;l2;l2;l2;l2;l2;l2;l2;l2;l2;l2;l2;l2;l2;l2;l2;l2;l2;l2;l2;l2;l2;l2;l2;l2;l2;l2;l2;l2;l2;l2;l2;l2;l2;l2;l2;l2;l2;l2;l2;l2;l2;l2;l2;l2;l2;l2;l2;l2;l2;l2;l2;l2;l2;l2;l2;l2;l2;l2;l2;l2;l2\",\"fBuf\":[-1.44,0,1.44,1.026129,-1.44,0,1.44,1.026129,-1.44,0,1.44,0,-1,0.03078386,-1,0,-0.9,0.01539193,-0.9,0,-0.8,0.01539193,-0.8,0,-0.7,0.01539193,-0.7,0,-0.6,0.01539193,-0.6,0,-0.5,0.03078386,-0.5,0,-0.4,0.01539193,-0.4,0,-0.3,0.01539193,-0.3,0,-0.2,0.01539193,-0.2,0,-0.1,0.01539193,-0.1,0,0,0.03078386,0,0,0.1,0.01539193,0.1,0,0.2,0.01539193,0.2,0,0.3,0.01539193,0.3,0,0.4,0.01539193,0.4,0,0.5,0.03078386,0.5,0,0.6,0.01539193,0.6,0,0.7,0.01539193,0.7,0,0.8,0.01539193,0.8,0,0.9,0.01539193,0.9,0,1,0.03078386,1,0,-1,0.03078386,-1,0,-1.1,0.01539193,-1.1,0,-1.2,0.01539193,-1.2,0,-1.3,0.01539193,-1.3,0,-1.4,0.01539193,-1.4,0,1,0.03078386,1,0,1.1,0.01539193,1.1,0,1.2,0.01539193,1.2,0,1.3,0.01539193,1.3,0,1.4,0.01539193,1.4,0,-0.9987437,-0.04286749,-1.045854,-0.04286749,-0.5464824,-0.04286749,-0.5841709,-0.04286749,-0.02826633,-0.04286749,0.4334171,-0.04286749,0.9798995,-0.04286749,1.394472,-0.08024105,1.111809,-0.08024105,-1.44,0,-1.44,1.026129,-1.3536,0,-1.44,0,-1.3968,0.05,-1.44,0.05,-1.3968,0.1,-1.44,0.1,-1.3968,0.15,-1.44,0.15,-1.3536,0.2,-1.44,0.2,-1.3968,0.25,-1.44,0.25,-1.3968,0.3,-1.44,0.3,-1.3968,0.35,-1.44,0.35,-1.3536,0.4,-1.44,0.4,-1.3968,0.45,-1.44,0.45,-1.3968,0.5,-1.44,0.5,-1.3968,0.55,-1.44,0.55,-1.3536,0.6,-1.44,0.6,-1.3968,0.65,-1.44,0.65,-1.3968,0.7,-1.44,0.7,-1.3968,0.75,-1.44,0.75,-1.3536,0.8,-1.44,0.8,-1.3968,0.85,-1.44,0.85,-1.3968,0.9,-1.44,0.9,-1.3968,0.95,-1.44,0.95,-1.3536,1,-1.44,1,-1.3536,1,-1.44,1,-1.507538,-0.01950901,-1.582915,0.1813739,-1.582915,0.3822568,-1.582915,0.5831397,-1.582915,0.779351,-1.498116,0.9802339,-1.658291,0.8447547,-1.175,0,-1.125,0,-1.075,0,-1.025,0,-0.975,0,-0.925,0.3945214,-0.875,0.9152951,-0.825,0.8869721,-0.775,0.9282581,-0.725,0.9237023,-0.675,0.917132,-0.625,0.6363108,-0.575,0.7452722,-0.525,0.8947693,-0.475,0.904209,-0.425,0.9035783,-0.375,0.8986992,-0.325,0.8912134,-0.275,0.8681462,-0.225,0.2353124,-0.175,0.7072937,-0.125,0.908581,-0.075,0.8996435,-0.025,0.893337,0.025,0.9092183,0.075,0.8983898,0.125,0.9176795,0.175,0.7149278,0.225,0.2318702,0.275,0.8850085,0.325,0.912545,0.375,0.9206974,0.425,0.9200565,0.475,0.9179941,0.525,0.9112135,0.575,0.7630704,0.625,0.6293079,0.675,0.9116279,0.725,0.9213697,0.775,0.9201949,0.825,0.9058139,0.875,0.9042801,0.925,0.4106969,0.975,0,1.025,0,1.075,0,1.125,0,1.175,0,-1.175,0,-1.2,0,-1.175,0,-1.15,0,-1.2,0,-1.2,0.009343391,-1.15,0,-1.15,0.009343391,-1.175,0,-1.175,6.397055e-4,-1.193844,6.397055e-4,-1.156156,6.397055e-4,-1.125,0,-1.15,0,-1.125,0,-1.1,0,-1.15,0,-1.15,0.009343391,-1.1,0,-1.1,0.009343391,-1.125,0,-1.125,6.352906e-4,-1.143844,6.352906e-4,-1.106156,6.352906e-4,-1.075,0,-1.1,0,-1.075,0,-1.05,0,-1.1,0,-1.1,0.009343391,-1.05,0,-1.05,0.009343391,-1.075,0,-1.075,6.359489e-4,-1.093844,6.359489e-4,-1.056156,6.359489e-4,-1.025,0,-1.05,0,-1.025,0,-1,0,-1.05,0,-1.05,0.009343391,-1,0,-1,0.009343391,-1.025,0,-1.025,5.908436e-4,-1.043844,5.908436e-4,-1.006156,5.908436e-4,-0.975,0,-1,0,-0.975,0,-0.95,0,-1,0,-1,0.009343391,-0.95,0,-0.95,0.009343391,-0.975,0,-0.975,6.012637e-4,-0.9938442,6.012637e-4,-0.9561558,6.012637e-4,-0.925,0.3945214,-0.95,0.3945214,-0.925,0.3945214,-0.9,0.3945214,-0.95,0.385178,-0.95,0.4038648,-0.9,0.385178,-0.9,0.4038648,-0.925,0.3945214,-0.925,0.4033838,-0.925,0.3945214,-0.925,0.3857267,-0.9438442,0.4033838,-0.9061558,0.4033838,-0.9438442,0.3857267,-0.9061558,0.3857267,-0.875,0.9152951,-0.9,0.9152951,-0.875,0.9152951,-0.85,0.9152951,-0.9,0.9059517,-0.9,0.9246385,-0.85,0.9059517,-0.85,0.9246385,-0.875,0.9152951,-0.875,0.9209024,-0.875,0.9152951,-0.875,0.9093423,-0.8938442,0.9209024,-0.8561558,0.9209024,-0.8938442,0.9093423,-0.8561558,0.9093423,-0.825,0.8869721,-0.85,0.8869721,-0.825,0.8869721,-0.8,0.8869721,-0.85,0.8776286,-0.85,0.8963155,-0.8,0.8776286,-0.8,0.8963155,-0.825,0.8869721,-0.825,0.8947529,-0.825,0.8869721,-0.825,0.8787132,-0.8438442,0.8947529,-0.8061558,0.8947529,-0.8438442,0.8787132,-0.8061558,0.8787132,-0.775,0.9282581,-0.8,0.9282581,-0.775,0.9282581,-0.75,0.9282581,-0.8,0.9189147,-0.8,0.9376016,-0.75,0.9189147,-0.75,0.9376016,-0.775,0.9282581,-0.775,0.9328442,-0.775,0.9282581,-0.775,0.9233946,-0.7938442,0.9328442,-0.7561558,0.9328442,-0.7938442,0.9233946,-0.7561558,0.9233946,-0.725,0.9237023,-0.75,0.9237023,-0.725,0.9237023,-0.7,0.9237023,-0.75,0.9143589,-0.75,0.9330457,-0.7,0.9143589,-0.7,0.9330457,-0.725,0.9237023,-0.725,0.9284167,-0.725,0.9237023,-0.725,0.9187142,-0.7438442,0.9284167,-0.7061558,0.9284167,-0.7438442,0.9187142,-0.7061558,0.9187142,-0.675,0.917132,-0.7,0.917132,-0.675,0.917132,-0.65,0.917132,-0.7,0.9077886,-0.7,0.9264753,-0.65,0.9077886,-0.65,0.9264753,-0.675,0.917132,-0.675,0.9218786,-0.675,0.917132,-0.675,0.9121325,-0.6938442,0.9218786,-0.6561558,0.9218786,-0.6938442,0.9121325,-0.6561558,0.9121325,-0.625,0.6363108,-0.65,0.6363108,-0.625,0.6363108,-0.6,0.6363108,-0.65,0.6269674,-0.65,0.6456541,-0.6,0.6269674,-0.6,0.6456541,-0.625,0.6363108,-0.625,0.6446203,-0.625,0.6363108,-0.625,0.6279205,-0.6438442,0.6446203,-0.6061558,0.6446203,-0.6438442,0.6279205,-0.6061558,0.6279205,-0.575,0.7452722,-0.6,0.7452722,-0.575,0.7452722,-0.55,0.7452722,-0.6,0.7359288,-0.6,0.7546156,-0.55,0.7359288,-0.55,0.7546156,-0.575,0.7452722,-0.575,0.7527183,-0.575,0.7452722,-0.575,0.7376828,-0.5938442,0.7527183,-0.5561558,0.7527183,-0.5938442,0.7376828,-0.5561558,0.7376828,-0.525,0.8947693,-0.55,0.8947693,-0.525,0.8947693,-0.5,0.8947693,-0.55,0.8854259,-0.55,0.9041126,-0.5,0.8854259,-0.5,0.9041126,-0.525,0.8947693,-0.525,0.9001807,-0.525,0.8947693,-0.525,0.8891079,-0.5438442,0.9001807,-0.5061558,0.9001807,-0.5438442,0.8891079,-0.5061558,0.8891079,-0.475,0.904209,-0.5,0.904209,-0.475,0.904209,-0.45,0.904209,-0.5,0.8948656,-0.5,0.9135524,-0.45,0.8948656,-0.45,0.9135524,-0.475,0.904209,-0.475,0.9092478,-0.475,0.904209,-0.475,0.8989288,-0.4938442,0.9092478,-0.4561558,0.9092478,-0.4938442,0.8989288,-0.4561558,0.8989288,-0.425,0.9035783,-0.45,0.9035783,-0.425,0.9035783,-0.4,0.9035783,-0.45,0.8942348,-0.45,0.9129217,-0.4,0.8942348,-0.4,0.9129217,-0.425,0.9035783,-0.425,0.90848,-0.425,0.9035783,-0.425,0.8984499,-0.4438442,0.90848,-0.4061558,0.90848,-0.4438442,0.8984499,-0.4061558,0.8984499,-0.375,0.8986992,-0.4,0.8986992,-0.375,0.8986992,-0.35,0.8986992,-0.4,0.8893558,-0.4,0.9080426,-0.35,0.8893558,-0.35,0.9080426,-0.375,0.8986992,-0.375,0.9037439,-0.375,0.8986992,-0.375,0.8934276,-0.3938442,0.9037439,-0.3561558,0.9037439,-0.3938442,0.8934276,-0.3561558,0.8934276,-0.325,0.8912134,-0.35,0.8912134,-0.325,0.8912134,-0.3,0.8912134,-0.35,0.88187,-0.35,0.9005568,-0.3,0.88187,-0.3,0.9005568,-0.325,0.8912134,-0.325,0.8968309,-0.325,0.8912134,-0.325,0.8853369,-0.3438442,0.8968309,-0.3061558,0.8968309,-0.3438442,0.8853369,-0.3061558,0.8853369,-0.275,0.8681462,-0.3,0.8681462,-0.275,0.8681462,-0.25,0.8681462,-0.3,0.8588028,-0.3,0.8774896,-0.25,0.8588028,-0.25,0.8774896,-0.275,0.8681462,-0.275,0.8752561,-0.275,0.8681462,-0.275,0.8607062,-0.2938442,0.8752561,-0.2561558,0.8752561,-0.2938442,0.8607062,-0.2561558,0.8607062,-0.225,0.2353124,-0.25,0.2353124,-0.225,0.2353124,-0.2,0.2353124,-0.25,0.225969,-0.25,0.2446558,-0.2,0.225969,-0.2,0.2446558,-0.225,0.2353124,-0.225,0.2430298,-0.225,0.2353124,-0.225,0.2277629,-0.2438442,0.2430298,-0.2061558,0.2430298,-0.2438442,0.2277629,-0.2061558,0.2277629,-0.175,0.7072937,-0.2,0.7072937,-0.175,0.7072937,-0.15,0.7072937,-0.2,0.6979503,-0.2,0.7166371,-0.15,0.6979503,-0.15,0.7166371,-0.175,0.7072937,-0.175,0.7155229,-0.175,0.7072937,-0.175,0.6989292,-0.1938442,0.7155229,-0.1561558,0.7155229,-0.1938442,0.6989292,-0.1561558,0.6989292,-0.125,0.908581,-0.15,0.908581,-0.125,0.908581,-0.1,0.908581,-0.15,0.8992376,-0.15,0.9179245,-0.1,0.8992376,-0.1,0.9179245,-0.125,0.908581,-0.125,0.9134298,-0.125,0.908581,-0.125,0.9034965,-0.1438442,0.9134298,-0.1061558,0.9134298,-0.1438442,0.9034965,-0.1061558,0.9034965,-0.075,0.8996435,-0.1,0.8996435,-0.075,0.8996435,-0.05,0.8996435,-0.1,0.8903002,-0.1,0.9089869,-0.05,0.8903002,-0.05,0.9089869,-0.075,0.8996435,-0.075,0.9046437,-0.075,0.8996435,-0.075,0.8944182,-0.09384422,0.9046437,-0.05615578,0.9046437,-0.09384422,0.8944182,-0.05615578,0.8944182,-0.025,0.893337,-0.05,0.893337,-0.025,0.893337,-4.857226e-17,0.893337,-0.05,0.8839936,-0.05,0.9026804,-4.857226e-17,0.8839936,-4.857226e-17,0.9026804,-0.025,0.893337,-0.025,0.8984749,-0.025,0.893337,-0.025,0.8879777,-0.04384422,0.8984749,-0.006155779,0.8984749,-0.04384422,0.8879777,-0.006155779,0.8879777,0.025,0.9092183,0,0.9092183,0.025,0.9092183,0.05,0.9092183,0,0.8998749,0,0.9185616,0.05,0.8998749,0.05,0.9185616,0.025,0.9092183,0.025,0.9140496,0.025,0.9092183,0.025,0.904151,0.006155779,0.9140496,0.04384422,0.9140496,0.006155779,0.904151,0.04384422,0.904151,0.075,0.8983898,0.05,0.8983898,0.075,0.8983898,0.1,0.8983898,0.05,0.8890464,0.05,0.9077332,0.1,0.8890464,0.1,0.9077332,0.075,0.8983898,0.075,0.9034492,0.075,0.8983898,0.075,0.8931031,0.05615578,0.9034492,0.09384422,0.9034492,0.05615578,0.8931031,0.09384422,0.8931031,0.125,0.9176795,0.1,0.9176795,0.125,0.9176795,0.15,0.9176795,0.1,0.9083362,0.1,0.9270229,0.15,0.9083362,0.15,0.9270229,0.125,0.9176795,0.125,0.9222673,0.125,0.9176795,0.125,0.9128541,0.1061558,0.9222673,0.1438442,0.9222673,0.1061558,0.9128541,0.1438442,0.9128541,0.175,0.7149278,0.15,0.7149278,0.175,0.7149278,0.2,0.7149278,0.15,0.7055844,0.15,0.7242712,0.2,0.7055844,0.2,0.7242712,0.175,0.7149278,0.175,0.7231055,0.175,0.7149278,0.175,0.7066094,0.1561558,0.7231055,0.1938442,0.7231055,0.1561558,0.7066094,0.1938442,0.7066094,0.225,0.2318702,0.2,0.2318702,0.225,0.2318702,0.25,0.2318702,0.2,0.2225268,0.2,0.2412136,0.25,0.2225268,0.25,0.2412136,0.225,0.2318702,0.225,0.239642,0.225,0.2318702,0.225,0.2242726,0.2061558,0.239642,0.2438442,0.239642,0.2061558,0.2242726,0.2438442,0.2242726,0.275,0.8850085,0.25,0.8850085,0.275,0.8850085,0.3,0.8850085,0.25,0.8756651,0.25,0.8943519,0.3,0.8756651,0.3,0.8943519,0.275,0.8850085,0.275,0.8916356,0.275,0.8850085,0.275,0.8780429,0.2561558,0.8916356,0.2938442,0.8916356,0.2561558,0.8780429,0.2938442,0.8780429,0.325,0.912545,0.3,0.912545,0.325,0.912545,0.35,0.912545,0.3,0.9032016,0.3,0.9218884,0.35,0.9032016,0.35,0.9218884,0.325,0.912545,0.325,0.9176825,0.325,0.912545,0.325,0.9071288,0.3061558,0.9176825,0.3438442,0.9176825,0.3061558,0.9071288,0.3438442,0.9071288,0.375,0.9206974,0.35,0.9206974,0.375,0.9206974,0.4,0.9206974,0.35,0.911354,0.35,0.9300408,0.4,0.911354,0.4,0.9300408,0.375,0.9206974,0.375,0.9252477,0.375,0.9206974,0.375,0.9159032,0.3561558,0.9252477,0.3938442,0.9252477,0.3561558,0.9159032,0.3938442,0.9159032,0.425,0.9200565,0.4,0.9200565,0.425,0.9200565,0.45,0.9200565,0.4,0.9107131,0.4,0.9293999,0.45,0.9107131,0.45,0.9293999,0.425,0.9200565,0.425,0.924634,0.425,0.9200565,0.425,0.9152343,0.4061558,0.924634,0.4438442,0.924634,0.4061558,0.9152343,0.4438442,0.9152343,0.475,0.9179941,0.45,0.9179941,0.475,0.9179941,0.5,0.9179941,0.45,0.9086507,0.45,0.9273375,0.5,0.9086507,0.5,0.9273375,0.475,0.9179941,0.475,0.9227272,0.475,0.9179941,0.475,0.9130067,0.4561558,0.9227272,0.4938442,0.9227272,0.4561558,0.9130067,0.4938442,0.9130067,0.525,0.9112135,0.5,0.9112135,0.525,0.9112135,0.55,0.9112135,0.5,0.9018701,0.5,0.9205569,0.55,0.9018701,0.55,0.9205569,0.525,0.9112135,0.525,0.9162227,0.525,0.9112135,0.525,0.9059439,0.5061558,0.9162227,0.5438442,0.9162227,0.5061558,0.9059439,0.5438442,0.9059439,0.575,0.7630704,0.55,0.7630704,0.575,0.7630704,0.6,0.7630704,0.55,0.753727,0.55,0.7724138,0.6,0.753727,0.6,0.7724138,0.575,0.7630704,0.575,0.7705312,0.575,0.7630704,0.575,0.7554474,0.5561558,0.7705312,0.5938442,0.7705312,0.5561558,0.7554474,0.5938442,0.7554474,0.625,0.6293079,0.6,0.6293079,0.625,0.6293079,0.65,0.6293079,0.6,0.6199645,0.6,0.6386513,0.65,0.6199645,0.65,0.6386513,0.625,0.6293079,0.625,0.6376328,0.625,0.6293079,0.625,0.6209067,0.6061558,0.6376328,0.6438442,0.6376328,0.6061558,0.6209067,0.6438442,0.6209067,0.675,0.9116279,0.65,0.9116279,0.675,0.9116279,0.7,0.9116279,0.65,0.9022845,0.65,0.9209713,0.7,0.9022845,0.7,0.9209713,0.675,0.9116279,0.675,0.9164896,0.675,0.9116279,0.675,0.9065197,0.6561558,0.9164896,0.6938442,0.9164896,0.6561558,0.9065197,0.6938442,0.9065197,0.725,0.9213697,0.7,0.9213697,0.725,0.9213697,0.75,0.9213697,0.7,0.9120263,0.7,0.9307131,0.75,0.9120263,0.75,0.9307131,0.725,0.9213697,0.725,0.9261833,0.725,0.9213697,0.725,0.91628,0.7061558,0.9261833,0.7438442,0.9261833,0.7061558,0.91628,0.7438442,0.91628,0.775,0.9201949,0.75,0.9201949,0.775,0.9201949,0.8,0.9201949,0.75,0.9108515,0.75,0.9295383,0.8,0.9108515,0.8,0.9295383,0.775,0.9201949,0.775,0.9249451,0.775,0.9201949,0.775,0.9151806,0.7561558,0.9249451,0.7938442,0.9249451,0.7561558,0.9151806,0.7938442,0.9151806,0.825,0.9058139,0.8,0.9058139,0.825,0.9058139,0.85,0.9058139,0.8,0.8964705,0.8,0.9151573,0.85,0.8964705,0.85,0.9151573,0.825,0.9058139,0.825,0.9129023,0.825,0.9058139,0.825,0.8982344,0.8061558,0.9129023,0.8438442,0.9129023,0.8061558,0.8982344,0.8438442,0.8982344,0.875,0.9042801,0.85,0.9042801,0.875,0.9042801,0.9,0.9042801,0.85,0.8949367,0.85,0.9136236,0.9,0.8949367,0.9,0.9136236,0.875,0.9042801,0.875,0.9101158,0.875,0.9042801,0.875,0.8981194,0.8561558,0.9101158,0.8938442,0.9101158,0.8561558,0.8981194,0.8938442,0.8981194,0.925,0.4106969,0.9,0.4106969,0.925,0.4106969,0.95,0.4106969,0.9,0.4013535,0.9,0.4200403,0.95,0.4013535,0.95,0.4200403,0.925,0.4106969,0.925,0.4197443,0.925,0.4106969,0.925,0.4017085,0.9061558,0.4197443,0.9438442,0.4197443,0.9061558,0.4017085,0.9438442,0.4017085,0.975,0,0.95,0,0.975,0,1,0,0.95,0,0.95,0.009343391,1,0,1,0.009343391,0.975,0,0.975,5.891419e-4,0.9561558,5.891419e-4,0.9938442,5.891419e-4,1.025,0,1,0,1.025,0,1.05,0,1,0,1,0.009343391,1.05,0,1.05,0.009343391,1.025,0,1.025,5.938932e-4,1.006156,5.938932e-4,1.043844,5.938932e-4,1.075,0,1.05,0,1.075,0,1.1,0,1.05,0,1.05,0.009343391,1.1,0,1.1,0.009343391,1.075,0,1.075,6.12669e-4,1.056156,6.12669e-4,1.093844,6.12669e-4,1.125,0,1.1,0,1.125,0,1.15,0,1.1,0,1.1,0.009343391,1.15,0,1.15,0.009343391,1.125,0,1.125,6.207252e-4,1.106156,6.207252e-4,1.143844,6.207252e-4,1.175,0,1.15,0,1.175,0,1.2,0,1.15,0,1.15,0.009343391,1.2,0,1.2,0.009343391,1.175,0,1.175,6.240919e-4,1.156156,6.240919e-4,1.193844,6.240919e-4]}},{\"_typename\":\"TWebSnapshot\",\"fUniqueID\":0,\"fBits\":0,\"fObjectID\":\"\",\"fOption\":\"blNDC\",\"fKind\":1,\"fSnapshot\":{\"_typename\":\"TPaveText\",\"fUniqueID\":0,\"fBits\":9,\"fLineColor\":1,\"fLineStyle\":1,\"fLineWidth\":1,\"fFillColor\":0,\"fFillStyle\":0,\"fX1\":-1.24674122348045,\"fY1\":1.06389088491862,\"fX2\":1.24674122348045,\"fY2\":1.14798140890837,\"fX1NDC\":0.153682998638178,\"fY1NDC\":0.929440564269988,\"fX2NDC\":0.846317001361822,\"fY2NDC\":0.995000004768372,\"fBorderSize\":0,\"fInit\":1,\"fShadowColor\":1,\"fCornerRadius\":0,\"fOption\":\"blNDC\",\"fName\":\"title\",\"fTextAngle\":0,\"fTextSize\":0,\"fTextAlign\":22,\"fTextColor\":1,\"fTextFont\":42,\"fLabel\":\"\",\"fLongest\":39,\"fMargin\":0.05,\"fLines\":{\"_typename\":\"TList\",\"name\":\"TList\",\"arr\":[{\"_typename\":\"TLatex\",\"fUniqueID\":0,\"fBits\":0,\"fName\":\"\",\"fTitle\":\"segment efficiency x acceptance vs #eta\",\"fTextAngle\":0,\"fTextSize\":0,\"fTextAlign\":0,\"fTextColor\":0,\"fTextFont\":0,\"fX\":0,\"fY\":0,\"fLineColor\":1,\"fLineStyle\":1,\"fLineWidth\":2,\"fLimitFactorSize\":3,\"fOriginSize\":0.0557255260646343}],\"opt\":[\"\"]}}}]},{\"_typename\":\"TPadWebSnapshot\",\"fUniqueID\":0,\"fBits\":0,\"fObjectID\":\"\",\"fOption\":\"\",\"fKind\":3,\"fSnapshot\":{\"_typename\":\"TPad\",\"fUniqueID\":0,\"fBits\":9,\"fLineColor\":1,\"fLineStyle\":1,\"fLineWidth\":1,\"fFillColor\":0,\"fFillStyle\":1001,\"fLeftMargin\":0.1,\"fRightMargin\":0.1,\"fBottomMargin\":0.1,\"fTopMargin\":0.1,\"fXfile\":2,\"fYfile\":2,\"fAfile\":1,\"fXstat\":0.99,\"fYstat\":0.99,\"fAstat\":2,\"fFrameFillColor\":0,\"fFrameLineColor\":1,\"fFrameFillStyle\":1001,\"fFrameLineStyle\":1,\"fFrameLineWidth\":1,\"fFrameBorderSize\":1,\"fFrameBorderMode\":0,\"fX1\":-1.80000002682209,\"fY1\":-0.134842145364413,\"fX2\":1.80000002682209,\"fY2\":1.21357922790754,\"fXtoAbsPixelk\":597,\"fXtoPixelk\":191.04000017792,\"fXtoPixel\":106.133331850668,\"fYtoAbsPixelk\":538.823998465776,\"fYtoPixelk\":247.103998593628,\"fYtoPixel\":-203.615876830462,\"fUtoAbsPixelk\":405.95999982208,\"fUtoPixelk\":0,\"fUtoPixel\":382.08000035584,\"fVtoAbsPixelk\":566.280000127852,\"fVtoPixelk\":274.560000255704,\"fVtoPixel\":-274.560000255704,\"fAbsPixeltoXk\":-5.62500007858035,\"fPixeltoXk\":-1.80000002682209,\"fPixeltoX\":0.00942211068438919,\"fAbsPixeltoYk\":2.64627693504678,\"fPixeltoYk\":-0.134842145364413,\"fPixeltoY\":-0.0049112083770984,\"fXlowNDC\":0.509999999776483,\"fYlowNDC\":0.00999999977648258,\"fXUpNDC\":0.990000000223517,\"fYUpNDC\":0.490000000223517,\"fWNDC\":0.480000000447035,\"fHNDC\":0.480000000447035,\"fAbsXlowNDC\":0.509999999776483,\"fAbsYlowNDC\":0.00999999977648258,\"fAbsWNDC\":0.480000000447035,\"fAbsHNDC\":0.480000000447035,\"fUxmin\":-1.44,\"fUymin\":0,\"fUxmax\":1.44,\"fUymax\":1.07873708254313,\"fTheta\":30,\"fPhi\":30,\"fAspectRatio\":0,\"fNumber\":4,\"fTickx\":0,\"fTicky\":0,\"fLogx\":0,\"fLogy\":0,\"fLogz\":0,\"fPadPaint\":0,\"fCrosshair\":0,\"fCrosshairPos\":0,\"fBorderSize\":2,\"fBorderMode\":0,\"fModified\":true,\"fGridx\":false,\"fGridy\":false,\"fAbsCoord\":false,\"fEditable\":true,\"fFixedAspectRatio\":false,\"fPrimitives\":{\"_typename\":\"TList\",\"name\":\"TList\",\"arr\":[],\"opt\":[]},\"fExecs\":{\"_typename\":\"TList\",\"name\":\"TList\",\"arr\":[],\"opt\":[]},\"fName\":\"canvas4_4\",\"fTitle\":\"canvas4_4\",\"fNumPaletteColor\":0,\"fNextPaletteColor\":0},\"fActive\":false,\"fReadOnly\":true,\"fWithoutPrimitives\":false,\"fHasExecs\":true,\"fPrimitives\":[{\"_typename\":\"TWebSnapshot\",\"fUniqueID\":0,\"fBits\":0,\"fObjectID\":\"\",\"fOption\":\"\",\"fKind\":1,\"fSnapshot\":{\"_typename\":\"TFrame\",\"fUniqueID\":0,\"fBits\":8,\"fLineColor\":1,\"fLineStyle\":1,\"fLineWidth\":1,\"fFillColor\":0,\"fFillStyle\":1001,\"fX1\":-1.44,\"fY1\":0,\"fX2\":1.44,\"fY2\":1.07873708254313,\"fBorderSize\":1,\"fBorderMode\":0}},{\"_typename\":\"TWebSnapshot\",\"fUniqueID\":0,\"fBits\":0,\"fObjectID\":\"\",\"fOption\":\"ap\",\"fKind\":2,\"fSnapshot\":{\"_typename\":\"TWebPainting\",\"fUniqueID\":0,\"fBits\":0,\"fOper\":\"y0:1001;b;z1:1:1;r;l2;l2;l2;l2;l2;l2;l2;l2;l2;l2;l2;l2;l2;l2;l2;l2;l2;l2;l2;l2;l2;l2;l2;l2;l2;l2;l2;l2;l2;l2;l2;l2;o1:42:-35:11:0;t1;o1:122:-35:11:0;t-;o1:42:-35:11:0;t0.5;o1:122:-35:11:0;t-;o1:42:-35:11:0;t0;o1:42:-35:11:0;t0.5;o1:42:-35:11:0;t1;o1:122:-35:11:0;th;o1:42:-35:11:0;tmuon ;l2;l2;l2;l2;l2;l2;l2;l2;l2;l2;l2;l2;l2;l2;l2;l2;l2;l2;l2;l2;l2;l2;l2;l2;o1:42:-35:11:0;t0;o1:42:-35:11:0;t0.2;o1:42:-35:11:0;t0.4;o1:42:-35:11:0;t0.6;o1:42:-35:11:0;t0.8;o1:42:-35:11:0;t1;o1:42:-35:11:90;tEfficiency;x1:1:1;m48;l2;l2;l2;l2;l2;l2;l2;l2;l2;l2;l2;l2;l2;l2;l2;l2;l2;l2;l2;l2;l2;l2;l2;l2;l2;l2;l2;l2;l2;l2;l2;l2;l2;l2;l2;l2;l2;l2;l2;l2;l2;l2;l2;l2;l2;l2;l2;l2;l2;l2;l2;l2;l2;l2;l2;l2;l2;l2;l2;l2;l2;l2;l2;l2;l2;l2;l2;l2;l2;l2;l2;l2;l2;l2;l2;l2;l2;l2;l2;l2;l2;l2;l2;l2;l2;l2;l2;l2;l2;l2;l2;l2;l2;l2;l2;l2;l2;l2;l2;l2;l2;l2;l2;l2;l2;l2;l2;l2;l2;l2;l2;l2;l2;l2;l2;l2;l2;l2;l2;l2;l2;l2;l2;l2;l2;l2;l2;l2;l2;l2;l2;l2;l2;l2;l2;l2;l2;l2;l2;l2;l2;l2;l2;l2;l2;l2;l2;l2;l2;l2;l2;l2;l2;l2;l2;l2;l2;l2;l2;l2;l2;l2;l2;l2;l2;l2;l2;l2;l2;l2;l2;l2;l2;l2;l2;l2;l2;l2;l2;l2;l2;l2;l2;l2;l2;l2;l2;l2;l2;l2;l2;l2;l2;l2;l2;l2;l2;l2;l2;l2;l2;l2;l2;l2;l2;l2;l2;l2;l2;l2;l2;l2;l2;l2;l2;l2;l2;l2;l2;l2;l2;l2;l2;l2;l2;l2;l2;l2;l2;l2;l2;l2;l2;l2;l2;l2;l2;l2;l2;l2;l2;l2;l2;l2;l2;l2;l2;l2;l2;l2;l2;l2;l2;l2;l2;l2;l2;l2;l2;l2;l2;l2;l2;l2;l2;l2;l2;l2;l2;l2;l2;l2;l2;l2;l2;l2;l2;l2;l2;l2;l2;l2;l2;l2;l2;l2;l2;l2;l2;l2;l2;l2;l2;l2;l2;l2;l2;l2;l2;l2;l2;l2;l2;l2;l2;l2;l2;l2;l2;l2;l2;l2;l2;l2;l2;l2;l2;l2;l2;l2;l2;l2;l2;l2;l2;l2;l2;l2;l2;l2;l2;l2;l2;l2;l2;l2;l2;l2;l2;l2;l2;l2;l2;l2;l2;l2;l2;l2;l2;l2;l2;l2;l2;l2;l2;l2\",\"fBuf\":[-1.44,0,1.44,1.078737,-1.44,0,1.44,1.078737,-1.44,0,1.44,0,-1,0.03236211,-1,0,-0.9,0.01618106,-0.9,0,-0.8,0.01618106,-0.8,0,-0.7,0.01618106,-0.7,0,-0.6,0.01618106,-0.6,0,-0.5,0.03236211,-0.5,0,-0.4,0.01618106,-0.4,0,-0.3,0.01618106,-0.3,0,-0.2,0.01618106,-0.2,0,-0.1,0.01618106,-0.1,0,0,0.03236211,0,0,0.1,0.01618106,0.1,0,0.2,0.01618106,0.2,0,0.3,0.01618106,0.3,0,0.4,0.01618106,0.4,0,0.5,0.03236211,0.5,0,0.6,0.01618106,0.6,0,0.7,0.01618106,0.7,0,0.8,0.01618106,0.8,0,0.9,0.01618106,0.9,0,1,0.03236211,1,0,-1,0.03236211,-1,0,-1.1,0.01618106,-1.1,0,-1.2,0.01618106,-1.2,0,-1.3,0.01618106,-1.3,0,-1.4,0.01618106,-1.4,0,1,0.03236211,1,0,1.1,0.01618106,1.1,0,1.2,0.01618106,1.2,0,1.3,0.01618106,1.3,0,1.4,0.01618106,1.4,0,-0.9987437,-0.04506525,-1.045854,-0.04506525,-0.5464824,-0.04506525,-0.5841709,-0.04506525,-0.02826633,-0.04506525,0.4334171,-0.04506525,0.9798995,-0.04506525,1.394472,-0.08435492,1.111809,-0.08435492,-1.44,0,-1.44,1.078737,-1.3536,0,-1.44,0,-1.3968,0.05,-1.44,0.05,-1.3968,0.1,-1.44,0.1,-1.3968,0.15,-1.44,0.15,-1.3536,0.2,-1.44,0.2,-1.3968,0.25,-1.44,0.25,-1.3968,0.3,-1.44,0.3,-1.3968,0.35,-1.44,0.35,-1.3536,0.4,-1.44,0.4,-1.3968,0.45,-1.44,0.45,-1.3968,0.5,-1.44,0.5,-1.3968,0.55,-1.44,0.55,-1.3536,0.6,-1.44,0.6,-1.3968,0.65,-1.44,0.65,-1.3968,0.7,-1.44,0.7,-1.3968,0.75,-1.44,0.75,-1.3536,0.8,-1.44,0.8,-1.3968,0.85,-1.44,0.85,-1.3968,0.9,-1.44,0.9,-1.3968,0.95,-1.44,0.95,-1.3536,1,-1.44,1,-1.3536,1,-1.44,1,-1.3968,1.05,-1.44,1.05,-1.507538,-0.02050921,-1.582915,0.1808503,-1.582915,0.3822099,-1.582915,0.5786582,-1.582915,0.7800177,-1.498116,0.9813773,-1.658291,0.8880643,-1.175,0,-1.125,0,-1.075,0,-1.025,0,-0.975,0,-0.925,0,-0.875,0,-0.825,0.2339806,-0.775,0.918541,-0.725,0.9702249,-0.675,0.9744745,-0.625,0.9739631,-0.575,0.9716867,-0.525,0.5498714,-0.475,0.9427263,-0.425,0.9734465,-0.375,0.9683421,-0.325,0.9729369,-0.275,0.9707745,-0.225,0.8368184,-0.175,0.2600592,-0.125,0.9706622,-0.075,0.9744436,-0.025,0.9728767,0.025,0.9739569,0.075,0.9738598,0.125,0.9669967,0.175,0.2682999,0.225,0.8066502,0.275,0.9774542,0.325,0.9744624,0.375,0.9757746,0.425,0.9726298,0.475,0.952492,0.525,0.5622318,0.575,0.970448,0.625,0.9752116,0.675,0.9702591,0.725,0.9778633,0.775,0.9134417,0.825,0.2359948,0.875,0,0.925,0,0.975,0,1.025,0,1.075,0,1.125,0,1.175,0,-1.175,0,-1.2,0,-1.175,0,-1.15,0,-1.2,0,-1.2,0.009822417,-1.15,0,-1.15,0.009822417,-1.175,0,-1.175,6.397055e-4,-1.193844,6.397055e-4,-1.156156,6.397055e-4,-1.125,0,-1.15,0,-1.125,0,-1.1,0,-1.15,0,-1.15,0.009822417,-1.1,0,-1.1,0.009822417,-1.125,0,-1.125,6.352906e-4,-1.143844,6.352906e-4,-1.106156,6.352906e-4,-1.075,0,-1.1,0,-1.075,0,-1.05,0,-1.1,0,-1.1,0.009822417,-1.05,0,-1.05,0.009822417,-1.075,0,-1.075,6.359489e-4,-1.093844,6.359489e-4,-1.056156,6.359489e-4,-1.025,0,-1.05,0,-1.025,0,-1,0,-1.05,0,-1.05,0.009822417,-1,0,-1,0.009822417,-1.025,0,-1.025,5.908436e-4,-1.043844,5.908436e-4,-1.006156,5.908436e-4,-0.975,0,-1,0,-0.975,0,-0.95,0,-1,0,-1,0.009822417,-0.95,0,-0.95,0.009822417,-0.975,0,-0.975,6.012637e-4,-0.9938442,6.012637e-4,-0.9561558,6.012637e-4,-0.925,0,-0.95,0,-0.925,0,-0.9,0,-0.95,0,-0.95,0.009822417,-0.9,0,-0.9,0.009822417,-0.925,0,-0.925,5.731841e-4,-0.9438442,5.731841e-4,-0.9061558,5.731841e-4,-0.875,0,-0.9,0,-0.875,0,-0.85,0,-0.9,0,-0.9,0.009822417,-0.85,0,-0.85,0.009822417,-0.875,0,-0.875,5.937016e-4,-0.8938442,5.937016e-4,-0.8561558,5.937016e-4,-0.825,0.2339806,-0.85,0.2339806,-0.825,0.2339806,-0.8,0.2339806,-0.85,0.2241582,-0.85,0.243803,-0.8,0.2241582,-0.8,0.243803,-0.825,0.2339806,-0.825,0.2418454,-0.825,0.2339806,-0.825,0.2262916,-0.8438442,0.2418454,-0.8061558,0.2418454,-0.8438442,0.2262916,-0.8061558,0.2262916,-0.775,0.918541,-0.8,0.918541,-0.775,0.918541,-0.75,0.918541,-0.8,0.9087186,-0.8,0.9283634,-0.75,0.9087186,-0.75,0.9283634,-0.775,0.918541,-0.775,0.923331,-0.775,0.918541,-0.775,0.9134885,-0.7938442,0.923331,-0.7561558,0.923331,-0.7938442,0.9134885,-0.7561558,0.9134885,-0.725,0.9702249,-0.75,0.9702249,-0.725,0.9702249,-0.7,0.9702249,-0.75,0.9604025,-0.75,0.9800473,-0.7,0.9604025,-0.7,0.9800473,-0.725,0.9702249,-0.725,0.9732534,-0.725,0.9702249,-0.725,0.9668829,-0.7438442,0.9732534,-0.7061558,0.9732534,-0.7438442,0.9668829,-0.7061558,0.9668829,-0.675,0.9744745,-0.7,0.9744745,-0.675,0.9744745,-0.65,0.9744745,-0.7,0.9646521,-0.7,0.9842969,-0.65,0.9646521,-0.65,0.9842969,-0.675,0.9744745,-0.675,0.9772094,-0.675,0.9744745,-0.675,0.9714389,-0.6938442,0.9772094,-0.6561558,0.9772094,-0.6938442,0.9714389,-0.6561558,0.9714389,-0.625,0.9739631,-0.65,0.9739631,-0.625,0.9739631,-0.6,0.9739631,-0.65,0.9641407,-0.65,0.9837855,-0.6,0.9641407,-0.6,0.9837855,-0.625,0.9739631,-0.625,0.9767359,-0.625,0.9739631,-0.625,0.9708875,-0.6438442,0.9767359,-0.6061558,0.9767359,-0.6438442,0.9708875,-0.6061558,0.9708875,-0.575,0.9716867,-0.6,0.9716867,-0.575,0.9716867,-0.55,0.9716867,-0.6,0.9618644,-0.6,0.9815091,-0.55,0.9618644,-0.55,0.9815091,-0.575,0.9716867,-0.575,0.9745684,-0.575,0.9716867,-0.575,0.9685062,-0.5938442,0.9745684,-0.5561558,0.9745684,-0.5938442,0.9685062,-0.5561558,0.9685062,-0.525,0.5498714,-0.55,0.5498714,-0.525,0.5498714,-0.5,0.5498714,-0.55,0.540049,-0.55,0.5596938,-0.5,0.540049,-0.5,0.5596938,-0.525,0.5498714,-0.525,0.5584092,-0.525,0.5498714,-0.525,0.5413046,-0.5438442,0.5584092,-0.5061558,0.5584092,-0.5438442,0.5413046,-0.5061558,0.5413046,-0.475,0.9427263,-0.5,0.9427263,-0.475,0.9427263,-0.45,0.9427263,-0.5,0.9329038,-0.5,0.9525486,-0.45,0.9329038,-0.45,0.9525486,-0.475,0.9427263,-0.475,0.9466709,-0.475,0.9427263,-0.475,0.9385187,-0.4938442,0.9466709,-0.4561558,0.9466709,-0.4938442,0.9385187,-0.4561558,0.9385187,-0.425,0.9734465,-0.45,0.9734465,-0.425,0.9734465,-0.4,0.9734465,-0.45,0.9636241,-0.45,0.9832689,-0.4,0.9636241,-0.4,0.9832689,-0.425,0.9734465,-0.425,0.9761088,-0.425,0.9734465,-0.425,0.9705116,-0.4438442,0.9761088,-0.4061558,0.9761088,-0.4438442,0.9705116,-0.4061558,0.9705116,-0.375,0.9683421,-0.4,0.9683421,-0.375,0.9683421,-0.35,0.9683421,-0.4,0.9585197,-0.4,0.9781646,-0.35,0.9585197,-0.35,0.9781646,-0.375,0.9683421,-0.375,0.9712639,-0.375,0.9683421,-0.375,0.9651479,-0.3938442,0.9712639,-0.3561558,0.9712639,-0.3938442,0.9651479,-0.3561558,0.9651479,-0.325,0.9729369,-0.35,0.9729369,-0.325,0.9729369,-0.3,0.9729369,-0.35,0.9631144,-0.35,0.9827593,-0.3,0.9631144,-0.3,0.9827593,-0.325,0.9729369,-0.325,0.9759053,-0.325,0.9729369,-0.325,0.9696346,-0.3438442,0.9759053,-0.3061558,0.9759053,-0.3438442,0.9696346,-0.3061558,0.9696346,-0.275,0.9707745,-0.3,0.9707745,-0.275,0.9707745,-0.25,0.9707745,-0.3,0.960952,-0.3,0.9805969,-0.25,0.960952,-0.25,0.9805969,-0.275,0.9707745,-0.275,0.9744949,-0.275,0.9707745,-0.275,0.9665655,-0.2938442,0.9744949,-0.2561558,0.9744949,-0.2938442,0.9665655,-0.2561558,0.9665655,-0.225,0.8368184,-0.25,0.8368184,-0.225,0.8368184,-0.2,0.8368184,-0.25,0.826996,-0.25,0.8466408,-0.2,0.826996,-0.2,0.8466408,-0.225,0.8368184,-0.225,0.8443632,-0.225,0.8368184,-0.225,0.8289898,-0.2438442,0.8443632,-0.2061558,0.8443632,-0.2438442,0.8289898,-0.2061558,0.8289898,-0.175,0.2600592,-0.2,0.2600592,-0.175,0.2600592,-0.15,0.2600592,-0.2,0.2502367,-0.2,0.2698816,-0.15,0.2502367,-0.15,0.2698816,-0.175,0.2600592,-0.175,0.2678238,-0.175,0.2600592,-0.175,0.2524393,-0.1938442,0.2678238,-0.1561558,0.2678238,-0.1938442,0.2524393,-0.1561558,0.2524393,-0.125,0.9706622,-0.15,0.9706622,-0.125,0.9706622,-0.1,0.9706622,-0.15,0.9608398,-0.15,0.9804846,-0.1,0.9608398,-0.1,0.9804846,-0.125,0.9706622,-0.125,0.9734862,-0.125,0.9706622,-0.125,0.9675621,-0.1438442,0.9734862,-0.1061558,0.9734862,-0.1438442,0.9675621,-0.1061558,0.9675621,-0.075,0.9744436,-0.1,0.9744436,-0.075,0.9744436,-0.05,0.9744436,-0.1,0.9646211,-0.1,0.9842659,-0.05,0.9646211,-0.05,0.9842659,-0.075,0.9744436,-0.075,0.9770615,-0.075,0.9744436,-0.075,0.9715512,-0.09384422,0.9770615,-0.05615578,0.9770615,-0.09384422,0.9715512,-0.05615578,0.9715512,-0.025,0.9728767,-0.05,0.9728767,-0.025,0.9728767,-4.857226e-17,0.9728767,-0.05,0.9630543,-0.05,0.9826992,-4.857226e-17,0.9630543,-4.857226e-17,0.9826992,-0.025,0.9728767,-0.025,0.975568,-0.025,0.9728767,-0.025,0.9699131,-0.04384422,0.975568,-0.006155779,0.975568,-0.04384422,0.9699131,-0.006155779,0.9699131,0.025,0.9739569,0,0.9739569,0.025,0.9739569,0.05,0.9739569,0,0.9641345,0,0.9837793,0.05,0.9641345,0.05,0.9837793,0.025,0.9739569,0.025,0.9766241,0.025,0.9739569,0.025,0.9710103,0.006155779,0.9766241,0.04384422,0.9766241,0.006155779,0.9710103,0.04384422,0.9710103,0.075,0.9738598,0.05,0.9738598,0.075,0.9738598,0.1,0.9738598,0.05,0.9640374,0.05,0.9836823,0.1,0.9640374,0.1,0.9836823,0.075,0.9738598,0.075,0.9765227,0.075,0.9738598,0.075,0.9709197,0.05615578,0.9765227,0.09384422,0.9765227,0.05615578,0.9709197,0.09384422,0.9709197,0.125,0.9669967,0.1,0.9669967,0.125,0.9669967,0.15,0.9669967,0.1,0.9571743,0.1,0.9768191,0.15,0.9571743,0.15,0.9768191,0.125,0.9669967,0.125,0.9699638,0.125,0.9669967,0.125,0.9637607,0.1061558,0.9699638,0.1438442,0.9699638,0.1061558,0.9637607,0.1438442,0.9637607,0.175,0.2682999,0.15,0.2682999,0.175,0.2682999,0.2,0.2682999,0.15,0.2584775,0.15,0.2781223,0.2,0.2584775,0.2,0.2781223,0.175,0.2682999,0.175,0.2761283,0.175,0.2682999,0.175,0.2606108,0.1561558,0.2761283,0.1938442,0.2761283,0.1561558,0.2606108,0.1938442,0.2606108,0.225,0.8066502,0.2,0.8066502,0.225,0.8066502,0.25,0.8066502,0.2,0.7968279,0.2,0.8164726,0.25,0.7968279,0.25,0.8164726,0.225,0.8066502,0.225,0.8147269,0.225,0.8066502,0.225,0.7983154,0.2061558,0.8147269,0.2438442,0.8147269,0.2061558,0.7983154,0.2438442,0.7983154,0.275,0.9774542,0.25,0.9774542,0.275,0.9774542,0.3,0.9774542,0.25,0.9676318,0.25,0.9872766,0.3,0.9676318,0.3,0.9872766,0.275,0.9774542,0.275,0.9806701,0.275,0.9774542,0.275,0.9737571,0.2561558,0.9806701,0.2938442,0.9806701,0.2561558,0.9737571,0.2938442,0.9737571,0.325,0.9744624,0.3,0.9744624,0.325,0.9744624,0.35,0.9744624,0.3,0.96464,0.3,0.9842848,0.35,0.96464,0.35,0.9842848,0.325,0.9744624,0.325,0.9773558,0.325,0.9744624,0.325,0.9712316,0.3061558,0.9773558,0.3438442,0.9773558,0.3061558,0.9712316,0.3438442,0.9712316,0.375,0.9757746,0.35,0.9757746,0.375,0.9757746,0.4,0.9757746,0.35,0.9659522,0.35,0.9855971,0.4,0.9659522,0.4,0.9855971,0.375,0.9757746,0.375,0.9783565,0.375,0.9757746,0.375,0.9729101,0.3561558,0.9783565,0.3938442,0.9783565,0.3561558,0.9729101,0.3938442,0.9729101,0.425,0.9726298,0.4,0.9726298,0.425,0.9726298,0.45,0.9726298,0.4,0.9628074,0.4,0.9824522,0.45,0.9628074,0.45,0.9824522,0.425,0.9726298,0.425,0.9753731,0.425,0.9726298,0.425,0.969606,0.4061558,0.9753731,0.4438442,0.9753731,0.4061558,0.969606,0.4438442,0.969606,0.475,0.952492,0.45,0.952492,0.475,0.952492,0.5,0.952492,0.45,0.9426696,0.45,0.9623144,0.5,0.9426696,0.5,0.9623144,0.475,0.952492,0.475,0.9561332,0.475,0.952492,0.475,0.9485765,0.4561558,0.9561332,0.4938442,0.9561332,0.4561558,0.9485765,0.4938442,0.9485765,0.525,0.5622318,0.5,0.5622318,0.525,0.5622318,0.55,0.5622318,0.5,0.5524094,0.5,0.5720541,0.55,0.5524094,0.55,0.5720541,0.525,0.5622318,0.525,0.5707473,0.525,0.5622318,0.525,0.55368,0.5061558,0.5707473,0.5438442,0.5707473,0.5061558,0.55368,0.5438442,0.55368,0.575,0.970448,0.55,0.970448,0.575,0.970448,0.6,0.970448,0.55,0.9606256,0.55,0.9802704,0.6,0.9606256,0.6,0.9802704,0.575,0.970448,0.575,0.9734703,0.575,0.970448,0.575,0.9671111,0.5561558,0.9734703,0.5938442,0.9734703,0.5561558,0.9671111,0.5938442,0.9671111,0.625,0.9752116,0.6,0.9752116,0.625,0.9752116,0.65,0.9752116,0.6,0.9653892,0.6,0.985034,0.65,0.9653892,0.65,0.985034,0.625,0.9752116,0.625,0.9779164,0.625,0.9752116,0.625,0.9722034,0.6061558,0.9779164,0.6438442,0.9779164,0.6061558,0.9722034,0.6438442,0.9722034,0.675,0.9702591,0.65,0.9702591,0.675,0.9702591,0.7,0.9702591,0.65,0.9604367,0.65,0.9800816,0.7,0.9604367,0.7,0.9800816,0.675,0.9702591,0.675,0.9731776,0.675,0.9702591,0.675,0.9670497,0.6561558,0.9731776,0.6938442,0.9731776,0.6561558,0.9670497,0.6938442,0.9670497,0.725,0.9778633,0.7,0.9778633,0.725,0.9778633,0.75,0.9778633,0.7,0.9680409,0.7,0.9876857,0.75,0.9680409,0.75,0.9876857,0.725,0.9778633,0.725,0.9804989,0.725,0.9778633,0.725,0.9749025,0.7061558,0.9804989,0.7438442,0.9804989,0.7061558,0.9749025,0.7438442,0.9749025,0.775,0.9134417,0.75,0.9134417,0.775,0.9134417,0.8,0.9134417,0.75,0.9036192,0.75,0.9232641,0.8,0.9036192,0.8,0.9232641,0.775,0.9134417,0.775,0.9182968,0.775,0.9134417,0.775,0.9083349,0.7561558,0.9182968,0.7938442,0.9182968,0.7561558,0.9083349,0.7938442,0.9083349,0.825,0.2359948,0.8,0.2359948,0.825,0.2359948,0.85,0.2359948,0.8,0.2261724,0.8,0.2458173,0.85,0.2261724,0.85,0.2458173,0.825,0.2359948,0.825,0.2438607,0.825,0.2359948,0.825,0.2283026,0.8061558,0.2438607,0.8438442,0.2438607,0.8061558,0.2283026,0.8438442,0.2283026,0.875,0,0.85,0,0.875,0,0.9,0,0.85,0,0.85,0.009822417,0.9,0,0.9,0.009822417,0.875,0,0.875,5.684059e-4,0.8561558,5.684059e-4,0.8938442,5.684059e-4,0.925,0,0.9,0,0.925,0,0.95,0,0.9,0,0.9,0.009822417,0.95,0,0.95,0.009822417,0.925,0,0.925,5.89708e-4,0.9061558,5.89708e-4,0.9438442,5.89708e-4,0.975,0,0.95,0,0.975,0,1,0,0.95,0,0.95,0.009822417,1,0,1,0.009822417,0.975,0,0.975,5.891419e-4,0.9561558,5.891419e-4,0.9938442,5.891419e-4,1.025,0,1,0,1.025,0,1.05,0,1,0,1,0.009822417,1.05,0,1.05,0.009822417,1.025,0,1.025,5.938932e-4,1.006156,5.938932e-4,1.043844,5.938932e-4,1.075,0,1.05,0,1.075,0,1.1,0,1.05,0,1.05,0.009822417,1.1,0,1.1,0.009822417,1.075,0,1.075,6.12669e-4,1.056156,6.12669e-4,1.093844,6.12669e-4,1.125,0,1.1,0,1.125,0,1.15,0,1.1,0,1.1,0.009822417,1.15,0,1.15,0.009822417,1.125,0,1.125,6.207252e-4,1.106156,6.207252e-4,1.143844,6.207252e-4,1.175,0,1.15,0,1.175,0,1.2,0,1.15,0,1.15,0.009822417,1.2,0,1.2,0.009822417,1.175,0,1.175,6.240919e-4,1.156156,6.240919e-4,1.193844,6.240919e-4]}},{\"_typename\":\"TWebSnapshot\",\"fUniqueID\":0,\"fBits\":0,\"fObjectID\":\"\",\"fOption\":\"blNDC\",\"fKind\":1,\"fSnapshot\":{\"_typename\":\"TPaveText\",\"fUniqueID\":0,\"fBits\":9,\"fLineColor\":1,\"fLineStyle\":1,\"fLineWidth\":1,\"fFillColor\":0,\"fFillStyle\":0,\"fX1\":-1.24674122348045,\"fY1\":1.11843537668318,\"fX2\":1.24674122348045,\"fY2\":1.20683712747095,\"fX1NDC\":0.153682998638178,\"fY1NDC\":0.929440564269988,\"fX2NDC\":0.846317001361822,\"fY2NDC\":0.995000004768372,\"fBorderSize\":0,\"fInit\":1,\"fShadowColor\":1,\"fCornerRadius\":0,\"fOption\":\"blNDC\",\"fName\":\"title\",\"fTextAngle\":0,\"fTextSize\":0,\"fTextAlign\":22,\"fTextColor\":1,\"fTextFont\":42,\"fLabel\":\"\",\"fLongest\":39,\"fMargin\":0.05,\"fLines\":{\"_typename\":\"TList\",\"name\":\"TList\",\"arr\":[{\"_typename\":\"TLatex\",\"fUniqueID\":0,\"fBits\":0,\"fName\":\"\",\"fTitle\":\"segment efficiency x acceptance vs #eta\",\"fTextAngle\":0,\"fTextSize\":0,\"fTextAlign\":0,\"fTextColor\":0,\"fTextFont\":0,\"fX\":0,\"fY\":0,\"fLineColor\":1,\"fLineStyle\":1,\"fLineWidth\":2,\"fLimitFactorSize\":3,\"fOriginSize\":0.0557255260646343}],\"opt\":[\"\"]}}}]}],\"fScripts\":\"\",\"fHighlightConnect\":false,\"fFixedSize\":false});\n",
       "   Core.settings.HandleKeys = false;\n",
       "   Core.draw(\"root_plot_1736009227870\", obj, \"\");\n",
       "}\n",
       "\n",
       "function script_load_root_plot_1736009227870(src, on_error) {\n",
       "    let script = document.createElement('script');\n",
       "    script.src = src;\n",
       "    script.onload = function() { display_root_plot_1736009227870(JSROOT); };\n",
       "    script.onerror = function() { script.remove(); on_error(); };\n",
       "    document.head.appendChild(script);\n",
       "}\n",
       "\n",
       "if (typeof requirejs !== 'undefined') {\n",
       "\n",
       "    // We are in jupyter notebooks, use require.js which should be configured already\n",
       "    requirejs.config({\n",
       "       paths: { 'JSRootCore' : [ 'build/jsroot', 'https://root.cern/js/7.4.3/build/jsroot', 'https://jsroot.gsi.de/7.4.3/build/jsroot' ] }\n",
       "    })(['JSRootCore'],  function(Core) {\n",
       "       display_root_plot_1736009227870(Core);\n",
       "    });\n",
       "\n",
       "} else if (typeof JSROOT !== 'undefined') {\n",
       "\n",
       "   // JSROOT already loaded, just use it\n",
       "   display_root_plot_1736009227870(JSROOT);\n",
       "\n",
       "} else {\n",
       "\n",
       "    // We are in jupyterlab without require.js, directly loading jsroot\n",
       "    // Jupyterlab might be installed in a different base_url so we need to know it.\n",
       "    try {\n",
       "        var base_url = JSON.parse(document.getElementById('jupyter-config-data').innerHTML).baseUrl;\n",
       "    } catch(_) {\n",
       "        var base_url = '/';\n",
       "    }\n",
       "\n",
       "    // Try loading a local version of requirejs and fallback to cdn if not possible.\n",
       "    script_load_root_plot_1736009227870(base_url + 'static/build/jsroot.js', function(){\n",
       "        console.error('Fail to load JSROOT locally, please check your jupyter_notebook_config.py file');\n",
       "        script_load_root_plot_1736009227870('https://root.cern/js/7.4.3/build/jsroot.js', function(){\n",
       "            document.getElementById(\"root_plot_1736009227870\").innerHTML = \"Failed to load JSROOT\";\n",
       "        });\n",
       "    });\n",
       "}\n",
       "\n",
       "</script>\n"
      ],
      "text/plain": [
       "<IPython.core.display.HTML object>"
      ]
     },
     "metadata": {},
     "output_type": "display_data"
    }
   ],
   "source": [
    "effAccVsEtaMB1 = file.Get(\"effAccVsEtaMB1\")\n",
    "effAccVsEtaMB2 = file.Get(\"effAccVsEtaMB2\")\n",
    "effAccVsEtaMB3 = file.Get(\"effAccVsEtaMB3\")\n",
    "effAccVsEtaMB4 = file.Get(\"effAccVsEtaMB4\")\n",
    "\n",
    "canvas = ROOT.TCanvas(\"canvas4\", \"Canvas4\", 800, 600)\n",
    "canvas.Divide(2, 2)\n",
    "canvas.cd(1)\n",
    "effAccVsEtaMB1.Draw()\n",
    "canvas.cd(2)\n",
    "effAccVsEtaMB2.Draw()\n",
    "canvas.cd(3)\n",
    "effAccVsEtaMB3.Draw()\n",
    "canvas.cd(4)\n",
    "effAccVsEtaMB4.Draw()\n",
    "\n",
    "canvas.Draw()\n",
    "canvas.SaveAs(\"./output/effAccVsEta.png\")"
   ]
  },
  {
   "cell_type": "markdown",
   "metadata": {},
   "source": [
    "Did you see the execution time, running locally (on the JLab resources)? Let's try now distributed (turning on the `distributed` flag at the beginning of the notebook!"
   ]
  },
  {
   "cell_type": "markdown",
   "metadata": {},
   "source": [
    "# End of the notebook"
   ]
  },
  {
   "cell_type": "markdown",
   "metadata": {},
   "source": [
    "**Additional**: move the ROOT file just created to a remote site storage (in this case the Legnaro Tier-2 storage) via Davix/https:"
   ]
  },
  {
   "cell_type": "code",
   "execution_count": 27,
   "metadata": {},
   "outputs": [
    {
     "data": {
      "text/plain": [
       "0"
      ]
     },
     "execution_count": 27,
     "metadata": {},
     "output_type": "execute_result"
    }
   ],
   "source": [
    "os.system(\"davix-put ./output/results.root \" + \"davs://\" + config['Data']['writeRedirector'] + \"/store/user/todiotal/results.root\" + \" -E $X509_USER_PROXY --capath $X509_CERT_DIR\")"
   ]
  }
 ],
 "metadata": {
  "kernelspec": {
   "display_name": "Singularity kernel - Base ROOT 6.32.02 + CMSJMECalculator 0.2.0 + Correctionlib 2.6.1",
   "language": "python",
   "name": "singularity-kernel-root"
  },
  "language_info": {
   "codemirror_mode": {
    "name": "ipython",
    "version": 3
   },
   "file_extension": ".py",
   "mimetype": "text/x-python",
   "name": "python",
   "nbconvert_exporter": "python",
   "pygments_lexer": "ipython3",
   "version": "3.11.10"
  }
 },
 "nbformat": 4,
 "nbformat_minor": 4
}
